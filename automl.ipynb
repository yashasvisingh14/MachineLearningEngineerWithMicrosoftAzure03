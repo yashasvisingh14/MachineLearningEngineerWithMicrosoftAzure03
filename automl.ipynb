{
  "nbformat": 4,
  "nbformat_minor": 0,
  "metadata": {
    "kernel_info": {
      "name": "python3"
    },
    "kernelspec": {
      "name": "python3",
      "language": "python",
      "display_name": "Python 3"
    },
    "language_info": {
      "name": "python",
      "version": "3.6.9",
      "mimetype": "text/x-python",
      "codemirror_mode": {
        "name": "ipython",
        "version": 3
      },
      "pygments_lexer": "ipython3",
      "nbconvert_exporter": "python",
      "file_extension": ".py"
    },
    "nteract": {
      "version": "nteract-front-end@1.0.0"
    },
    "colab": {
      "name": "automl.ipynb",
      "provenance": [],
      "collapsed_sections": []
    },
    "microsoft": {
      "host": {
        "AzureML": {
          "notebookHasBeenCompleted": true
        }
      }
    }
  },
  "cells": [
    {
      "cell_type": "markdown",
      "metadata": {
        "id": "ai5y09LCz_Ul"
      },
      "source": [
        "# Automated ML\n",
        "\n",
        "Import Dependencies. In the cell below, import all the dependencies that you will need to complete the project."
      ]
    },
    {
      "cell_type": "code",
      "metadata": {
        "gather": {
          "logged": 1614523809848
        },
        "jupyter": {
          "outputs_hidden": false,
          "source_hidden": false
        },
        "nteract": {
          "transient": {
            "deleting": false
          }
        },
        "id": "9qCWApH7z_U7"
      },
      "source": [
        "from azureml.core import Workspace, Experiment\r\n",
        "from azureml.widgets import RunDetails\r\n",
        "from azureml.train.sklearn import SKLearn\r\n",
        "from azureml.data.dataset_factory import TabularDatasetFactory\r\n",
        "from train import split_data\r\n",
        "from sklearn.model_selection import train_test_split\r\n",
        "from azureml.core import ScriptRunConfig \r\n",
        "import os"
      ],
      "execution_count": null,
      "outputs": []
    },
    {
      "cell_type": "markdown",
      "metadata": {
        "id": "4jmInqzCz_U9"
      },
      "source": [
        "## Dataset\n",
        "\n",
        "### Overview\n",
        "For this project, the dataset chosen is the [***Heart Disease UCI***](https://github.com/yashasvisingh14/MachineLearningEngineerWithMicrosoftAzure03/blob/main/heart.csv) from Kaggle. This database contains 14 columns. The \"target\" field refers to the presence of heart disease in the patient (0 or 1).\n",
        "\n",
        "Attribute Information -\n",
        "\n",
        "\n",
        "1.   age\n",
        "2.   sex\n",
        "3.   chest pain type (4 values)\n",
        "4.   resting blood pressure\n",
        "5.   serum cholestoral in mg/dl\n",
        "6.   fasting blood sugar > 120 mg/dl\n",
        "7.   resting electrocardiographic results (values 0,1,2)\n",
        "8.   maximum heart rate achieved\n",
        "9.   exercise induced angina\n",
        "10.  oldpeak = ST depression induced by exercise relative to rest\n",
        "11.  the slope of the peak exercise ST segment\n",
        "12.  number of major vessels (0-3) colored by flourosopy\n",
        "13.  thal: 3 = normal; 6 = fixed defect; 7 = reversable defect\n",
        "14.  target\n",
        "\n",
        "The task here to classify the presence of heart disease in a person and thus a binary classification algorithm is required. All the features is being used for training the model and the column target is considered as the target variable.\n",
        "\n",
        "\n",
        "\n"
      ]
    },
    {
      "cell_type": "code",
      "metadata": {
        "gather": {
          "logged": 1614524214021
        },
        "jupyter": {
          "outputs_hidden": false,
          "source_hidden": false
        },
        "nteract": {
          "transient": {
            "deleting": false
          }
        },
        "id": "W7-DdqK_z_U_",
        "outputId": "358bbdc8-8adc-4c4e-a9c0-a52637530101"
      },
      "source": [
        "ws = Workspace.from_config()\n",
        "\n",
        "# choose a name for experiment\n",
        "experiment_name = 'Heart_AutoML'\n",
        "\n",
        "experiment=Experiment(ws, experiment_name)\n",
        "\n",
        "print('Workspace name: ' + ws.name, \n",
        "      'Azure region: ' + ws.location, \n",
        "      'Subscription id: ' + ws.subscription_id, \n",
        "      'Resource group: ' + ws.resource_group, sep = '\\n')\n",
        "\n",
        "web_path = \"https://raw.githubusercontent.com/yashasvisingh14/MachineLearningEngineerWithMicrosoftAzure03/main/heart.csv\"\n",
        "dataset = TabularDatasetFactory.from_delimited_files(path=web_path)"
      ],
      "execution_count": null,
      "outputs": [
        {
          "output_type": "stream",
          "text": [
            "Workspace name: quick-starts-ws-139614\n",
            "Azure region: southcentralus\n",
            "Subscription id: 81cefad3-d2c9-4f77-a466-99a7f541c7bb\n",
            "Resource group: aml-quickstarts-139614\n"
          ],
          "name": "stdout"
        }
      ]
    },
    {
      "cell_type": "code",
      "metadata": {
        "gather": {
          "logged": 1614524264095
        },
        "jupyter": {
          "outputs_hidden": false,
          "source_hidden": false
        },
        "nteract": {
          "transient": {
            "deleting": false
          }
        },
        "id": "S2RV5EjWz_VB",
        "outputId": "6182b2f6-8735-4332-867f-d1ccfbead354"
      },
      "source": [
        "from azureml.core.compute import ComputeTarget, AmlCompute\n",
        "from azureml.core.compute_target import ComputeTargetException\n",
        "\n",
        "cpu_cluster_name = \"cpucluster\"\n",
        "try:\n",
        "    cpu_cluster = ComputeTarget(workspace=ws, name=cpu_cluster_name)\n",
        "except ComputeTargetException:\n",
        "    compute_config = AmlCompute.provisioning_configuration(vm_size='STANDARD_D2_V2', max_nodes=4)\n",
        "    cpu_cluster = ComputeTarget.create(ws, cpu_cluster_name, compute_config)\n",
        "cpu_cluster.wait_for_completion(show_output=True)"
      ],
      "execution_count": null,
      "outputs": [
        {
          "output_type": "stream",
          "text": [
            "Creating\n",
            "Succeeded\n",
            "AmlCompute wait for completion finished\n",
            "\n",
            "Minimum number of nodes requested have been provisioned\n"
          ],
          "name": "stdout"
        }
      ]
    },
    {
      "cell_type": "code",
      "metadata": {
        "id": "9WdG-tvIaQrK",
        "gather": {
          "logged": 1614524658574
        },
        "outputId": "8e58a3e9-da35-4de5-c8f3-a4487fd70e45"
      },
      "source": [
        "import pandas as pd\r\n",
        "x, y = split_data(dataset)\r\n",
        "\r\n",
        "X_train, X_test, y_train, y_test = train_test_split(x, y, test_size=0.2, random_state=42)\r\n",
        "\r\n",
        "try:\r\n",
        "    os.makedirs('./data', exist_ok=True)\r\n",
        "except OSError as error:\r\n",
        "    print('New directory cannot be created')\r\n",
        "\r\n",
        "train_df = X_train\r\n",
        "train_df['target'] = y_train\r\n",
        "\r\n",
        "train_path = 'data/train-data.csv'\r\n",
        "train_df.to_csv(train_path)\r\n",
        "\r\n",
        "test_df = X_test\r\n",
        "test_df['target'] = y_test\r\n",
        "\r\n",
        "test_path = 'data/test-data.csv'\r\n",
        "test_df.to_csv(test_path)\r\n",
        "\r\n",
        "datastore = ws.get_default_datastore()\r\n",
        "datastore.upload(src_dir='data', target_path='data')\r\n"
      ],
      "execution_count": null,
      "outputs": [
        {
          "output_type": "stream",
          "text": [
            "/anaconda/envs/azureml_py36/lib/python3.6/site-packages/ipykernel_launcher.py:12: SettingWithCopyWarning: \n",
            "A value is trying to be set on a copy of a slice from a DataFrame.\n",
            "Try using .loc[row_indexer,col_indexer] = value instead\n",
            "\n",
            "See the caveats in the documentation: http://pandas.pydata.org/pandas-docs/stable/user_guide/indexing.html#returning-a-view-versus-a-copy\n",
            "  if sys.path[0] == '':\n",
            "/anaconda/envs/azureml_py36/lib/python3.6/site-packages/ipykernel_launcher.py:18: SettingWithCopyWarning: \n",
            "A value is trying to be set on a copy of a slice from a DataFrame.\n",
            "Try using .loc[row_indexer,col_indexer] = value instead\n",
            "\n",
            "See the caveats in the documentation: http://pandas.pydata.org/pandas-docs/stable/user_guide/indexing.html#returning-a-view-versus-a-copy\n"
          ],
          "name": "stderr"
        },
        {
          "output_type": "stream",
          "text": [
            "Uploading an estimated of 2 files\n",
            "Uploading data/test-data.csv\n",
            "Uploaded data/test-data.csv, 1 files out of an estimated total of 2\n",
            "Uploading data/train-data.csv\n",
            "Uploaded data/train-data.csv, 2 files out of an estimated total of 2\n",
            "Uploaded 2 files\n"
          ],
          "name": "stdout"
        },
        {
          "output_type": "execute_result",
          "data": {
            "text/plain": [
              "$AZUREML_DATAREFERENCE_ad16420fc5c046c882a6f5bcff27c985"
            ]
          },
          "metadata": {
            "tags": []
          },
          "execution_count": 4
        }
      ]
    },
    {
      "cell_type": "code",
      "metadata": {
        "id": "FVf9HmHmdBvw",
        "gather": {
          "logged": 1614524763211
        }
      },
      "source": [
        "train_data = TabularDatasetFactory.from_delimited_files(path=[(datastore, ('data/train-data.csv'))])\r\n",
        "test_data = TabularDatasetFactory.from_delimited_files(path=[(datastore, ('data/test-data.csv'))])"
      ],
      "execution_count": null,
      "outputs": []
    },
    {
      "cell_type": "code",
      "metadata": {
        "id": "YC1He-0fdF2v",
        "gather": {
          "logged": 1614524766673
        },
        "outputId": "659a8bde-4841-421c-fa43-64994e95e37c"
      },
      "source": [
        "train_data"
      ],
      "execution_count": null,
      "outputs": [
        {
          "output_type": "execute_result",
          "data": {
            "text/plain": [
              "{\n",
              "  \"source\": [\n",
              "    \"('workspaceblobstore', 'data/train-data.csv')\"\n",
              "  ],\n",
              "  \"definition\": [\n",
              "    \"GetDatastoreFiles\",\n",
              "    \"ParseDelimited\",\n",
              "    \"DropColumns\",\n",
              "    \"SetColumnTypes\"\n",
              "  ]\n",
              "}"
            ]
          },
          "metadata": {
            "tags": []
          },
          "execution_count": 6
        }
      ]
    },
    {
      "cell_type": "markdown",
      "metadata": {
        "id": "bXnfs4LAkz-G"
      },
      "source": [
        "## AutoML Configuration\r\n",
        "\r\n",
        "AutoML creates a number of pipelines in parallel that try different algorithms and parameters for us. It gives us the best model which \"fits\" our data. It trains and tunes the model using the target metric specified. AutoML implements ML solutions without extensive programming knowledge. It saves time and resources.\r\n",
        "\r\n",
        "In this project, AutoML was configured using an instance of the AutoMLConfig object. The following parameters were set:\r\n",
        "\r\n",
        "\r\n",
        "1.   Task helps us determine the kind of machine learning problem we need to solve. It can be classification, regression, and forecasting.\r\n",
        "\r\n",
        "2.   The primary metric parameter determines the metric to be used during model training for optimization. In this case where classification scenario is used we provided accuracy as primary metric.\r\n",
        "\r\n",
        "3.   training_data is the training data to be used within the experiment. Here train_data is a TabularDataset loaded from a CSV file.\r\n",
        "\r\n",
        "4.   experiment_timeout_minutes defines how long, in minutes, the experiment should continue to run, in our case its 30 minutes.\r\n",
        "\r\n",
        "5.   n_cross_validations parameter sets number of cross validations to perform, based on the same number of folds.\r\n",
        "\r\n",
        "6.   label_column_name is the name of the label column. Here the target column is 'target' which specifies whether a person has heart disease (1) or not (0).\r\n",
        "\r\n",
        "7.   Retrieved and saved the best automl model.\r\n",
        "\r\n",
        "  \r\n",
        "\r\n",
        "\r\n",
        "\r\n",
        "\r\n"
      ]
    },
    {
      "cell_type": "code",
      "metadata": {
        "id": "kWgC-18rdKbJ",
        "gather": {
          "logged": 1614524892629
        }
      },
      "source": [
        "from azureml.train.automl import AutoMLConfig\r\n",
        "\r\n",
        "# Automl settings\r\n",
        "automl_settings = {\r\n",
        "    \"experiment_timeout_minutes\": 60,\r\n",
        "    \"primary_metric\": 'accuracy'\r\n",
        "}\r\n",
        "\r\n",
        "# Define Automl config \r\n",
        "automl_config = AutoMLConfig(\r\n",
        "    task='classification',\r\n",
        "    training_data=train_data,\r\n",
        "    label_column_name='target',\r\n",
        "    compute_target=cpu_cluster,\r\n",
        "    **automl_settings\r\n",
        ")"
      ],
      "execution_count": null,
      "outputs": []
    },
    {
      "cell_type": "code",
      "metadata": {
        "gather": {
          "logged": 1614531714364
        },
        "jupyter": {
          "outputs_hidden": false,
          "source_hidden": false
        },
        "nteract": {
          "transient": {
            "deleting": false
          }
        },
        "id": "-jdDquQjz_VC",
        "colab": {
          "referenced_widgets": [
            "fc0bc39e27d24b3abbcc573101294cd2"
          ]
        },
        "outputId": "509faa09-e54c-4042-b75c-d6f782df2e72"
      },
      "source": [
        "# Submit your experiment\n",
        "remote_run = experiment.submit(automl_config, show_output=True)\n",
        "RunDetails(remote_run).show()\n",
        "remote_run.wait_for_completion(show_output=True)"
      ],
      "execution_count": null,
      "outputs": [
        {
          "output_type": "stream",
          "text": [
            "Running on remote.\n",
            "No run_configuration provided, running on cpucluster with default configuration\n",
            "Running on remote compute: cpucluster\n",
            "Parent Run ID: AutoML_a42712d0-9994-4bec-81a9-4135c416679d\n",
            "\n",
            "Current status: FeaturesGeneration. Generating features for the dataset.\n",
            "Current status: DatasetCrossValidationSplit. Generating individually featurized CV splits.\n",
            "Current status: ModelSelection. Beginning model selection.\n",
            "\n",
            "****************************************************************************************************\n",
            "DATA GUARDRAILS: \n",
            "\n",
            "TYPE:         Cross validation\n",
            "STATUS:       DONE\n",
            "DESCRIPTION:  Each iteration of the trained model was validated through cross-validation.\n",
            "              \n",
            "DETAILS:      \n",
            "+---------------------------------+\n",
            "|Number of folds                  |\n",
            "+=================================+\n",
            "|10                               |\n",
            "+---------------------------------+\n",
            "\n",
            "****************************************************************************************************\n",
            "\n",
            "TYPE:         Class balancing detection\n",
            "STATUS:       PASSED\n",
            "DESCRIPTION:  Your inputs were analyzed, and all classes are balanced in your training data.\n",
            "              Learn more about imbalanced data: https://aka.ms/AutomatedMLImbalancedData\n",
            "\n",
            "****************************************************************************************************\n",
            "\n",
            "TYPE:         Missing feature values imputation\n",
            "STATUS:       PASSED\n",
            "DESCRIPTION:  No feature missing values were detected in the training data.\n",
            "              Learn more about missing value imputation: https://aka.ms/AutomatedMLFeaturization\n",
            "\n",
            "****************************************************************************************************\n",
            "\n",
            "TYPE:         High cardinality feature detection\n",
            "STATUS:       PASSED\n",
            "DESCRIPTION:  Your inputs were analyzed, and no high cardinality features were detected.\n",
            "              Learn more about high cardinality feature handling: https://aka.ms/AutomatedMLFeaturization\n",
            "\n",
            "****************************************************************************************************\n",
            "\n",
            "****************************************************************************************************\n",
            "ITERATION: The iteration being evaluated.\n",
            "PIPELINE: A summary description of the pipeline being evaluated.\n",
            "DURATION: Time taken for the current iteration.\n",
            "METRIC: The result of computing score on the fitted pipeline.\n",
            "BEST: The best observed score thus far.\n",
            "****************************************************************************************************\n",
            "\n",
            " ITERATION   PIPELINE                                       DURATION      METRIC      BEST\n",
            "         0   MaxAbsScaler LightGBM                          0:00:52       1.0000    1.0000\n",
            "         1   MaxAbsScaler XGBoostClassifier                 0:00:53       1.0000    1.0000\n",
            "         2   MaxAbsScaler RandomForest                      0:00:48       0.9958    1.0000\n",
            "         3   MaxAbsScaler RandomForest                      0:00:54       0.9543    1.0000\n",
            "         4   MaxAbsScaler RandomForest                      0:00:51       0.9750    1.0000\n",
            "         5   MaxAbsScaler RandomForest                      0:00:51       0.9460    1.0000\n",
            "         6   SparseNormalizer XGBoostClassifier             0:01:21       0.9630    1.0000\n",
            "         7   MaxAbsScaler LightGBM                          0:00:58       1.0000    1.0000\n",
            "         8   MaxAbsScaler GradientBoosting                  0:01:01       1.0000    1.0000\n",
            "         9   StandardScalerWrapper LightGBM                 0:00:58       1.0000    1.0000\n",
            "        10   MaxAbsScaler LightGBM                          0:00:58       1.0000    1.0000\n",
            "        11   MaxAbsScaler LightGBM                          0:00:56       0.9667    1.0000\n",
            "        12   MaxAbsScaler LightGBM                          0:00:54       1.0000    1.0000\n",
            "        13   SparseNormalizer LightGBM                      0:00:57       0.9753    1.0000\n",
            "        14   StandardScalerWrapper XGBoostClassifier        0:00:50       0.9668    1.0000\n",
            "        15   SparseNormalizer LightGBM                      0:00:49       0.9548    1.0000\n",
            "        16   SparseNormalizer LightGBM                      0:01:10       0.9632    1.0000\n",
            "        17   SparseNormalizer XGBoostClassifier             0:00:50       0.9712    1.0000\n",
            "        18   MaxAbsScaler LightGBM                          0:00:58       1.0000    1.0000\n",
            "        19   SparseNormalizer XGBoostClassifier             0:00:58       0.9627    1.0000\n",
            "        20   MaxAbsScaler LightGBM                          0:00:51       0.9958    1.0000\n",
            "        21   MaxAbsScaler ExtremeRandomTrees                0:01:07       0.9500    1.0000\n",
            "        22   MaxAbsScaler LightGBM                          0:00:59       1.0000    1.0000\n",
            "        23   SparseNormalizer XGBoostClassifier             0:00:59       0.9507    1.0000\n",
            "        24   StandardScalerWrapper ExtremeRandomTrees       0:01:23       0.9625    1.0000\n",
            "        25   SparseNormalizer LightGBM                      0:00:51       0.9213    1.0000\n",
            "        26   SparseNormalizer LightGBM                      0:00:55       0.9752    1.0000\n",
            "        27   MaxAbsScaler LightGBM                          0:00:53       0.9297    1.0000\n",
            "        28   MaxAbsScaler LightGBM                          0:00:56       1.0000    1.0000\n",
            "        29   MaxAbsScaler LightGBM                          0:00:55       1.0000    1.0000\n",
            "        30   MaxAbsScaler LightGBM                          0:00:58       0.9543    1.0000\n",
            "        31   MaxAbsScaler LightGBM                          0:00:52       1.0000    1.0000\n",
            "        32   StandardScalerWrapper LightGBM                 0:00:52       1.0000    1.0000\n",
            "        33   MaxAbsScaler GradientBoosting                  0:01:00       1.0000    1.0000\n",
            "        34   SparseNormalizer ExtremeRandomTrees            0:01:00       0.9667    1.0000\n",
            "        35   SparseNormalizer LightGBM                      0:00:55       0.5497    1.0000\n",
            "        36   SparseNormalizer XGBoostClassifier             0:00:57       0.9833    1.0000\n",
            "        37   MaxAbsScaler LightGBM                          0:00:53       1.0000    1.0000\n",
            "        38   SparseNormalizer GradientBoosting              0:00:55       0.9712    1.0000\n",
            "        39   MaxAbsScaler RandomForest                      0:00:56       1.0000    1.0000\n",
            "        40   SparseNormalizer LightGBM                      0:01:00       0.9627    1.0000\n",
            "        41   SparseNormalizer LightGBM                      0:00:51       0.9628    1.0000\n",
            "        42   MaxAbsScaler GradientBoosting                  0:00:49       0.8882    1.0000\n",
            "        43   StandardScalerWrapper LightGBM                 0:00:55       1.0000    1.0000\n",
            "        44   StandardScalerWrapper LightGBM                 0:01:01       1.0000    1.0000\n",
            "        45   StandardScalerWrapper LightGBM                 0:01:15       0.5622    1.0000\n",
            "        46   MaxAbsScaler LightGBM                          0:00:57       1.0000    1.0000\n",
            "        47   StandardScalerWrapper LightGBM                 0:00:55       1.0000    1.0000\n",
            "        48   TruncatedSVDWrapper XGBoostClassifier          0:00:51       0.9505    1.0000\n",
            "        49   SparseNormalizer LightGBM                      0:00:54       0.9507    1.0000\n",
            "        50   StandardScalerWrapper LightGBM                 0:00:57       1.0000    1.0000\n",
            "        51    VotingEnsemble                                0:01:35       1.0000    1.0000\n",
            "        52    StackEnsemble                                 0:01:30       1.0000    1.0000\n"
          ],
          "name": "stdout"
        },
        {
          "output_type": "display_data",
          "data": {
            "text/plain": [
              "_AutoMLWidget(widget_settings={'childWidgetDisplay': 'popup', 'send_telemetry': False, 'log_level': 'INFO', 's…"
            ],
            "application/vnd.jupyter.widget-view+json": {
              "version_major": 2,
              "version_minor": 0,
              "model_id": "fc0bc39e27d24b3abbcc573101294cd2"
            }
          },
          "metadata": {
            "tags": []
          }
        },
        {
          "output_type": "stream",
          "text": [
            "\n",
            "\n",
            "****************************************************************************************************\n",
            "DATA GUARDRAILS: \n",
            "\n",
            "TYPE:         Cross validation\n",
            "STATUS:       DONE\n",
            "DESCRIPTION:  Each iteration of the trained model was validated through cross-validation.\n",
            "              \n",
            "DETAILS:      \n",
            "+---------------------------------+\n",
            "|Number of folds                  |\n",
            "+=================================+\n",
            "|10                               |\n",
            "+---------------------------------+\n",
            "\n",
            "****************************************************************************************************\n",
            "\n",
            "TYPE:         Class balancing detection\n",
            "STATUS:       PASSED\n",
            "DESCRIPTION:  Your inputs were analyzed, and all classes are balanced in your training data.\n",
            "              Learn more about imbalanced data: https://aka.ms/AutomatedMLImbalancedData\n",
            "\n",
            "****************************************************************************************************\n",
            "\n",
            "TYPE:         Missing feature values imputation\n",
            "STATUS:       PASSED\n",
            "DESCRIPTION:  No feature missing values were detected in the training data.\n",
            "              Learn more about missing value imputation: https://aka.ms/AutomatedMLFeaturization\n",
            "\n",
            "****************************************************************************************************\n",
            "\n",
            "TYPE:         High cardinality feature detection\n",
            "STATUS:       PASSED\n",
            "DESCRIPTION:  Your inputs were analyzed, and no high cardinality features were detected.\n",
            "              Learn more about high cardinality feature handling: https://aka.ms/AutomatedMLFeaturization\n",
            "\n",
            "****************************************************************************************************\n",
            "\n",
            "****************************************************************************************************\n",
            "ITERATION: The iteration being evaluated.\n",
            "PIPELINE: A summary description of the pipeline being evaluated.\n",
            "DURATION: Time taken for the current iteration.\n",
            "METRIC: The result of computing score on the fitted pipeline.\n",
            "BEST: The best observed score thus far.\n",
            "****************************************************************************************************\n"
          ],
          "name": "stdout"
        },
        {
          "output_type": "display_data",
          "data": {
            "application/aml.mini.widget.v1": "{\"status\": \"Completed\", \"workbench_run_details_uri\": \"https://ml.azure.com/experiments/Heart_AutoML/runs/AutoML_a42712d0-9994-4bec-81a9-4135c416679d?wsid=/subscriptions/81cefad3-d2c9-4f77-a466-99a7f541c7bb/resourcegroups/aml-quickstarts-139614/workspaces/quick-starts-ws-139614\", \"run_id\": \"AutoML_a42712d0-9994-4bec-81a9-4135c416679d\", \"run_properties\": {\"run_id\": \"AutoML_a42712d0-9994-4bec-81a9-4135c416679d\", \"created_utc\": \"2021-02-28T15:36:05.392749Z\", \"properties\": {\"num_iterations\": \"1000\", \"training_type\": \"TrainFull\", \"acquisition_function\": \"EI\", \"primary_metric\": \"accuracy\", \"train_split\": \"0\", \"acquisition_parameter\": \"0\", \"num_cross_validation\": null, \"target\": \"cpucluster\", \"AMLSettingsJsonString\": \"{\\\"path\\\":null,\\\"name\\\":\\\"Heart_AutoML\\\",\\\"subscription_id\\\":\\\"81cefad3-d2c9-4f77-a466-99a7f541c7bb\\\",\\\"resource_group\\\":\\\"aml-quickstarts-139614\\\",\\\"workspace_name\\\":\\\"quick-starts-ws-139614\\\",\\\"region\\\":\\\"southcentralus\\\",\\\"compute_target\\\":\\\"cpucluster\\\",\\\"spark_service\\\":null,\\\"azure_service\\\":\\\"remote\\\",\\\"many_models\\\":false,\\\"pipeline_fetch_max_batch_size\\\":1,\\\"iterations\\\":1000,\\\"primary_metric\\\":\\\"accuracy\\\",\\\"task_type\\\":\\\"classification\\\",\\\"data_script\\\":null,\\\"validation_size\\\":0.0,\\\"n_cross_validations\\\":null,\\\"y_min\\\":null,\\\"y_max\\\":null,\\\"num_classes\\\":null,\\\"featurization\\\":\\\"auto\\\",\\\"_ignore_package_version_incompatibilities\\\":false,\\\"is_timeseries\\\":false,\\\"max_cores_per_iteration\\\":1,\\\"max_concurrent_iterations\\\":1,\\\"iteration_timeout_minutes\\\":null,\\\"mem_in_mb\\\":null,\\\"enforce_time_on_windows\\\":false,\\\"experiment_timeout_minutes\\\":60,\\\"experiment_exit_score\\\":null,\\\"whitelist_models\\\":null,\\\"blacklist_algos\\\":[\\\"TensorFlowLinearClassifier\\\",\\\"TensorFlowDNN\\\"],\\\"supported_models\\\":[\\\"ExtremeRandomTrees\\\",\\\"SGD\\\",\\\"GradientBoosting\\\",\\\"LogisticRegression\\\",\\\"RandomForest\\\",\\\"LightGBM\\\",\\\"XGBoostClassifier\\\",\\\"KNN\\\",\\\"AveragedPerceptronClassifier\\\",\\\"TensorFlowLinearClassifier\\\",\\\"DecisionTree\\\",\\\"TensorFlowDNN\\\",\\\"SVM\\\",\\\"LinearSVM\\\",\\\"BernoulliNaiveBayes\\\",\\\"MultinomialNaiveBayes\\\"],\\\"private_models\\\":[],\\\"auto_blacklist\\\":true,\\\"blacklist_samples_reached\\\":false,\\\"exclude_nan_labels\\\":true,\\\"verbosity\\\":20,\\\"_debug_log\\\":\\\"azureml_automl.log\\\",\\\"show_warnings\\\":false,\\\"model_explainability\\\":true,\\\"service_url\\\":null,\\\"sdk_url\\\":null,\\\"sdk_packages\\\":null,\\\"enable_onnx_compatible_models\\\":false,\\\"enable_split_onnx_featurizer_estimator_models\\\":false,\\\"vm_type\\\":\\\"STANDARD_D2_V2\\\",\\\"telemetry_verbosity\\\":20,\\\"send_telemetry\\\":true,\\\"enable_dnn\\\":false,\\\"scenario\\\":\\\"SDK-1.13.0\\\",\\\"environment_label\\\":null,\\\"force_text_dnn\\\":false,\\\"enable_feature_sweeping\\\":true,\\\"enable_early_stopping\\\":false,\\\"early_stopping_n_iters\\\":10,\\\"metrics\\\":null,\\\"enable_ensembling\\\":true,\\\"enable_stack_ensembling\\\":true,\\\"ensemble_iterations\\\":15,\\\"enable_tf\\\":false,\\\"enable_subsampling\\\":null,\\\"subsample_seed\\\":null,\\\"enable_nimbusml\\\":false,\\\"enable_streaming\\\":false,\\\"force_streaming\\\":false,\\\"track_child_runs\\\":true,\\\"allowed_private_models\\\":[],\\\"label_column_name\\\":\\\"target\\\",\\\"weight_column_name\\\":null,\\\"cv_split_column_names\\\":null,\\\"enable_local_managed\\\":false,\\\"_local_managed_run_id\\\":null,\\\"cost_mode\\\":1,\\\"lag_length\\\":0,\\\"metric_operation\\\":\\\"maximize\\\",\\\"preprocess\\\":true}\", \"DataPrepJsonString\": \"{\\\\\\\"training_data\\\\\\\": \\\\\\\"{\\\\\\\\\\\\\\\"blocks\\\\\\\\\\\\\\\": [{\\\\\\\\\\\\\\\"id\\\\\\\\\\\\\\\": \\\\\\\\\\\\\\\"031927cc-ea57-4b36-8962-bdfdc6a313a9\\\\\\\\\\\\\\\", \\\\\\\\\\\\\\\"type\\\\\\\\\\\\\\\": \\\\\\\\\\\\\\\"Microsoft.DPrep.GetDatastoreFilesBlock\\\\\\\\\\\\\\\", \\\\\\\\\\\\\\\"arguments\\\\\\\\\\\\\\\": {\\\\\\\\\\\\\\\"datastores\\\\\\\\\\\\\\\": [{\\\\\\\\\\\\\\\"datastoreName\\\\\\\\\\\\\\\": \\\\\\\\\\\\\\\"workspaceblobstore\\\\\\\\\\\\\\\", \\\\\\\\\\\\\\\"path\\\\\\\\\\\\\\\": \\\\\\\\\\\\\\\"data/train-data.csv\\\\\\\\\\\\\\\", \\\\\\\\\\\\\\\"resourceGroup\\\\\\\\\\\\\\\": \\\\\\\\\\\\\\\"aml-quickstarts-139614\\\\\\\\\\\\\\\", \\\\\\\\\\\\\\\"subscription\\\\\\\\\\\\\\\": \\\\\\\\\\\\\\\"81cefad3-d2c9-4f77-a466-99a7f541c7bb\\\\\\\\\\\\\\\", \\\\\\\\\\\\\\\"workspaceName\\\\\\\\\\\\\\\": \\\\\\\\\\\\\\\"quick-starts-ws-139614\\\\\\\\\\\\\\\"}]}, \\\\\\\\\\\\\\\"localData\\\\\\\\\\\\\\\": {}, \\\\\\\\\\\\\\\"isEnabled\\\\\\\\\\\\\\\": true, \\\\\\\\\\\\\\\"name\\\\\\\\\\\\\\\": null, \\\\\\\\\\\\\\\"annotation\\\\\\\\\\\\\\\": null}, {\\\\\\\\\\\\\\\"id\\\\\\\\\\\\\\\": \\\\\\\\\\\\\\\"b8ac3a0e-c415-42e2-a3d1-2214dbb0a946\\\\\\\\\\\\\\\", \\\\\\\\\\\\\\\"type\\\\\\\\\\\\\\\": \\\\\\\\\\\\\\\"Microsoft.DPrep.ParseDelimitedBlock\\\\\\\\\\\\\\\", \\\\\\\\\\\\\\\"arguments\\\\\\\\\\\\\\\": {\\\\\\\\\\\\\\\"columnHeadersMode\\\\\\\\\\\\\\\": 3, \\\\\\\\\\\\\\\"fileEncoding\\\\\\\\\\\\\\\": 0, \\\\\\\\\\\\\\\"handleQuotedLineBreaks\\\\\\\\\\\\\\\": false, \\\\\\\\\\\\\\\"preview\\\\\\\\\\\\\\\": false, \\\\\\\\\\\\\\\"separator\\\\\\\\\\\\\\\": \\\\\\\\\\\\\\\",\\\\\\\\\\\\\\\", \\\\\\\\\\\\\\\"skipRows\\\\\\\\\\\\\\\": 0, \\\\\\\\\\\\\\\"skipRowsMode\\\\\\\\\\\\\\\": 0}, \\\\\\\\\\\\\\\"localData\\\\\\\\\\\\\\\": {}, \\\\\\\\\\\\\\\"isEnabled\\\\\\\\\\\\\\\": true, \\\\\\\\\\\\\\\"name\\\\\\\\\\\\\\\": null, \\\\\\\\\\\\\\\"annotation\\\\\\\\\\\\\\\": null}, {\\\\\\\\\\\\\\\"id\\\\\\\\\\\\\\\": \\\\\\\\\\\\\\\"8d78fc83-e67c-4078-b06f-d2bc9957354d\\\\\\\\\\\\\\\", \\\\\\\\\\\\\\\"type\\\\\\\\\\\\\\\": \\\\\\\\\\\\\\\"Microsoft.DPrep.DropColumnsBlock\\\\\\\\\\\\\\\", \\\\\\\\\\\\\\\"arguments\\\\\\\\\\\\\\\": {\\\\\\\\\\\\\\\"columns\\\\\\\\\\\\\\\": {\\\\\\\\\\\\\\\"type\\\\\\\\\\\\\\\": 0, \\\\\\\\\\\\\\\"details\\\\\\\\\\\\\\\": {\\\\\\\\\\\\\\\"selectedColumns\\\\\\\\\\\\\\\": [\\\\\\\\\\\\\\\"Path\\\\\\\\\\\\\\\"]}}}, \\\\\\\\\\\\\\\"localData\\\\\\\\\\\\\\\": {}, \\\\\\\\\\\\\\\"isEnabled\\\\\\\\\\\\\\\": true, \\\\\\\\\\\\\\\"name\\\\\\\\\\\\\\\": null, \\\\\\\\\\\\\\\"annotation\\\\\\\\\\\\\\\": null}, {\\\\\\\\\\\\\\\"id\\\\\\\\\\\\\\\": \\\\\\\\\\\\\\\"d315f1ca-c188-4c54-b2e2-843c42ff2d35\\\\\\\\\\\\\\\", \\\\\\\\\\\\\\\"type\\\\\\\\\\\\\\\": \\\\\\\\\\\\\\\"Microsoft.DPrep.SetColumnTypesBlock\\\\\\\\\\\\\\\", \\\\\\\\\\\\\\\"arguments\\\\\\\\\\\\\\\": {\\\\\\\\\\\\\\\"columnConversion\\\\\\\\\\\\\\\": [{\\\\\\\\\\\\\\\"column\\\\\\\\\\\\\\\": {\\\\\\\\\\\\\\\"type\\\\\\\\\\\\\\\": 2, \\\\\\\\\\\\\\\"details\\\\\\\\\\\\\\\": {\\\\\\\\\\\\\\\"selectedColumn\\\\\\\\\\\\\\\": \\\\\\\\\\\\\\\"Column1\\\\\\\\\\\\\\\"}}, \\\\\\\\\\\\\\\"typeProperty\\\\\\\\\\\\\\\": 2}, {\\\\\\\\\\\\\\\"column\\\\\\\\\\\\\\\": {\\\\\\\\\\\\\\\"type\\\\\\\\\\\\\\\": 2, \\\\\\\\\\\\\\\"details\\\\\\\\\\\\\\\": {\\\\\\\\\\\\\\\"selectedColumn\\\\\\\\\\\\\\\": \\\\\\\\\\\\\\\"age\\\\\\\\\\\\\\\"}}, \\\\\\\\\\\\\\\"typeProperty\\\\\\\\\\\\\\\": 2}, {\\\\\\\\\\\\\\\"column\\\\\\\\\\\\\\\": {\\\\\\\\\\\\\\\"type\\\\\\\\\\\\\\\": 2, \\\\\\\\\\\\\\\"details\\\\\\\\\\\\\\\": {\\\\\\\\\\\\\\\"selectedColumn\\\\\\\\\\\\\\\": \\\\\\\\\\\\\\\"sex\\\\\\\\\\\\\\\"}}, \\\\\\\\\\\\\\\"typeProperty\\\\\\\\\\\\\\\": 2}, {\\\\\\\\\\\\\\\"column\\\\\\\\\\\\\\\": {\\\\\\\\\\\\\\\"type\\\\\\\\\\\\\\\": 2, \\\\\\\\\\\\\\\"details\\\\\\\\\\\\\\\": {\\\\\\\\\\\\\\\"selectedColumn\\\\\\\\\\\\\\\": \\\\\\\\\\\\\\\"cp\\\\\\\\\\\\\\\"}}, \\\\\\\\\\\\\\\"typeProperty\\\\\\\\\\\\\\\": 2}, {\\\\\\\\\\\\\\\"column\\\\\\\\\\\\\\\": {\\\\\\\\\\\\\\\"type\\\\\\\\\\\\\\\": 2, \\\\\\\\\\\\\\\"details\\\\\\\\\\\\\\\": {\\\\\\\\\\\\\\\"selectedColumn\\\\\\\\\\\\\\\": \\\\\\\\\\\\\\\"trestbps\\\\\\\\\\\\\\\"}}, \\\\\\\\\\\\\\\"typeProperty\\\\\\\\\\\\\\\": 2}, {\\\\\\\\\\\\\\\"column\\\\\\\\\\\\\\\": {\\\\\\\\\\\\\\\"type\\\\\\\\\\\\\\\": 2, \\\\\\\\\\\\\\\"details\\\\\\\\\\\\\\\": {\\\\\\\\\\\\\\\"selectedColumn\\\\\\\\\\\\\\\": \\\\\\\\\\\\\\\"chol\\\\\\\\\\\\\\\"}}, \\\\\\\\\\\\\\\"typeProperty\\\\\\\\\\\\\\\": 2}, {\\\\\\\\\\\\\\\"column\\\\\\\\\\\\\\\": {\\\\\\\\\\\\\\\"type\\\\\\\\\\\\\\\": 2, \\\\\\\\\\\\\\\"details\\\\\\\\\\\\\\\": {\\\\\\\\\\\\\\\"selectedColumn\\\\\\\\\\\\\\\": \\\\\\\\\\\\\\\"fbs\\\\\\\\\\\\\\\"}}, \\\\\\\\\\\\\\\"typeProperty\\\\\\\\\\\\\\\": 2}, {\\\\\\\\\\\\\\\"column\\\\\\\\\\\\\\\": {\\\\\\\\\\\\\\\"type\\\\\\\\\\\\\\\": 2, \\\\\\\\\\\\\\\"details\\\\\\\\\\\\\\\": {\\\\\\\\\\\\\\\"selectedColumn\\\\\\\\\\\\\\\": \\\\\\\\\\\\\\\"restecg\\\\\\\\\\\\\\\"}}, \\\\\\\\\\\\\\\"typeProperty\\\\\\\\\\\\\\\": 2}, {\\\\\\\\\\\\\\\"column\\\\\\\\\\\\\\\": {\\\\\\\\\\\\\\\"type\\\\\\\\\\\\\\\": 2, \\\\\\\\\\\\\\\"details\\\\\\\\\\\\\\\": {\\\\\\\\\\\\\\\"selectedColumn\\\\\\\\\\\\\\\": \\\\\\\\\\\\\\\"thalach\\\\\\\\\\\\\\\"}}, \\\\\\\\\\\\\\\"typeProperty\\\\\\\\\\\\\\\": 2}, {\\\\\\\\\\\\\\\"column\\\\\\\\\\\\\\\": {\\\\\\\\\\\\\\\"type\\\\\\\\\\\\\\\": 2, \\\\\\\\\\\\\\\"details\\\\\\\\\\\\\\\": {\\\\\\\\\\\\\\\"selectedColumn\\\\\\\\\\\\\\\": \\\\\\\\\\\\\\\"exang\\\\\\\\\\\\\\\"}}, \\\\\\\\\\\\\\\"typeProperty\\\\\\\\\\\\\\\": 2}, {\\\\\\\\\\\\\\\"column\\\\\\\\\\\\\\\": {\\\\\\\\\\\\\\\"type\\\\\\\\\\\\\\\": 2, \\\\\\\\\\\\\\\"details\\\\\\\\\\\\\\\": {\\\\\\\\\\\\\\\"selectedColumn\\\\\\\\\\\\\\\": \\\\\\\\\\\\\\\"oldpeak\\\\\\\\\\\\\\\"}}, \\\\\\\\\\\\\\\"typeProperty\\\\\\\\\\\\\\\": 3}, {\\\\\\\\\\\\\\\"column\\\\\\\\\\\\\\\": {\\\\\\\\\\\\\\\"type\\\\\\\\\\\\\\\": 2, \\\\\\\\\\\\\\\"details\\\\\\\\\\\\\\\": {\\\\\\\\\\\\\\\"selectedColumn\\\\\\\\\\\\\\\": \\\\\\\\\\\\\\\"slope\\\\\\\\\\\\\\\"}}, \\\\\\\\\\\\\\\"typeProperty\\\\\\\\\\\\\\\": 2}, {\\\\\\\\\\\\\\\"column\\\\\\\\\\\\\\\": {\\\\\\\\\\\\\\\"type\\\\\\\\\\\\\\\": 2, \\\\\\\\\\\\\\\"details\\\\\\\\\\\\\\\": {\\\\\\\\\\\\\\\"selectedColumn\\\\\\\\\\\\\\\": \\\\\\\\\\\\\\\"ca\\\\\\\\\\\\\\\"}}, \\\\\\\\\\\\\\\"typeProperty\\\\\\\\\\\\\\\": 2}, {\\\\\\\\\\\\\\\"column\\\\\\\\\\\\\\\": {\\\\\\\\\\\\\\\"type\\\\\\\\\\\\\\\": 2, \\\\\\\\\\\\\\\"details\\\\\\\\\\\\\\\": {\\\\\\\\\\\\\\\"selectedColumn\\\\\\\\\\\\\\\": \\\\\\\\\\\\\\\"thal\\\\\\\\\\\\\\\"}}, \\\\\\\\\\\\\\\"typeProperty\\\\\\\\\\\\\\\": 2}, {\\\\\\\\\\\\\\\"column\\\\\\\\\\\\\\\": {\\\\\\\\\\\\\\\"type\\\\\\\\\\\\\\\": 2, \\\\\\\\\\\\\\\"details\\\\\\\\\\\\\\\": {\\\\\\\\\\\\\\\"selectedColumn\\\\\\\\\\\\\\\": \\\\\\\\\\\\\\\"target\\\\\\\\\\\\\\\"}}, \\\\\\\\\\\\\\\"typeProperty\\\\\\\\\\\\\\\": 2}]}, \\\\\\\\\\\\\\\"localData\\\\\\\\\\\\\\\": {}, \\\\\\\\\\\\\\\"isEnabled\\\\\\\\\\\\\\\": true, \\\\\\\\\\\\\\\"name\\\\\\\\\\\\\\\": null, \\\\\\\\\\\\\\\"annotation\\\\\\\\\\\\\\\": null}], \\\\\\\\\\\\\\\"inspectors\\\\\\\\\\\\\\\": [], \\\\\\\\\\\\\\\"meta\\\\\\\\\\\\\\\": {\\\\\\\\\\\\\\\"savedDatasetId\\\\\\\\\\\\\\\": \\\\\\\\\\\\\\\"3bab434f-8a8d-4536-aeda-1b677ef09efe\\\\\\\\\\\\\\\", \\\\\\\\\\\\\\\"datasetType\\\\\\\\\\\\\\\": \\\\\\\\\\\\\\\"tabular\\\\\\\\\\\\\\\", \\\\\\\\\\\\\\\"subscriptionId\\\\\\\\\\\\\\\": \\\\\\\\\\\\\\\"81cefad3-d2c9-4f77-a466-99a7f541c7bb\\\\\\\\\\\\\\\", \\\\\\\\\\\\\\\"workspaceId\\\\\\\\\\\\\\\": \\\\\\\\\\\\\\\"197f0456-dcfb-42d5-a031-95673d079fd5\\\\\\\\\\\\\\\", \\\\\\\\\\\\\\\"workspaceLocation\\\\\\\\\\\\\\\": \\\\\\\\\\\\\\\"southcentralus\\\\\\\\\\\\\\\"}}\\\\\\\", \\\\\\\"activities\\\\\\\": 0}\", \"EnableSubsampling\": null, \"runTemplate\": \"AutoML\", \"azureml.runsource\": \"automl\", \"display_task_type\": \"classification\", \"dependencies_versions\": \"{\\\"azureml-widgets\\\": \\\"1.22.0\\\", \\\"azureml-train\\\": \\\"1.22.0\\\", \\\"azureml-train-restclients-hyperdrive\\\": \\\"1.22.0\\\", \\\"azureml-train-core\\\": \\\"1.22.0\\\", \\\"azureml-train-automl\\\": \\\"1.22.0\\\", \\\"azureml-train-automl-runtime\\\": \\\"1.22.0\\\", \\\"azureml-train-automl-client\\\": \\\"1.22.0\\\", \\\"azureml-tensorboard\\\": \\\"1.22.0\\\", \\\"azureml-telemetry\\\": \\\"1.22.0\\\", \\\"azureml-sdk\\\": \\\"1.22.0\\\", \\\"azureml-samples\\\": \\\"0+unknown\\\", \\\"azureml-pipeline\\\": \\\"1.22.0\\\", \\\"azureml-pipeline-steps\\\": \\\"1.22.0\\\", \\\"azureml-pipeline-core\\\": \\\"1.22.0\\\", \\\"azureml-opendatasets\\\": \\\"1.22.0\\\", \\\"azureml-model-management-sdk\\\": \\\"1.0.1b6.post1\\\", \\\"azureml-mlflow\\\": \\\"1.22.0\\\", \\\"azureml-interpret\\\": \\\"1.22.0\\\", \\\"azureml-explain-model\\\": \\\"1.22.0\\\", \\\"azureml-defaults\\\": \\\"1.22.0\\\", \\\"azureml-dataset-runtime\\\": \\\"1.22.0\\\", \\\"azureml-dataprep\\\": \\\"2.9.1\\\", \\\"azureml-dataprep-rslex\\\": \\\"1.7.0\\\", \\\"azureml-dataprep-native\\\": \\\"29.0.0\\\", \\\"azureml-datadrift\\\": \\\"1.22.0\\\", \\\"azureml-core\\\": \\\"1.22.0\\\", \\\"azureml-contrib-services\\\": \\\"1.22.0\\\", \\\"azureml-contrib-server\\\": \\\"1.22.0\\\", \\\"azureml-contrib-reinforcementlearning\\\": \\\"1.22.0\\\", \\\"azureml-contrib-pipeline-steps\\\": \\\"1.22.0\\\", \\\"azureml-contrib-notebook\\\": \\\"1.22.0\\\", \\\"azureml-contrib-interpret\\\": \\\"1.22.0\\\", \\\"azureml-contrib-gbdt\\\": \\\"1.22.0\\\", \\\"azureml-contrib-fairness\\\": \\\"1.22.0\\\", \\\"azureml-contrib-dataset\\\": \\\"1.22.0\\\", \\\"azureml-cli-common\\\": \\\"1.22.0\\\", \\\"azureml-automl-runtime\\\": \\\"1.22.0\\\", \\\"azureml-automl-core\\\": \\\"1.22.0\\\", \\\"azureml-accel-models\\\": \\\"1.22.0\\\"}\", \"_aml_system_scenario_identification\": \"Remote.Parent\", \"ClientType\": \"SDK\", \"environment_cpu_name\": \"AzureML-AutoML\", \"environment_cpu_label\": \"prod\", \"environment_gpu_name\": \"AzureML-AutoML-GPU\", \"environment_gpu_label\": \"prod\", \"root_attribution\": \"automl\", \"attribution\": \"AutoML\", \"Orchestrator\": \"AutoML\", \"CancelUri\": \"https://southcentralus.experiments.azureml.net/jasmine/v1.0/subscriptions/81cefad3-d2c9-4f77-a466-99a7f541c7bb/resourceGroups/aml-quickstarts-139614/providers/Microsoft.MachineLearningServices/workspaces/quick-starts-ws-139614/experimentids/962b21b0-2b6e-473d-8493-0a3243af2094/cancel/AutoML_a42712d0-9994-4bec-81a9-4135c416679d\", \"ClientSdkVersion\": \"1.22.0\", \"snapshotId\": \"00000000-0000-0000-0000-000000000000\", \"SetupRunId\": \"AutoML_a42712d0-9994-4bec-81a9-4135c416679d_setup\", \"SetupRunContainerId\": \"dcid.AutoML_a42712d0-9994-4bec-81a9-4135c416679d_setup\", \"FeaturizationRunJsonPath\": \"featurizer_container.json\", \"FeaturizationRunId\": \"AutoML_a42712d0-9994-4bec-81a9-4135c416679d_featurize\", \"ProblemInfoJsonString\": \"{\\\"dataset_num_categorical\\\": 0, \\\"is_sparse\\\": true, \\\"subsampling\\\": false, \\\"dataset_classes\\\": 2, \\\"dataset_features\\\": 28, \\\"dataset_samples\\\": 242, \\\"single_frequency_class_detected\\\": false}\", \"ModelExplainRunId\": \"AutoML_a42712d0-9994-4bec-81a9-4135c416679d_ModelExplain\"}, \"tags\": {\"model_explain_run\": \"best_run\", \"_aml_system_azureml.automlComponent\": \"AutoML\", \"pipeline_id\": \"\", \"score\": \"\", \"predicted_cost\": \"\", \"fit_time\": \"\", \"training_percent\": \"\", \"iteration\": \"\", \"run_preprocessor\": \"\", \"run_algorithm\": \"\", \"dynamic_whitelisting_iterations\": \"<25>;<30>;<35>;<40>;<45>;<50>;\", \"automl_best_child_run_id\": \"AutoML_a42712d0-9994-4bec-81a9-4135c416679d_0\", \"model_explain_best_run_child_id\": \"AutoML_a42712d0-9994-4bec-81a9-4135c416679d_0\"}, \"end_time_utc\": \"2021-02-28T16:50:23.271785Z\", \"status\": \"Completed\", \"log_files\": {}, \"log_groups\": [], \"run_duration\": \"1:14:17\", \"run_number\": \"1\", \"run_queued_details\": {\"status\": \"Completed\", \"details\": null}}, \"child_runs\": [{\"run_id\": \"AutoML_a42712d0-9994-4bec-81a9-4135c416679d_0\", \"run_number\": 5, \"metric\": null, \"status\": \"Completed\", \"run_type\": \"azureml.scriptrun\", \"training_percent\": \"100\", \"start_time\": \"2021-02-28T15:46:48.514857Z\", \"end_time\": \"2021-02-28T15:47:40.996375Z\", \"created_time\": \"2021-02-28T15:46:35.521161Z\", \"created_time_dt\": \"2021-02-28T15:46:35.521161Z\", \"duration\": \"0:01:05\", \"iteration\": \"0\", \"goal\": \"accuracy_max\", \"run_name\": \"MaxAbsScaler, LightGBM\", \"run_properties\": \"copy=True\", \"primary_metric\": 1.0, \"best_metric\": 1.0}, {\"run_id\": \"AutoML_a42712d0-9994-4bec-81a9-4135c416679d_1\", \"run_number\": 6, \"metric\": null, \"status\": \"Completed\", \"run_type\": \"azureml.scriptrun\", \"training_percent\": \"100\", \"start_time\": \"2021-02-28T15:47:51.302147Z\", \"end_time\": \"2021-02-28T15:48:44.448957Z\", \"created_time\": \"2021-02-28T15:47:42.240913Z\", \"created_time_dt\": \"2021-02-28T15:47:42.240913Z\", \"duration\": \"0:01:02\", \"iteration\": \"1\", \"goal\": \"accuracy_max\", \"run_name\": \"MaxAbsScaler, XGBoostClassifier\", \"run_properties\": \"copy=True\", \"primary_metric\": 1.0, \"best_metric\": 1.0}, {\"run_id\": \"AutoML_a42712d0-9994-4bec-81a9-4135c416679d_2\", \"run_number\": 7, \"metric\": null, \"status\": \"Completed\", \"run_type\": \"azureml.scriptrun\", \"training_percent\": \"100\", \"start_time\": \"2021-02-28T15:48:56.900814Z\", \"end_time\": \"2021-02-28T15:49:44.749577Z\", \"created_time\": \"2021-02-28T15:48:45.981803Z\", \"created_time_dt\": \"2021-02-28T15:48:45.981803Z\", \"duration\": \"0:00:58\", \"iteration\": \"2\", \"goal\": \"accuracy_max\", \"run_name\": \"MaxAbsScaler, RandomForest\", \"run_properties\": \"copy=True\", \"primary_metric\": 0.99583333, \"best_metric\": 1.0}, {\"run_id\": \"AutoML_a42712d0-9994-4bec-81a9-4135c416679d_3\", \"run_number\": 8, \"metric\": null, \"status\": \"Completed\", \"run_type\": \"azureml.scriptrun\", \"training_percent\": \"100\", \"start_time\": \"2021-02-28T15:49:57.177751Z\", \"end_time\": \"2021-02-28T15:50:51.587526Z\", \"created_time\": \"2021-02-28T15:49:46.386421Z\", \"created_time_dt\": \"2021-02-28T15:49:46.386421Z\", \"duration\": \"0:01:05\", \"iteration\": \"3\", \"goal\": \"accuracy_max\", \"run_name\": \"MaxAbsScaler, RandomForest\", \"run_properties\": \"copy=True\", \"primary_metric\": 0.95433333, \"best_metric\": 1.0}, {\"run_id\": \"AutoML_a42712d0-9994-4bec-81a9-4135c416679d_4\", \"run_number\": 9, \"metric\": null, \"status\": \"Completed\", \"run_type\": \"azureml.scriptrun\", \"training_percent\": \"100\", \"start_time\": \"2021-02-28T15:51:03.735531Z\", \"end_time\": \"2021-02-28T15:51:54.398765Z\", \"created_time\": \"2021-02-28T15:50:54.040883Z\", \"created_time_dt\": \"2021-02-28T15:50:54.040883Z\", \"duration\": \"0:01:00\", \"iteration\": \"4\", \"goal\": \"accuracy_max\", \"run_name\": \"MaxAbsScaler, RandomForest\", \"run_properties\": \"copy=True\", \"primary_metric\": 0.975, \"best_metric\": 1.0}, {\"run_id\": \"AutoML_a42712d0-9994-4bec-81a9-4135c416679d_5\", \"run_number\": 10, \"metric\": null, \"status\": \"Completed\", \"run_type\": \"azureml.scriptrun\", \"training_percent\": \"100\", \"start_time\": \"2021-02-28T15:52:08.959115Z\", \"end_time\": \"2021-02-28T15:53:00.400265Z\", \"created_time\": \"2021-02-28T15:51:57.467573Z\", \"created_time_dt\": \"2021-02-28T15:51:57.467573Z\", \"duration\": \"0:01:02\", \"iteration\": \"5\", \"goal\": \"accuracy_max\", \"run_name\": \"MaxAbsScaler, RandomForest\", \"run_properties\": \"copy=True\", \"primary_metric\": 0.946, \"best_metric\": 1.0}, {\"run_id\": \"AutoML_a42712d0-9994-4bec-81a9-4135c416679d_6\", \"run_number\": 11, \"metric\": null, \"status\": \"Completed\", \"run_type\": \"azureml.scriptrun\", \"training_percent\": \"100\", \"start_time\": \"2021-02-28T15:53:13.314545Z\", \"end_time\": \"2021-02-28T15:54:34.58142Z\", \"created_time\": \"2021-02-28T15:53:03.056147Z\", \"created_time_dt\": \"2021-02-28T15:53:03.056147Z\", \"duration\": \"0:01:31\", \"iteration\": \"6\", \"goal\": \"accuracy_max\", \"run_name\": \"SparseNormalizer, XGBoostClassifier\", \"run_properties\": \"<azureml.automl.runtime.shared.model_wrappers.SparseNormalizer object at 0x7f3d441597f0\", \"primary_metric\": 0.963, \"best_metric\": 1.0}, {\"run_id\": \"AutoML_a42712d0-9994-4bec-81a9-4135c416679d_7\", \"run_number\": 12, \"metric\": null, \"status\": \"Completed\", \"run_type\": \"azureml.scriptrun\", \"training_percent\": \"100\", \"start_time\": \"2021-02-28T15:54:52.1773Z\", \"end_time\": \"2021-02-28T15:55:50.002848Z\", \"created_time\": \"2021-02-28T15:54:37.1392Z\", \"created_time_dt\": \"2021-02-28T15:54:37.1392Z\", \"duration\": \"0:01:12\", \"iteration\": \"7\", \"goal\": \"accuracy_max\", \"run_name\": \"MaxAbsScaler, LightGBM\", \"run_properties\": \"copy=True\", \"primary_metric\": 1.0, \"best_metric\": 1.0}, {\"run_id\": \"AutoML_a42712d0-9994-4bec-81a9-4135c416679d_8\", \"run_number\": 13, \"metric\": null, \"status\": \"Completed\", \"run_type\": \"azureml.scriptrun\", \"training_percent\": \"100\", \"start_time\": \"2021-02-28T15:56:06.232443Z\", \"end_time\": \"2021-02-28T15:57:07.368565Z\", \"created_time\": \"2021-02-28T15:55:51.764611Z\", \"created_time_dt\": \"2021-02-28T15:55:51.764611Z\", \"duration\": \"0:01:15\", \"iteration\": \"8\", \"goal\": \"accuracy_max\", \"run_name\": \"MaxAbsScaler, GradientBoosting\", \"run_properties\": \"copy=True\", \"primary_metric\": 1.0, \"best_metric\": 1.0}, {\"run_id\": \"AutoML_a42712d0-9994-4bec-81a9-4135c416679d_9\", \"run_number\": 14, \"metric\": null, \"status\": \"Completed\", \"run_type\": \"azureml.scriptrun\", \"training_percent\": \"100\", \"start_time\": \"2021-02-28T15:57:23.610422Z\", \"end_time\": \"2021-02-28T15:58:21.275315Z\", \"created_time\": \"2021-02-28T15:57:11.167802Z\", \"created_time_dt\": \"2021-02-28T15:57:11.167802Z\", \"duration\": \"0:01:10\", \"iteration\": \"9\", \"goal\": \"accuracy_max\", \"run_name\": \"StandardScalerWrapper, LightGBM\", \"run_properties\": \"<azureml.automl.runtime.shared.model_wrappers.StandardScalerWrapper object at 0x7fafcc5d7f60\", \"primary_metric\": 1.0, \"best_metric\": 1.0}, {\"run_id\": \"AutoML_a42712d0-9994-4bec-81a9-4135c416679d_10\", \"run_number\": 15, \"metric\": null, \"status\": \"Completed\", \"run_type\": \"azureml.scriptrun\", \"training_percent\": \"100\", \"start_time\": \"2021-02-28T15:58:37.044623Z\", \"end_time\": \"2021-02-28T15:59:35.015828Z\", \"created_time\": \"2021-02-28T15:58:24.020823Z\", \"created_time_dt\": \"2021-02-28T15:58:24.020823Z\", \"duration\": \"0:01:10\", \"iteration\": \"10\", \"goal\": \"accuracy_max\", \"run_name\": \"MaxAbsScaler, LightGBM\", \"run_properties\": \"copy=True\", \"primary_metric\": 1.0, \"best_metric\": 1.0}, {\"run_id\": \"AutoML_a42712d0-9994-4bec-81a9-4135c416679d_11\", \"run_number\": 16, \"metric\": null, \"status\": \"Completed\", \"run_type\": \"azureml.scriptrun\", \"training_percent\": \"100\", \"start_time\": \"2021-02-28T15:59:47.970552Z\", \"end_time\": \"2021-02-28T16:00:43.943022Z\", \"created_time\": \"2021-02-28T15:59:36.941617Z\", \"created_time_dt\": \"2021-02-28T15:59:36.941617Z\", \"duration\": \"0:01:07\", \"iteration\": \"11\", \"goal\": \"accuracy_max\", \"run_name\": \"MaxAbsScaler, LightGBM\", \"run_properties\": \"copy=True\", \"primary_metric\": 0.96666667, \"best_metric\": 1.0}, {\"run_id\": \"AutoML_a42712d0-9994-4bec-81a9-4135c416679d_12\", \"run_number\": 17, \"metric\": null, \"status\": \"Completed\", \"run_type\": \"azureml.scriptrun\", \"training_percent\": \"100\", \"start_time\": \"2021-02-28T16:00:55.5043Z\", \"end_time\": \"2021-02-28T16:01:49.291731Z\", \"created_time\": \"2021-02-28T16:00:45.966702Z\", \"created_time_dt\": \"2021-02-28T16:00:45.966702Z\", \"duration\": \"0:01:03\", \"iteration\": \"12\", \"goal\": \"accuracy_max\", \"run_name\": \"MaxAbsScaler, LightGBM\", \"run_properties\": \"copy=True\", \"primary_metric\": 1.0, \"best_metric\": 1.0}, {\"run_id\": \"AutoML_a42712d0-9994-4bec-81a9-4135c416679d_13\", \"run_number\": 18, \"metric\": null, \"status\": \"Completed\", \"run_type\": \"azureml.scriptrun\", \"training_percent\": \"100\", \"start_time\": \"2021-02-28T16:02:02.502015Z\", \"end_time\": \"2021-02-28T16:02:59.208813Z\", \"created_time\": \"2021-02-28T16:01:51.440506Z\", \"created_time_dt\": \"2021-02-28T16:01:51.440506Z\", \"duration\": \"0:01:07\", \"iteration\": \"13\", \"goal\": \"accuracy_max\", \"run_name\": \"SparseNormalizer, LightGBM\", \"run_properties\": \"<azureml.automl.runtime.shared.model_wrappers.SparseNormalizer object at 0x7f72d63873c8\", \"primary_metric\": 0.97533333, \"best_metric\": 1.0}, {\"run_id\": \"AutoML_a42712d0-9994-4bec-81a9-4135c416679d_14\", \"run_number\": 19, \"metric\": null, \"status\": \"Completed\", \"run_type\": \"azureml.scriptrun\", \"training_percent\": \"100\", \"start_time\": \"2021-02-28T16:03:13.055113Z\", \"end_time\": \"2021-02-28T16:04:02.971785Z\", \"created_time\": \"2021-02-28T16:03:01.14226Z\", \"created_time_dt\": \"2021-02-28T16:03:01.14226Z\", \"duration\": \"0:01:01\", \"iteration\": \"14\", \"goal\": \"accuracy_max\", \"run_name\": \"StandardScalerWrapper, XGBoostClassifier\", \"run_properties\": \"<azureml.automl.runtime.shared.model_wrappers.StandardScalerWrapper object at 0x7f8f781fbf98\", \"primary_metric\": 0.96683333, \"best_metric\": 1.0}, {\"run_id\": \"AutoML_a42712d0-9994-4bec-81a9-4135c416679d_15\", \"run_number\": 20, \"metric\": null, \"status\": \"Completed\", \"run_type\": \"azureml.scriptrun\", \"training_percent\": \"100\", \"start_time\": \"2021-02-28T16:04:15.321573Z\", \"end_time\": \"2021-02-28T16:05:04.810947Z\", \"created_time\": \"2021-02-28T16:04:04.897663Z\", \"created_time_dt\": \"2021-02-28T16:04:04.897663Z\", \"duration\": \"0:00:59\", \"iteration\": \"15\", \"goal\": \"accuracy_max\", \"run_name\": \"SparseNormalizer, LightGBM\", \"run_properties\": \"<azureml.automl.runtime.shared.model_wrappers.SparseNormalizer object at 0x7f120471c320\", \"primary_metric\": 0.95483333, \"best_metric\": 1.0}, {\"run_id\": \"AutoML_a42712d0-9994-4bec-81a9-4135c416679d_16\", \"run_number\": 21, \"metric\": null, \"status\": \"Completed\", \"run_type\": \"azureml.scriptrun\", \"training_percent\": \"100\", \"start_time\": \"2021-02-28T16:05:16.508981Z\", \"end_time\": \"2021-02-28T16:06:26.722318Z\", \"created_time\": \"2021-02-28T16:05:06.764918Z\", \"created_time_dt\": \"2021-02-28T16:05:06.764918Z\", \"duration\": \"0:01:19\", \"iteration\": \"16\", \"goal\": \"accuracy_max\", \"run_name\": \"SparseNormalizer, LightGBM\", \"run_properties\": \"<azureml.automl.runtime.shared.model_wrappers.SparseNormalizer object at 0x7f317dcba550\", \"primary_metric\": 0.96316667, \"best_metric\": 1.0}, {\"run_id\": \"AutoML_a42712d0-9994-4bec-81a9-4135c416679d_17\", \"run_number\": 22, \"metric\": null, \"status\": \"Completed\", \"run_type\": \"azureml.scriptrun\", \"training_percent\": \"100\", \"start_time\": \"2021-02-28T16:06:39.950984Z\", \"end_time\": \"2021-02-28T16:07:30.36003Z\", \"created_time\": \"2021-02-28T16:06:28.686535Z\", \"created_time_dt\": \"2021-02-28T16:06:28.686535Z\", \"duration\": \"0:01:01\", \"iteration\": \"17\", \"goal\": \"accuracy_max\", \"run_name\": \"SparseNormalizer, XGBoostClassifier\", \"run_properties\": \"<azureml.automl.runtime.shared.model_wrappers.SparseNormalizer object at 0x7f28a2abfa90\", \"primary_metric\": 0.97116667, \"best_metric\": 1.0}, {\"run_id\": \"AutoML_a42712d0-9994-4bec-81a9-4135c416679d_18\", \"run_number\": 23, \"metric\": null, \"status\": \"Completed\", \"run_type\": \"azureml.scriptrun\", \"training_percent\": \"100\", \"start_time\": \"2021-02-28T16:07:40.410027Z\", \"end_time\": \"2021-02-28T16:08:38.883589Z\", \"created_time\": \"2021-02-28T16:07:32.157785Z\", \"created_time_dt\": \"2021-02-28T16:07:32.157785Z\", \"duration\": \"0:01:06\", \"iteration\": \"18\", \"goal\": \"accuracy_max\", \"run_name\": \"MaxAbsScaler, LightGBM\", \"run_properties\": \"copy=True\", \"primary_metric\": 1.0, \"best_metric\": 1.0}, {\"run_id\": \"AutoML_a42712d0-9994-4bec-81a9-4135c416679d_19\", \"run_number\": 24, \"metric\": null, \"status\": \"Completed\", \"run_type\": \"azureml.scriptrun\", \"training_percent\": \"100\", \"start_time\": \"2021-02-28T16:08:50.226814Z\", \"end_time\": \"2021-02-28T16:09:48.56628Z\", \"created_time\": \"2021-02-28T16:08:41.517814Z\", \"created_time_dt\": \"2021-02-28T16:08:41.517814Z\", \"duration\": \"0:01:07\", \"iteration\": \"19\", \"goal\": \"accuracy_max\", \"run_name\": \"SparseNormalizer, XGBoostClassifier\", \"run_properties\": \"<azureml.automl.runtime.shared.model_wrappers.SparseNormalizer object at 0x7f988e59aa20\", \"primary_metric\": 0.96266667, \"best_metric\": 1.0}, {\"run_id\": \"AutoML_a42712d0-9994-4bec-81a9-4135c416679d_20\", \"run_number\": 25, \"metric\": null, \"status\": \"Completed\", \"run_type\": \"azureml.scriptrun\", \"training_percent\": \"100\", \"start_time\": \"2021-02-28T16:10:02.37974Z\", \"end_time\": \"2021-02-28T16:10:53.821693Z\", \"created_time\": \"2021-02-28T16:09:50.179687Z\", \"created_time_dt\": \"2021-02-28T16:09:50.179687Z\", \"duration\": \"0:01:03\", \"iteration\": \"20\", \"goal\": \"accuracy_max\", \"run_name\": \"MaxAbsScaler, LightGBM\", \"run_properties\": \"copy=True\", \"primary_metric\": 0.99583333, \"best_metric\": 1.0}, {\"run_id\": \"AutoML_a42712d0-9994-4bec-81a9-4135c416679d_21\", \"run_number\": 26, \"metric\": null, \"status\": \"Completed\", \"run_type\": \"azureml.scriptrun\", \"training_percent\": \"100\", \"start_time\": \"2021-02-28T16:11:09.595561Z\", \"end_time\": \"2021-02-28T16:12:16.661799Z\", \"created_time\": \"2021-02-28T16:10:55.602733Z\", \"created_time_dt\": \"2021-02-28T16:10:55.602733Z\", \"duration\": \"0:01:21\", \"iteration\": \"21\", \"goal\": \"accuracy_max\", \"run_name\": \"MaxAbsScaler, ExtremeRandomTrees\", \"run_properties\": \"copy=True\", \"primary_metric\": 0.95, \"best_metric\": 1.0}, {\"run_id\": \"AutoML_a42712d0-9994-4bec-81a9-4135c416679d_22\", \"run_number\": 27, \"metric\": null, \"status\": \"Completed\", \"run_type\": \"azureml.scriptrun\", \"training_percent\": \"100\", \"start_time\": \"2021-02-28T16:12:30.33693Z\", \"end_time\": \"2021-02-28T16:13:29.685149Z\", \"created_time\": \"2021-02-28T16:12:21.373919Z\", \"created_time_dt\": \"2021-02-28T16:12:21.373919Z\", \"duration\": \"0:01:08\", \"iteration\": \"22\", \"goal\": \"accuracy_max\", \"run_name\": \"MaxAbsScaler, LightGBM\", \"run_properties\": \"copy=True\", \"primary_metric\": 1.0, \"best_metric\": 1.0}, {\"run_id\": \"AutoML_a42712d0-9994-4bec-81a9-4135c416679d_23\", \"run_number\": 28, \"metric\": null, \"status\": \"Completed\", \"run_type\": \"azureml.scriptrun\", \"training_percent\": \"100\", \"start_time\": \"2021-02-28T16:13:41.407708Z\", \"end_time\": \"2021-02-28T16:14:40.305333Z\", \"created_time\": \"2021-02-28T16:13:32.650607Z\", \"created_time_dt\": \"2021-02-28T16:13:32.650607Z\", \"duration\": \"0:01:07\", \"iteration\": \"23\", \"goal\": \"accuracy_max\", \"run_name\": \"SparseNormalizer, XGBoostClassifier\", \"run_properties\": \"<azureml.automl.runtime.shared.model_wrappers.SparseNormalizer object at 0x7fe10a9ec710\", \"primary_metric\": 0.95066667, \"best_metric\": 1.0}, {\"run_id\": \"AutoML_a42712d0-9994-4bec-81a9-4135c416679d_24\", \"run_number\": 29, \"metric\": null, \"status\": \"Completed\", \"run_type\": \"azureml.scriptrun\", \"training_percent\": \"100\", \"start_time\": \"2021-02-28T16:14:53.853811Z\", \"end_time\": \"2021-02-28T16:16:16.439299Z\", \"created_time\": \"2021-02-28T16:14:43.176867Z\", \"created_time_dt\": \"2021-02-28T16:14:43.176867Z\", \"duration\": \"0:01:33\", \"iteration\": \"24\", \"goal\": \"accuracy_max\", \"run_name\": \"StandardScalerWrapper, ExtremeRandomTrees\", \"run_properties\": \"<azureml.automl.runtime.shared.model_wrappers.StandardScalerWrapper object at 0x7f00818130b8\", \"primary_metric\": 0.9625, \"best_metric\": 1.0}, {\"run_id\": \"AutoML_a42712d0-9994-4bec-81a9-4135c416679d_25\", \"run_number\": 30, \"metric\": null, \"status\": \"Completed\", \"run_type\": \"azureml.scriptrun\", \"training_percent\": \"100\", \"start_time\": \"2021-02-28T16:16:34.998868Z\", \"end_time\": \"2021-02-28T16:17:26.369343Z\", \"created_time\": \"2021-02-28T16:16:20.476926Z\", \"created_time_dt\": \"2021-02-28T16:16:20.476926Z\", \"duration\": \"0:01:05\", \"iteration\": \"25\", \"goal\": \"accuracy_max\", \"run_name\": \"SparseNormalizer, LightGBM\", \"run_properties\": \"<azureml.automl.runtime.shared.model_wrappers.SparseNormalizer object at 0x7f9fc044c630\", \"primary_metric\": 0.92133333, \"best_metric\": 1.0}, {\"run_id\": \"AutoML_a42712d0-9994-4bec-81a9-4135c416679d_26\", \"run_number\": 31, \"metric\": null, \"status\": \"Completed\", \"run_type\": \"azureml.scriptrun\", \"training_percent\": \"100\", \"start_time\": \"2021-02-28T16:17:38.534267Z\", \"end_time\": \"2021-02-28T16:18:33.463651Z\", \"created_time\": \"2021-02-28T16:17:29.271094Z\", \"created_time_dt\": \"2021-02-28T16:17:29.271094Z\", \"duration\": \"0:01:04\", \"iteration\": \"26\", \"goal\": \"accuracy_max\", \"run_name\": \"SparseNormalizer, LightGBM\", \"run_properties\": \"<azureml.automl.runtime.shared.model_wrappers.SparseNormalizer object at 0x7fe4fcd733c8\", \"primary_metric\": 0.97516667, \"best_metric\": 1.0}, {\"run_id\": \"AutoML_a42712d0-9994-4bec-81a9-4135c416679d_27\", \"run_number\": 32, \"metric\": null, \"status\": \"Completed\", \"run_type\": \"azureml.scriptrun\", \"training_percent\": \"100\", \"start_time\": \"2021-02-28T16:18:44.137941Z\", \"end_time\": \"2021-02-28T16:19:37.31815Z\", \"created_time\": \"2021-02-28T16:18:36.163516Z\", \"created_time_dt\": \"2021-02-28T16:18:36.163516Z\", \"duration\": \"0:01:01\", \"iteration\": \"27\", \"goal\": \"accuracy_max\", \"run_name\": \"MaxAbsScaler, LightGBM\", \"run_properties\": \"copy=True\", \"primary_metric\": 0.92966667, \"best_metric\": 1.0}, {\"run_id\": \"AutoML_a42712d0-9994-4bec-81a9-4135c416679d_28\", \"run_number\": 33, \"metric\": null, \"status\": \"Completed\", \"run_type\": \"azureml.scriptrun\", \"training_percent\": \"100\", \"start_time\": \"2021-02-28T16:19:48.062329Z\", \"end_time\": \"2021-02-28T16:20:44.215067Z\", \"created_time\": \"2021-02-28T16:19:40.268061Z\", \"created_time_dt\": \"2021-02-28T16:19:40.268061Z\", \"duration\": \"0:01:03\", \"iteration\": \"28\", \"goal\": \"accuracy_max\", \"run_name\": \"MaxAbsScaler, LightGBM\", \"run_properties\": \"copy=True\", \"primary_metric\": 1.0, \"best_metric\": 1.0}, {\"run_id\": \"AutoML_a42712d0-9994-4bec-81a9-4135c416679d_29\", \"run_number\": 34, \"metric\": null, \"status\": \"Completed\", \"run_type\": \"azureml.scriptrun\", \"training_percent\": \"100\", \"start_time\": \"2021-02-28T16:20:59.203453Z\", \"end_time\": \"2021-02-28T16:21:53.848379Z\", \"created_time\": \"2021-02-28T16:20:47.000582Z\", \"created_time_dt\": \"2021-02-28T16:20:47.000582Z\", \"duration\": \"0:01:06\", \"iteration\": \"29\", \"goal\": \"accuracy_max\", \"run_name\": \"MaxAbsScaler, LightGBM\", \"run_properties\": \"copy=True\", \"primary_metric\": 1.0, \"best_metric\": 1.0}, {\"run_id\": \"AutoML_a42712d0-9994-4bec-81a9-4135c416679d_30\", \"run_number\": 35, \"metric\": null, \"status\": \"Completed\", \"run_type\": \"azureml.scriptrun\", \"training_percent\": \"100\", \"start_time\": \"2021-02-28T16:22:11.645554Z\", \"end_time\": \"2021-02-28T16:23:09.420455Z\", \"created_time\": \"2021-02-28T16:21:57.965246Z\", \"created_time_dt\": \"2021-02-28T16:21:57.965246Z\", \"duration\": \"0:01:11\", \"iteration\": \"30\", \"goal\": \"accuracy_max\", \"run_name\": \"MaxAbsScaler, LightGBM\", \"run_properties\": \"copy=True\", \"primary_metric\": 0.95433333, \"best_metric\": 1.0}, {\"run_id\": \"AutoML_a42712d0-9994-4bec-81a9-4135c416679d_31\", \"run_number\": 36, \"metric\": null, \"status\": \"Completed\", \"run_type\": \"azureml.scriptrun\", \"training_percent\": \"100\", \"start_time\": \"2021-02-28T16:23:19.815663Z\", \"end_time\": \"2021-02-28T16:24:11.814393Z\", \"created_time\": \"2021-02-28T16:23:11.105269Z\", \"created_time_dt\": \"2021-02-28T16:23:11.105269Z\", \"duration\": \"0:01:00\", \"iteration\": \"31\", \"goal\": \"accuracy_max\", \"run_name\": \"MaxAbsScaler, LightGBM\", \"run_properties\": \"copy=True\", \"primary_metric\": 1.0, \"best_metric\": 1.0}, {\"run_id\": \"AutoML_a42712d0-9994-4bec-81a9-4135c416679d_32\", \"run_number\": 37, \"metric\": null, \"status\": \"Completed\", \"run_type\": \"azureml.scriptrun\", \"training_percent\": \"100\", \"start_time\": \"2021-02-28T16:24:25.427667Z\", \"end_time\": \"2021-02-28T16:25:17.272848Z\", \"created_time\": \"2021-02-28T16:24:13.363431Z\", \"created_time_dt\": \"2021-02-28T16:24:13.363431Z\", \"duration\": \"0:01:03\", \"iteration\": \"32\", \"goal\": \"accuracy_max\", \"run_name\": \"StandardScalerWrapper, LightGBM\", \"run_properties\": \"<azureml.automl.runtime.shared.model_wrappers.StandardScalerWrapper object at 0x7fbab8517e10\", \"primary_metric\": 1.0, \"best_metric\": 1.0}, {\"run_id\": \"AutoML_a42712d0-9994-4bec-81a9-4135c416679d_33\", \"run_number\": 38, \"metric\": null, \"status\": \"Completed\", \"run_type\": \"azureml.scriptrun\", \"training_percent\": \"100\", \"start_time\": \"2021-02-28T16:25:31.827879Z\", \"end_time\": \"2021-02-28T16:26:31.844471Z\", \"created_time\": \"2021-02-28T16:25:19.813822Z\", \"created_time_dt\": \"2021-02-28T16:25:19.813822Z\", \"duration\": \"0:01:12\", \"iteration\": \"33\", \"goal\": \"accuracy_max\", \"run_name\": \"MaxAbsScaler, GradientBoosting\", \"run_properties\": \"copy=True\", \"primary_metric\": 1.0, \"best_metric\": 1.0}, {\"run_id\": \"AutoML_a42712d0-9994-4bec-81a9-4135c416679d_34\", \"run_number\": 39, \"metric\": null, \"status\": \"Completed\", \"run_type\": \"azureml.scriptrun\", \"training_percent\": \"100\", \"start_time\": \"2021-02-28T16:26:44.662181Z\", \"end_time\": \"2021-02-28T16:27:44.263306Z\", \"created_time\": \"2021-02-28T16:26:34.335294Z\", \"created_time_dt\": \"2021-02-28T16:26:34.335294Z\", \"duration\": \"0:01:09\", \"iteration\": \"34\", \"goal\": \"accuracy_max\", \"run_name\": \"SparseNormalizer, ExtremeRandomTrees\", \"run_properties\": \"<azureml.automl.runtime.shared.model_wrappers.SparseNormalizer object at 0x7f0ed7fbdac8\", \"primary_metric\": 0.96666667, \"best_metric\": 1.0}, {\"run_id\": \"AutoML_a42712d0-9994-4bec-81a9-4135c416679d_35\", \"run_number\": 40, \"metric\": null, \"status\": \"Completed\", \"run_type\": \"azureml.scriptrun\", \"training_percent\": \"100\", \"start_time\": \"2021-02-28T16:28:05.835298Z\", \"end_time\": \"2021-02-28T16:29:00.490149Z\", \"created_time\": \"2021-02-28T16:27:49.945305Z\", \"created_time_dt\": \"2021-02-28T16:27:49.945305Z\", \"duration\": \"0:01:10\", \"iteration\": \"35\", \"goal\": \"accuracy_max\", \"run_name\": \"SparseNormalizer, LightGBM\", \"run_properties\": \"<azureml.automl.runtime.shared.model_wrappers.SparseNormalizer object at 0x7fe139691588\", \"primary_metric\": 0.54966667, \"best_metric\": 1.0}, {\"run_id\": \"AutoML_a42712d0-9994-4bec-81a9-4135c416679d_36\", \"run_number\": 41, \"metric\": null, \"status\": \"Completed\", \"run_type\": \"azureml.scriptrun\", \"training_percent\": \"100\", \"start_time\": \"2021-02-28T16:29:12.614023Z\", \"end_time\": \"2021-02-28T16:30:09.712084Z\", \"created_time\": \"2021-02-28T16:29:02.156121Z\", \"created_time_dt\": \"2021-02-28T16:29:02.156121Z\", \"duration\": \"0:01:07\", \"iteration\": \"36\", \"goal\": \"accuracy_max\", \"run_name\": \"SparseNormalizer, XGBoostClassifier\", \"run_properties\": \"<azureml.automl.runtime.shared.model_wrappers.SparseNormalizer object at 0x7fe0004b0470\", \"primary_metric\": 0.98333333, \"best_metric\": 1.0}, {\"run_id\": \"AutoML_a42712d0-9994-4bec-81a9-4135c416679d_37\", \"run_number\": 42, \"metric\": null, \"status\": \"Completed\", \"run_type\": \"azureml.scriptrun\", \"training_percent\": \"100\", \"start_time\": \"2021-02-28T16:30:20.518868Z\", \"end_time\": \"2021-02-28T16:31:13.27691Z\", \"created_time\": \"2021-02-28T16:30:11.284619Z\", \"created_time_dt\": \"2021-02-28T16:30:11.284619Z\", \"duration\": \"0:01:01\", \"iteration\": \"37\", \"goal\": \"accuracy_max\", \"run_name\": \"MaxAbsScaler, LightGBM\", \"run_properties\": \"copy=True\", \"primary_metric\": 1.0, \"best_metric\": 1.0}, {\"run_id\": \"AutoML_a42712d0-9994-4bec-81a9-4135c416679d_38\", \"run_number\": 43, \"metric\": null, \"status\": \"Completed\", \"run_type\": \"azureml.scriptrun\", \"training_percent\": \"100\", \"start_time\": \"2021-02-28T16:31:28.522551Z\", \"end_time\": \"2021-02-28T16:32:23.232201Z\", \"created_time\": \"2021-02-28T16:31:14.894201Z\", \"created_time_dt\": \"2021-02-28T16:31:14.894201Z\", \"duration\": \"0:01:08\", \"iteration\": \"38\", \"goal\": \"accuracy_max\", \"run_name\": \"SparseNormalizer, GradientBoosting\", \"run_properties\": \"<azureml.automl.runtime.shared.model_wrappers.SparseNormalizer object at 0x7f2e2cd050b8\", \"primary_metric\": 0.97116667, \"best_metric\": 1.0}, {\"run_id\": \"AutoML_a42712d0-9994-4bec-81a9-4135c416679d_39\", \"run_number\": 44, \"metric\": null, \"status\": \"Completed\", \"run_type\": \"azureml.scriptrun\", \"training_percent\": \"100\", \"start_time\": \"2021-02-28T16:32:40.45372Z\", \"end_time\": \"2021-02-28T16:33:36.798471Z\", \"created_time\": \"2021-02-28T16:32:26.889247Z\", \"created_time_dt\": \"2021-02-28T16:32:26.889247Z\", \"duration\": \"0:01:09\", \"iteration\": \"39\", \"goal\": \"accuracy_max\", \"run_name\": \"MaxAbsScaler, RandomForest\", \"run_properties\": \"copy=True\", \"primary_metric\": 1.0, \"best_metric\": 1.0}, {\"run_id\": \"AutoML_a42712d0-9994-4bec-81a9-4135c416679d_40\", \"run_number\": 45, \"metric\": null, \"status\": \"Completed\", \"run_type\": \"azureml.scriptrun\", \"training_percent\": \"100\", \"start_time\": \"2021-02-28T16:33:53.749991Z\", \"end_time\": \"2021-02-28T16:34:53.253769Z\", \"created_time\": \"2021-02-28T16:33:41.205351Z\", \"created_time_dt\": \"2021-02-28T16:33:41.205351Z\", \"duration\": \"0:01:12\", \"iteration\": \"40\", \"goal\": \"accuracy_max\", \"run_name\": \"SparseNormalizer, LightGBM\", \"run_properties\": \"<azureml.automl.runtime.shared.model_wrappers.SparseNormalizer object at 0x7f77f9da4f60\", \"primary_metric\": 0.96266667, \"best_metric\": 1.0}, {\"run_id\": \"AutoML_a42712d0-9994-4bec-81a9-4135c416679d_41\", \"run_number\": 46, \"metric\": null, \"status\": \"Completed\", \"run_type\": \"azureml.scriptrun\", \"training_percent\": \"100\", \"start_time\": \"2021-02-28T16:35:06.050797Z\", \"end_time\": \"2021-02-28T16:35:56.616034Z\", \"created_time\": \"2021-02-28T16:34:55.846455Z\", \"created_time_dt\": \"2021-02-28T16:34:55.846455Z\", \"duration\": \"0:01:00\", \"iteration\": \"41\", \"goal\": \"accuracy_max\", \"run_name\": \"SparseNormalizer, LightGBM\", \"run_properties\": \"<azureml.automl.runtime.shared.model_wrappers.SparseNormalizer object at 0x7fcfb2709780\", \"primary_metric\": 0.96283333, \"best_metric\": 1.0}, {\"run_id\": \"AutoML_a42712d0-9994-4bec-81a9-4135c416679d_42\", \"run_number\": 47, \"metric\": null, \"status\": \"Completed\", \"run_type\": \"azureml.scriptrun\", \"training_percent\": \"100\", \"start_time\": \"2021-02-28T16:36:11.318453Z\", \"end_time\": \"2021-02-28T16:36:59.955851Z\", \"created_time\": \"2021-02-28T16:35:58.924182Z\", \"created_time_dt\": \"2021-02-28T16:35:58.924182Z\", \"duration\": \"0:01:01\", \"iteration\": \"42\", \"goal\": \"accuracy_max\", \"run_name\": \"MaxAbsScaler, GradientBoosting\", \"run_properties\": \"copy=True\", \"primary_metric\": 0.88816667, \"best_metric\": 1.0}, {\"run_id\": \"AutoML_a42712d0-9994-4bec-81a9-4135c416679d_43\", \"run_number\": 48, \"metric\": null, \"status\": \"Completed\", \"run_type\": \"azureml.scriptrun\", \"training_percent\": \"100\", \"start_time\": \"2021-02-28T16:37:12.235827Z\", \"end_time\": \"2021-02-28T16:38:07.212591Z\", \"created_time\": \"2021-02-28T16:37:02.3881Z\", \"created_time_dt\": \"2021-02-28T16:37:02.3881Z\", \"duration\": \"0:01:04\", \"iteration\": \"43\", \"goal\": \"accuracy_max\", \"run_name\": \"StandardScalerWrapper, LightGBM\", \"run_properties\": \"<azureml.automl.runtime.shared.model_wrappers.StandardScalerWrapper object at 0x7fe09521fb70\", \"primary_metric\": 1.0, \"best_metric\": 1.0}, {\"run_id\": \"AutoML_a42712d0-9994-4bec-81a9-4135c416679d_44\", \"run_number\": 49, \"metric\": null, \"status\": \"Completed\", \"run_type\": \"azureml.scriptrun\", \"training_percent\": \"100\", \"start_time\": \"2021-02-28T16:38:20.714265Z\", \"end_time\": \"2021-02-28T16:39:21.413997Z\", \"created_time\": \"2021-02-28T16:38:10.353559Z\", \"created_time_dt\": \"2021-02-28T16:38:10.353559Z\", \"duration\": \"0:01:11\", \"iteration\": \"44\", \"goal\": \"accuracy_max\", \"run_name\": \"StandardScalerWrapper, LightGBM\", \"run_properties\": \"<azureml.automl.runtime.shared.model_wrappers.StandardScalerWrapper object at 0x7fd808211668\", \"primary_metric\": 1.0, \"best_metric\": 1.0}, {\"run_id\": \"AutoML_a42712d0-9994-4bec-81a9-4135c416679d_45\", \"run_number\": 50, \"metric\": null, \"status\": \"Completed\", \"run_type\": \"azureml.scriptrun\", \"training_percent\": \"100\", \"start_time\": \"2021-02-28T16:39:34.822025Z\", \"end_time\": \"2021-02-28T16:40:50.299539Z\", \"created_time\": \"2021-02-28T16:39:24.712007Z\", \"created_time_dt\": \"2021-02-28T16:39:24.712007Z\", \"duration\": \"0:01:25\", \"iteration\": \"45\", \"goal\": \"accuracy_max\", \"run_name\": \"StandardScalerWrapper, LightGBM\", \"run_properties\": \"<azureml.automl.runtime.shared.model_wrappers.StandardScalerWrapper object at 0x7f0af7f8a048\", \"primary_metric\": 0.56216667, \"best_metric\": 1.0}, {\"run_id\": \"AutoML_a42712d0-9994-4bec-81a9-4135c416679d_46\", \"run_number\": 51, \"metric\": null, \"status\": \"Completed\", \"run_type\": \"azureml.scriptrun\", \"training_percent\": \"100\", \"start_time\": \"2021-02-28T16:41:03.394473Z\", \"end_time\": \"2021-02-28T16:42:00.03581Z\", \"created_time\": \"2021-02-28T16:40:53.258Z\", \"created_time_dt\": \"2021-02-28T16:40:53.258Z\", \"duration\": \"0:01:06\", \"iteration\": \"46\", \"goal\": \"accuracy_max\", \"run_name\": \"MaxAbsScaler, LightGBM\", \"run_properties\": \"copy=True\", \"primary_metric\": 1.0, \"best_metric\": 1.0}, {\"run_id\": \"AutoML_a42712d0-9994-4bec-81a9-4135c416679d_47\", \"run_number\": 52, \"metric\": null, \"status\": \"Completed\", \"run_type\": \"azureml.scriptrun\", \"training_percent\": \"100\", \"start_time\": \"2021-02-28T16:42:18.171688Z\", \"end_time\": \"2021-02-28T16:43:13.32715Z\", \"created_time\": \"2021-02-28T16:42:03.470157Z\", \"created_time_dt\": \"2021-02-28T16:42:03.470157Z\", \"duration\": \"0:01:09\", \"iteration\": \"47\", \"goal\": \"accuracy_max\", \"run_name\": \"StandardScalerWrapper, LightGBM\", \"run_properties\": \"<azureml.automl.runtime.shared.model_wrappers.StandardScalerWrapper object at 0x7f95e44f0438\", \"primary_metric\": 1.0, \"best_metric\": 1.0}, {\"run_id\": \"AutoML_a42712d0-9994-4bec-81a9-4135c416679d_48\", \"run_number\": 53, \"metric\": null, \"status\": \"Completed\", \"run_type\": \"azureml.scriptrun\", \"training_percent\": \"100\", \"start_time\": \"2021-02-28T16:43:28.844346Z\", \"end_time\": \"2021-02-28T16:44:19.378069Z\", \"created_time\": \"2021-02-28T16:43:16.346766Z\", \"created_time_dt\": \"2021-02-28T16:43:16.346766Z\", \"duration\": \"0:01:03\", \"iteration\": \"48\", \"goal\": \"accuracy_max\", \"run_name\": \"TruncatedSVDWrapper, XGBoostClassifier\", \"run_properties\": \"n_components=0.5542105263157895, random_state=None\", \"primary_metric\": 0.9505, \"best_metric\": 1.0}, {\"run_id\": \"AutoML_a42712d0-9994-4bec-81a9-4135c416679d_49\", \"run_number\": 54, \"metric\": null, \"status\": \"Completed\", \"run_type\": \"azureml.scriptrun\", \"training_percent\": \"100\", \"start_time\": \"2021-02-28T16:44:34.150272Z\", \"end_time\": \"2021-02-28T16:45:28.218319Z\", \"created_time\": \"2021-02-28T16:44:21.299999Z\", \"created_time_dt\": \"2021-02-28T16:44:21.299999Z\", \"duration\": \"0:01:06\", \"iteration\": \"49\", \"goal\": \"accuracy_max\", \"run_name\": \"SparseNormalizer, LightGBM\", \"run_properties\": \"<azureml.automl.runtime.shared.model_wrappers.SparseNormalizer object at 0x7f157c8fcb00\", \"primary_metric\": 0.95066667, \"best_metric\": 1.0}, {\"run_id\": \"AutoML_a42712d0-9994-4bec-81a9-4135c416679d_50\", \"run_number\": 55, \"metric\": null, \"status\": \"Completed\", \"run_type\": \"azureml.scriptrun\", \"training_percent\": \"100\", \"start_time\": \"2021-02-28T16:45:42.741467Z\", \"end_time\": \"2021-02-28T16:46:39.501797Z\", \"created_time\": \"2021-02-28T16:45:31.600224Z\", \"created_time_dt\": \"2021-02-28T16:45:31.600224Z\", \"duration\": \"0:01:07\", \"iteration\": \"50\", \"goal\": \"accuracy_max\", \"run_name\": \"StandardScalerWrapper, LightGBM\", \"run_properties\": \"<azureml.automl.runtime.shared.model_wrappers.StandardScalerWrapper object at 0x7fd655846908\", \"primary_metric\": 1.0, \"best_metric\": 1.0}, {\"run_id\": \"AutoML_a42712d0-9994-4bec-81a9-4135c416679d_51\", \"run_number\": 56, \"metric\": null, \"status\": \"Completed\", \"run_type\": \"azureml.scriptrun\", \"training_percent\": \"100\", \"start_time\": \"2021-02-28T16:46:50.57112Z\", \"end_time\": \"2021-02-28T16:48:25.784244Z\", \"created_time\": \"2021-02-28T16:46:41.771243Z\", \"created_time_dt\": \"2021-02-28T16:46:41.771243Z\", \"duration\": \"0:01:44\", \"iteration\": \"51\", \"goal\": \"accuracy_max\", \"run_name\": \"VotingEnsemble\", \"run_properties\": \"classification_labels=None,\\n                              estimators=[('50',\\n                                           Pipeline(memory=None,\\n                                                    steps=[('standardscalerwrapper',\\n                                                            <azureml.automl.runtime.shared.model_wrappers.StandardScalerWrapper object at 0x7fde6a8fd748>\", \"primary_metric\": 1.0, \"best_metric\": 1.0}, {\"run_id\": \"AutoML_a42712d0-9994-4bec-81a9-4135c416679d_52\", \"run_number\": 57, \"metric\": null, \"status\": \"Completed\", \"run_type\": \"azureml.scriptrun\", \"training_percent\": \"100\", \"start_time\": \"2021-02-28T16:48:37.695855Z\", \"end_time\": \"2021-02-28T16:50:07.974144Z\", \"created_time\": \"2021-02-28T16:48:28.427778Z\", \"created_time_dt\": \"2021-02-28T16:48:28.427778Z\", \"duration\": \"0:01:39\", \"iteration\": \"52\", \"goal\": \"accuracy_max\", \"run_name\": \"StackEnsemble\", \"run_properties\": \"base_learners=[('50',\\n                                        Pipeline(memory=None,\\n                                                 steps=[('standardscalerwrapper',\\n                                                         <azureml.automl.runtime.shared.model_wrappers.StandardScalerWrapper object at 0x7f6f4482b6d8>\", \"primary_metric\": 1.0, \"best_metric\": 1.0}], \"children_metrics\": {\"categories\": [0], \"series\": {\"average_precision_score_micro\": [{\"categories\": [\"0\", \"1\", \"2\", \"3\", \"4\", \"5\", \"6\", \"7\", \"8\", \"9\", \"10\", \"11\", \"12\", \"13\", \"14\", \"15\", \"16\", \"17\", \"18\", \"19\", \"20\", \"21\", \"22\", \"23\", \"24\", \"25\", \"26\", \"27\", \"28\", \"29\", \"30\", \"31\", \"32\", \"33\", \"34\", \"35\", \"36\", \"37\", \"38\", \"39\", \"40\", \"41\", \"42\", \"43\", \"44\", \"45\", \"46\", \"47\", \"48\", \"49\", \"50\", \"51\", \"52\"], \"mode\": \"markers\", \"name\": \"average_precision_score_micro\", \"stepped\": false, \"type\": \"scatter\", \"data\": [1.0, 1.0, 0.9996666666666666, 0.984968812357749, 0.9974013532763533, 0.98788274293648, 0.9928706670527433, 0.9999999999999998, 1.0, 1.0, 1.0, 0.9951479475972228, 1.0, 0.9978365764670111, 0.9945823370874596, 0.9933716164380337, 0.9950090948497057, 0.9954040288449958, 1.0, 0.9871846664745311, 0.9998333333333334, 0.9876279662825758, 1.0, 0.9875164043862646, 0.9902533959835275, 0.9826006370050177, 0.9968529669042712, 0.9748609483935773, 1.0, 1.0, 0.9914539029690379, 1.0, 1.0, 1.0, 0.9967532953157953, 0.8311283209007648, 0.9980331401690096, 1.0, 0.9978804502663197, 1.0, 0.9957038405676449, 0.9927865127865683, 0.9563456354328718, 1.0, 1.0, 0.7728954442419554, 0.9999999999999998, 1.0, 0.9919879750765459, 0.992315141858253, 1.0, 1.0, 1.0]}, {\"categories\": [\"0\", \"1\", \"2\", \"3\", \"4\", \"5\", \"6\", \"7\", \"8\", \"9\", \"10\", \"11\", \"12\", \"13\", \"14\", \"15\", \"16\", \"17\", \"18\", \"19\", \"20\", \"21\", \"22\", \"23\", \"24\", \"25\", \"26\", \"27\", \"28\", \"29\", \"30\", \"31\", \"32\", \"33\", \"34\", \"35\", \"36\", \"37\", \"38\", \"39\", \"40\", \"41\", \"42\", \"43\", \"44\", \"45\", \"46\", \"47\", \"48\", \"49\", \"50\", \"51\", \"52\"], \"mode\": \"lines\", \"name\": \"average_precision_score_micro_max\", \"stepped\": true, \"type\": \"scatter\", \"data\": [1.0, 1.0, 1.0, 1.0, 1.0, 1.0, 1.0, 1.0, 1.0, 1.0, 1.0, 1.0, 1.0, 1.0, 1.0, 1.0, 1.0, 1.0, 1.0, 1.0, 1.0, 1.0, 1.0, 1.0, 1.0, 1.0, 1.0, 1.0, 1.0, 1.0, 1.0, 1.0, 1.0, 1.0, 1.0, 1.0, 1.0, 1.0, 1.0, 1.0, 1.0, 1.0, 1.0, 1.0, 1.0, 1.0, 1.0, 1.0, 1.0, 1.0, 1.0, 1.0, 1.0]}], \"precision_score_macro\": [{\"categories\": [\"0\", \"1\", \"2\", \"3\", \"4\", \"5\", \"6\", \"7\", \"8\", \"9\", \"10\", \"11\", \"12\", \"13\", \"14\", \"15\", \"16\", \"17\", \"18\", \"19\", \"20\", \"21\", \"22\", \"23\", \"24\", \"25\", \"26\", \"27\", \"28\", \"29\", \"30\", \"31\", \"32\", \"33\", \"34\", \"35\", \"36\", \"37\", \"38\", \"39\", \"40\", \"41\", \"42\", \"43\", \"44\", \"45\", \"46\", \"47\", \"48\", \"49\", \"50\", \"51\", \"52\"], \"mode\": \"markers\", \"name\": \"precision_score_macro\", \"stepped\": false, \"type\": \"scatter\", \"data\": [1.0, 1.0, 0.9958333333333332, 0.9578782328782329, 0.9767521367521368, 0.9432862276612276, 0.9650824175824175, 1.0, 1.0, 1.0, 1.0, 0.9735574229691878, 1.0, 0.9771062271062272, 0.9703654474610357, 0.9577622377622378, 0.9626365301365303, 0.9716847041847043, 1.0, 0.9664606227106228, 0.9958333333333332, 0.9513109602815485, 1.0, 0.9537296037296038, 0.966562028657617, 0.928425618499148, 0.9762237762237762, 0.9448198125404008, 1.0, 1.0, 0.964135288730877, 1.0, 1.0, 1.0, 0.966468253968254, 0.2748333333333334, 0.9845238095238095, 1.0, 0.9749862637362637, 1.0, 0.9668242664198546, 0.9649401089106971, 0.9001144405130473, 1.0, 1.0, 0.4287282608695652, 1.0, 1.0, 0.959903846153846, 0.9530171217671217, 1.0, 1.0, 1.0]}, {\"categories\": [\"0\", \"1\", \"2\", \"3\", \"4\", \"5\", \"6\", \"7\", \"8\", \"9\", \"10\", \"11\", \"12\", \"13\", \"14\", \"15\", \"16\", \"17\", \"18\", \"19\", \"20\", \"21\", \"22\", \"23\", \"24\", \"25\", \"26\", \"27\", \"28\", \"29\", \"30\", \"31\", \"32\", \"33\", \"34\", \"35\", \"36\", \"37\", \"38\", \"39\", \"40\", \"41\", \"42\", \"43\", \"44\", \"45\", \"46\", \"47\", \"48\", \"49\", \"50\", \"51\", \"52\"], \"mode\": \"lines\", \"name\": \"precision_score_macro_max\", \"stepped\": true, \"type\": \"scatter\", \"data\": [1.0, 1.0, 1.0, 1.0, 1.0, 1.0, 1.0, 1.0, 1.0, 1.0, 1.0, 1.0, 1.0, 1.0, 1.0, 1.0, 1.0, 1.0, 1.0, 1.0, 1.0, 1.0, 1.0, 1.0, 1.0, 1.0, 1.0, 1.0, 1.0, 1.0, 1.0, 1.0, 1.0, 1.0, 1.0, 1.0, 1.0, 1.0, 1.0, 1.0, 1.0, 1.0, 1.0, 1.0, 1.0, 1.0, 1.0, 1.0, 1.0, 1.0, 1.0, 1.0, 1.0]}], \"f1_score_weighted\": [{\"categories\": [\"0\", \"1\", \"2\", \"3\", \"4\", \"5\", \"6\", \"7\", \"8\", \"9\", \"10\", \"11\", \"12\", \"13\", \"14\", \"15\", \"16\", \"17\", \"18\", \"19\", \"20\", \"21\", \"22\", \"23\", \"24\", \"25\", \"26\", \"27\", \"28\", \"29\", \"30\", \"31\", \"32\", \"33\", \"34\", \"35\", \"36\", \"37\", \"38\", \"39\", \"40\", \"41\", \"42\", \"43\", \"44\", \"45\", \"46\", \"47\", \"48\", \"49\", \"50\", \"51\", \"52\"], \"mode\": \"markers\", \"name\": \"f1_score_weighted\", \"stepped\": false, \"type\": \"scatter\", \"data\": [1.0, 1.0, 0.9958405797101448, 0.953133669336568, 0.9748809523809523, 0.9458341859360573, 0.9628998221579825, 1.0, 1.0, 1.0, 1.0, 0.9662054191352116, 1.0, 0.9752784000755016, 0.9664713821777594, 0.9545594550639922, 0.9632722422767795, 0.9711482720178373, 1.0, 0.9625849600556856, 0.9958405797101448, 0.9499459815546771, 1.0, 0.9505754369087702, 0.9623455804169858, 0.9201140915456885, 0.975159420289855, 0.9279040525638991, 1.0, 1.0, 0.9534026908810527, 1.0, 1.0, 1.0, 0.9666077754773408, 0.39332049489015436, 0.983289241622575, 1.0, 0.9710107190215451, 1.0, 0.9624905079532177, 0.9627449678871862, 0.8857322164491283, 1.0, 1.0, 0.4195052944960066, 1.0, 1.0, 0.9498394785568699, 0.9504459636171676, 1.0, 1.0, 1.0]}, {\"categories\": [\"0\", \"1\", \"2\", \"3\", \"4\", \"5\", \"6\", \"7\", \"8\", \"9\", \"10\", \"11\", \"12\", \"13\", \"14\", \"15\", \"16\", \"17\", \"18\", \"19\", \"20\", \"21\", \"22\", \"23\", \"24\", \"25\", \"26\", \"27\", \"28\", \"29\", \"30\", \"31\", \"32\", \"33\", \"34\", \"35\", \"36\", \"37\", \"38\", \"39\", \"40\", \"41\", \"42\", \"43\", \"44\", \"45\", \"46\", \"47\", \"48\", \"49\", \"50\", \"51\", \"52\"], \"mode\": \"lines\", \"name\": \"f1_score_weighted_max\", \"stepped\": true, \"type\": \"scatter\", \"data\": [1.0, 1.0, 1.0, 1.0, 1.0, 1.0, 1.0, 1.0, 1.0, 1.0, 1.0, 1.0, 1.0, 1.0, 1.0, 1.0, 1.0, 1.0, 1.0, 1.0, 1.0, 1.0, 1.0, 1.0, 1.0, 1.0, 1.0, 1.0, 1.0, 1.0, 1.0, 1.0, 1.0, 1.0, 1.0, 1.0, 1.0, 1.0, 1.0, 1.0, 1.0, 1.0, 1.0, 1.0, 1.0, 1.0, 1.0, 1.0, 1.0, 1.0, 1.0, 1.0, 1.0]}], \"recall_score_macro\": [{\"categories\": [\"0\", \"1\", \"2\", \"3\", \"4\", \"5\", \"6\", \"7\", \"8\", \"9\", \"10\", \"11\", \"12\", \"13\", \"14\", \"15\", \"16\", \"17\", \"18\", \"19\", \"20\", \"21\", \"22\", \"23\", \"24\", \"25\", \"26\", \"27\", \"28\", \"29\", \"30\", \"31\", \"32\", \"33\", \"34\", \"35\", \"36\", \"37\", \"38\", \"39\", \"40\", \"41\", \"42\", \"43\", \"44\", \"45\", \"46\", \"47\", \"48\", \"49\", \"50\", \"51\", \"52\"], \"mode\": \"markers\", \"name\": \"recall_score_macro\", \"stepped\": false, \"type\": \"scatter\", \"data\": [1.0, 1.0, 0.9961538461538462, 0.9510012210012212, 0.9743278943278944, 0.9467651098901099, 0.9642365967365969, 1.0, 1.0, 1.0, 1.0, 0.9615549728049728, 1.0, 0.9752622377622379, 0.9630196192696193, 0.956544289044289, 0.9662820512820515, 0.9714557664557665, 1.0, 0.961495448995449, 0.9961538461538462, 0.9482643745143745, 1.0, 0.9543190143190143, 0.959097707847708, 0.9135250166500167, 0.9759032634032634, 0.9195949883449884, 1.0, 1.0, 0.9468327505827506, 1.0, 1.0, 1.0, 0.9659945609945609, 0.5, 0.9825757575757577, 1.0, 0.9680400155400155, 1.0, 0.959097707847708, 0.9631272893772895, 0.8770652264402263, 1.0, 1.0, 0.5159722222222223, 1.0, 1.0, 0.9498193473193475, 0.9495143745143746, 1.0, 1.0, 1.0]}, {\"categories\": [\"0\", \"1\", \"2\", \"3\", \"4\", \"5\", \"6\", \"7\", \"8\", \"9\", \"10\", \"11\", \"12\", \"13\", \"14\", \"15\", \"16\", \"17\", \"18\", \"19\", \"20\", \"21\", \"22\", \"23\", \"24\", \"25\", \"26\", \"27\", \"28\", \"29\", \"30\", \"31\", \"32\", \"33\", \"34\", \"35\", \"36\", \"37\", \"38\", \"39\", \"40\", \"41\", \"42\", \"43\", \"44\", \"45\", \"46\", \"47\", \"48\", \"49\", \"50\", \"51\", \"52\"], \"mode\": \"lines\", \"name\": \"recall_score_macro_max\", \"stepped\": true, \"type\": \"scatter\", \"data\": [1.0, 1.0, 1.0, 1.0, 1.0, 1.0, 1.0, 1.0, 1.0, 1.0, 1.0, 1.0, 1.0, 1.0, 1.0, 1.0, 1.0, 1.0, 1.0, 1.0, 1.0, 1.0, 1.0, 1.0, 1.0, 1.0, 1.0, 1.0, 1.0, 1.0, 1.0, 1.0, 1.0, 1.0, 1.0, 1.0, 1.0, 1.0, 1.0, 1.0, 1.0, 1.0, 1.0, 1.0, 1.0, 1.0, 1.0, 1.0, 1.0, 1.0, 1.0, 1.0, 1.0]}], \"AUC_micro\": [{\"categories\": [\"0\", \"1\", \"2\", \"3\", \"4\", \"5\", \"6\", \"7\", \"8\", \"9\", \"10\", \"11\", \"12\", \"13\", \"14\", \"15\", \"16\", \"17\", \"18\", \"19\", \"20\", \"21\", \"22\", \"23\", \"24\", \"25\", \"26\", \"27\", \"28\", \"29\", \"30\", \"31\", \"32\", \"33\", \"34\", \"35\", \"36\", \"37\", \"38\", \"39\", \"40\", \"41\", \"42\", \"43\", \"44\", \"45\", \"46\", \"47\", \"48\", \"49\", \"50\", \"51\", \"52\"], \"mode\": \"markers\", \"name\": \"AUC_micro\", \"stepped\": false, \"type\": \"scatter\", \"data\": [1.0, 1.0, 0.9997395833333333, 0.9835205555555555, 0.9972222222222221, 0.9866999999999999, 0.9923916666666666, 1.0, 1.0, 1.0, 1.0, 0.9947916666666666, 1.0, 0.9977055555555555, 0.9941108333333334, 0.9928341666666668, 0.9945702777777777, 0.9951013888888889, 1.0, 0.9872480555555556, 0.999826388888889, 0.9868055555555555, 1.0, 0.9864172222222223, 0.9894097222222223, 0.981335, 0.9966502777777778, 0.9732672222222222, 1.0, 1.0, 0.9908394444444445, 1.0, 1.0, 1.0, 0.9965277777777779, 0.7899733333333334, 0.9979166666666666, 1.0, 0.9977702777777779, 1.0, 0.995435, 0.9925958333333333, 0.9540813888888888, 1.0, 1.0, 0.7397724999999999, 1.0, 1.0, 0.9912580555555556, 0.991646111111111, 1.0, 1.0, 1.0]}, {\"categories\": [\"0\", \"1\", \"2\", \"3\", \"4\", \"5\", \"6\", \"7\", \"8\", \"9\", \"10\", \"11\", \"12\", \"13\", \"14\", \"15\", \"16\", \"17\", \"18\", \"19\", \"20\", \"21\", \"22\", \"23\", \"24\", \"25\", \"26\", \"27\", \"28\", \"29\", \"30\", \"31\", \"32\", \"33\", \"34\", \"35\", \"36\", \"37\", \"38\", \"39\", \"40\", \"41\", \"42\", \"43\", \"44\", \"45\", \"46\", \"47\", \"48\", \"49\", \"50\", \"51\", \"52\"], \"mode\": \"lines\", \"name\": \"AUC_micro_max\", \"stepped\": true, \"type\": \"scatter\", \"data\": [1.0, 1.0, 1.0, 1.0, 1.0, 1.0, 1.0, 1.0, 1.0, 1.0, 1.0, 1.0, 1.0, 1.0, 1.0, 1.0, 1.0, 1.0, 1.0, 1.0, 1.0, 1.0, 1.0, 1.0, 1.0, 1.0, 1.0, 1.0, 1.0, 1.0, 1.0, 1.0, 1.0, 1.0, 1.0, 1.0, 1.0, 1.0, 1.0, 1.0, 1.0, 1.0, 1.0, 1.0, 1.0, 1.0, 1.0, 1.0, 1.0, 1.0, 1.0, 1.0, 1.0]}], \"AUC_macro\": [{\"categories\": [\"0\", \"1\", \"2\", \"3\", \"4\", \"5\", \"6\", \"7\", \"8\", \"9\", \"10\", \"11\", \"12\", \"13\", \"14\", \"15\", \"16\", \"17\", \"18\", \"19\", \"20\", \"21\", \"22\", \"23\", \"24\", \"25\", \"26\", \"27\", \"28\", \"29\", \"30\", \"31\", \"32\", \"33\", \"34\", \"35\", \"36\", \"37\", \"38\", \"39\", \"40\", \"41\", \"42\", \"43\", \"44\", \"45\", \"46\", \"47\", \"48\", \"49\", \"50\", \"51\", \"52\"], \"mode\": \"markers\", \"name\": \"AUC_macro\", \"stepped\": false, \"type\": \"scatter\", \"data\": [1.0, 1.0, 1.0, 0.9883139083139083, 0.9992592592592592, 0.9898632848632849, 0.9971613571613572, 1.0, 1.0, 1.0, 1.0, 0.9993006993006993, 1.0, 0.9993589743589745, 0.9964620564620563, 0.9952382802382804, 0.9967365967365968, 0.9958378658378658, 1.0, 0.9877034770784772, 1.0, 0.9914474876974877, 1.0, 0.9926159026159025, 0.9908262108262107, 0.9891907213157213, 0.998018648018648, 0.9856524956524957, 1.0, 1.0, 0.9971199171199171, 1.0, 1.0, 1.0, 0.9971613571613572, 0.9979189329189329, 0.9993006993006993, 1.0, 0.9986013986013986, 1.0, 0.9972779072779072, 0.9987179487179487, 0.9610489591427089, 1.0, 1.0, 0.8927216013153514, 1.0, 1.0, 0.9966783216783217, 0.9945606708106707, 1.0, 1.0, 1.0]}, {\"categories\": [\"0\", \"1\", \"2\", \"3\", \"4\", \"5\", \"6\", \"7\", \"8\", \"9\", \"10\", \"11\", \"12\", \"13\", \"14\", \"15\", \"16\", \"17\", \"18\", \"19\", \"20\", \"21\", \"22\", \"23\", \"24\", \"25\", \"26\", \"27\", \"28\", \"29\", \"30\", \"31\", \"32\", \"33\", \"34\", \"35\", \"36\", \"37\", \"38\", \"39\", \"40\", \"41\", \"42\", \"43\", \"44\", \"45\", \"46\", \"47\", \"48\", \"49\", \"50\", \"51\", \"52\"], \"mode\": \"lines\", \"name\": \"AUC_macro_max\", \"stepped\": true, \"type\": \"scatter\", \"data\": [1.0, 1.0, 1.0, 1.0, 1.0, 1.0, 1.0, 1.0, 1.0, 1.0, 1.0, 1.0, 1.0, 1.0, 1.0, 1.0, 1.0, 1.0, 1.0, 1.0, 1.0, 1.0, 1.0, 1.0, 1.0, 1.0, 1.0, 1.0, 1.0, 1.0, 1.0, 1.0, 1.0, 1.0, 1.0, 1.0, 1.0, 1.0, 1.0, 1.0, 1.0, 1.0, 1.0, 1.0, 1.0, 1.0, 1.0, 1.0, 1.0, 1.0, 1.0, 1.0, 1.0]}], \"average_precision_score_macro\": [{\"categories\": [\"0\", \"1\", \"2\", \"3\", \"4\", \"5\", \"6\", \"7\", \"8\", \"9\", \"10\", \"11\", \"12\", \"13\", \"14\", \"15\", \"16\", \"17\", \"18\", \"19\", \"20\", \"21\", \"22\", \"23\", \"24\", \"25\", \"26\", \"27\", \"28\", \"29\", \"30\", \"31\", \"32\", \"33\", \"34\", \"35\", \"36\", \"37\", \"38\", \"39\", \"40\", \"41\", \"42\", \"43\", \"44\", \"45\", \"46\", \"47\", \"48\", \"49\", \"50\", \"51\", \"52\"], \"mode\": \"markers\", \"name\": \"average_precision_score_macro\", \"stepped\": false, \"type\": \"scatter\", \"data\": [1.0, 1.0, 1.0, 0.9889330120821349, 0.9992361111111112, 0.9898826009871435, 0.9973709890536814, 1.0, 1.0, 1.0, 1.0, 0.999346486846487, 1.0, 0.9994047619047619, 0.9966520299824495, 0.9955637699518818, 0.997064073746766, 0.9961089039165962, 1.0, 0.9884623158504278, 1.0, 0.9923595016095017, 1.0, 0.9933681169258092, 0.9914640019071838, 0.989058762583032, 0.9981659312909313, 0.986494351401339, 1.0, 1.0, 0.9972894594721516, 1.0, 1.0, 1.0, 0.9973149087703284, 0.9979873598623599, 0.999346486846487, 1.0, 0.9986929736929737, 1.0, 0.9974020424020423, 0.9988194444444444, 0.9636123773181706, 1.0, 1.0, 0.8970852223404853, 1.0, 1.0, 0.9970056866210711, 0.9949823915400838, 1.0, 1.0, 1.0]}, {\"categories\": [\"0\", \"1\", \"2\", \"3\", \"4\", \"5\", \"6\", \"7\", \"8\", \"9\", \"10\", \"11\", \"12\", \"13\", \"14\", \"15\", \"16\", \"17\", \"18\", \"19\", \"20\", \"21\", \"22\", \"23\", \"24\", \"25\", \"26\", \"27\", \"28\", \"29\", \"30\", \"31\", \"32\", \"33\", \"34\", \"35\", \"36\", \"37\", \"38\", \"39\", \"40\", \"41\", \"42\", \"43\", \"44\", \"45\", \"46\", \"47\", \"48\", \"49\", \"50\", \"51\", \"52\"], \"mode\": \"lines\", \"name\": \"average_precision_score_macro_max\", \"stepped\": true, \"type\": \"scatter\", \"data\": [1.0, 1.0, 1.0, 1.0, 1.0, 1.0, 1.0, 1.0, 1.0, 1.0, 1.0, 1.0, 1.0, 1.0, 1.0, 1.0, 1.0, 1.0, 1.0, 1.0, 1.0, 1.0, 1.0, 1.0, 1.0, 1.0, 1.0, 1.0, 1.0, 1.0, 1.0, 1.0, 1.0, 1.0, 1.0, 1.0, 1.0, 1.0, 1.0, 1.0, 1.0, 1.0, 1.0, 1.0, 1.0, 1.0, 1.0, 1.0, 1.0, 1.0, 1.0, 1.0, 1.0]}], \"average_precision_score_weighted\": [{\"categories\": [\"0\", \"1\", \"2\", \"3\", \"4\", \"5\", \"6\", \"7\", \"8\", \"9\", \"10\", \"11\", \"12\", \"13\", \"14\", \"15\", \"16\", \"17\", \"18\", \"19\", \"20\", \"21\", \"22\", \"23\", \"24\", \"25\", \"26\", \"27\", \"28\", \"29\", \"30\", \"31\", \"32\", \"33\", \"34\", \"35\", \"36\", \"37\", \"38\", \"39\", \"40\", \"41\", \"42\", \"43\", \"44\", \"45\", \"46\", \"47\", \"48\", \"49\", \"50\", \"51\", \"52\"], \"mode\": \"markers\", \"name\": \"average_precision_score_weighted\", \"stepped\": false, \"type\": \"scatter\", \"data\": [1.0, 1.0, 1.0, 0.9899212909410278, 0.9993229166666666, 0.9907987294747164, 0.9974647054334553, 1.0, 1.0, 1.0, 1.0, 0.9993551587301587, 1.0, 0.9994065934065933, 0.9967846736596737, 0.9956812472249972, 0.9970647824397825, 0.9962707133144633, 1.0, 0.9885353755041256, 1.0, 0.9925958763458764, 1.0, 0.9934505473692974, 0.9917763775576276, 0.9901212902666077, 0.9981807997557997, 0.98730326352569, 1.0, 1.0, 0.9974450722888223, 1.0, 1.0, 1.0, 0.9974270347707848, 0.9980846688034187, 0.9993551587301587, 1.0, 0.9987103174603174, 1.0, 0.9975037164224663, 0.998825641025641, 0.9651193093620918, 1.0, 1.0, 0.90263092053712, 1.0, 1.0, 0.9970141025641025, 0.9951279865967365, 1.0, 1.0, 1.0]}, {\"categories\": [\"0\", \"1\", \"2\", \"3\", \"4\", \"5\", \"6\", \"7\", \"8\", \"9\", \"10\", \"11\", \"12\", \"13\", \"14\", \"15\", \"16\", \"17\", \"18\", \"19\", \"20\", \"21\", \"22\", \"23\", \"24\", \"25\", \"26\", \"27\", \"28\", \"29\", \"30\", \"31\", \"32\", \"33\", \"34\", \"35\", \"36\", \"37\", \"38\", \"39\", \"40\", \"41\", \"42\", \"43\", \"44\", \"45\", \"46\", \"47\", \"48\", \"49\", \"50\", \"51\", \"52\"], \"mode\": \"lines\", \"name\": \"average_precision_score_weighted_max\", \"stepped\": true, \"type\": \"scatter\", \"data\": [1.0, 1.0, 1.0, 1.0, 1.0, 1.0, 1.0, 1.0, 1.0, 1.0, 1.0, 1.0, 1.0, 1.0, 1.0, 1.0, 1.0, 1.0, 1.0, 1.0, 1.0, 1.0, 1.0, 1.0, 1.0, 1.0, 1.0, 1.0, 1.0, 1.0, 1.0, 1.0, 1.0, 1.0, 1.0, 1.0, 1.0, 1.0, 1.0, 1.0, 1.0, 1.0, 1.0, 1.0, 1.0, 1.0, 1.0, 1.0, 1.0, 1.0, 1.0, 1.0, 1.0]}], \"precision_score_weighted\": [{\"categories\": [\"0\", \"1\", \"2\", \"3\", \"4\", \"5\", \"6\", \"7\", \"8\", \"9\", \"10\", \"11\", \"12\", \"13\", \"14\", \"15\", \"16\", \"17\", \"18\", \"19\", \"20\", \"21\", \"22\", \"23\", \"24\", \"25\", \"26\", \"27\", \"28\", \"29\", \"30\", \"31\", \"32\", \"33\", \"34\", \"35\", \"36\", \"37\", \"38\", \"39\", \"40\", \"41\", \"42\", \"43\", \"44\", \"45\", \"46\", \"47\", \"48\", \"49\", \"50\", \"51\", \"52\"], \"mode\": \"markers\", \"name\": \"precision_score_weighted\", \"stepped\": false, \"type\": \"scatter\", \"data\": [1.0, 1.0, 0.9961805555555555, 0.9586913641913641, 0.9773931623931624, 0.9492686884874386, 0.9674764652014651, 1.0, 1.0, 1.0, 1.0, 0.9711461251167133, 1.0, 0.9777887667887668, 0.9687345033098709, 0.9606121794871795, 0.9667532328782329, 0.9733331529581528, 1.0, 0.9667842643467643, 0.9961805555555555, 0.9525688159879335, 1.0, 0.958864898989899, 0.9652330788084464, 0.9278496566750244, 0.9770769230769231, 0.9399802933994111, 1.0, 1.0, 0.9604862457803633, 1.0, 1.0, 1.0, 0.9678869047619048, 0.3083455555555556, 0.9846230158730158, 1.0, 0.9732279075091574, 1.0, 0.9653602155605832, 0.9668729701670878, 0.898000715637132, 1.0, 1.0, 0.4338965821256039, 1.0, 1.0, 0.959817735042735, 0.9540773670773671, 1.0, 1.0, 1.0]}, {\"categories\": [\"0\", \"1\", \"2\", \"3\", \"4\", \"5\", \"6\", \"7\", \"8\", \"9\", \"10\", \"11\", \"12\", \"13\", \"14\", \"15\", \"16\", \"17\", \"18\", \"19\", \"20\", \"21\", \"22\", \"23\", \"24\", \"25\", \"26\", \"27\", \"28\", \"29\", \"30\", \"31\", \"32\", \"33\", \"34\", \"35\", \"36\", \"37\", \"38\", \"39\", \"40\", \"41\", \"42\", \"43\", \"44\", \"45\", \"46\", \"47\", \"48\", \"49\", \"50\", \"51\", \"52\"], \"mode\": \"lines\", \"name\": \"precision_score_weighted_max\", \"stepped\": true, \"type\": \"scatter\", \"data\": [1.0, 1.0, 1.0, 1.0, 1.0, 1.0, 1.0, 1.0, 1.0, 1.0, 1.0, 1.0, 1.0, 1.0, 1.0, 1.0, 1.0, 1.0, 1.0, 1.0, 1.0, 1.0, 1.0, 1.0, 1.0, 1.0, 1.0, 1.0, 1.0, 1.0, 1.0, 1.0, 1.0, 1.0, 1.0, 1.0, 1.0, 1.0, 1.0, 1.0, 1.0, 1.0, 1.0, 1.0, 1.0, 1.0, 1.0, 1.0, 1.0, 1.0, 1.0, 1.0, 1.0]}], \"log_loss\": [{\"categories\": [\"0\", \"1\", \"2\", \"3\", \"4\", \"5\", \"6\", \"7\", \"8\", \"9\", \"10\", \"11\", \"12\", \"13\", \"14\", \"15\", \"16\", \"17\", \"18\", \"19\", \"20\", \"21\", \"22\", \"23\", \"24\", \"25\", \"26\", \"27\", \"28\", \"29\", \"30\", \"31\", \"32\", \"33\", \"34\", \"35\", \"36\", \"37\", \"38\", \"39\", \"40\", \"41\", \"42\", \"43\", \"44\", \"45\", \"46\", \"47\", \"48\", \"49\", \"50\", \"51\", \"52\"], \"mode\": \"markers\", \"name\": \"log_loss\", \"stepped\": false, \"type\": \"scatter\", \"data\": [0.00014962528907307967, 0.009061664363493831, 0.16103725089109425, 0.21759809502561084, 0.18773268792801753, 0.2881270300972546, 0.12394654567757635, 0.18729134126714553, 0.19238410129219002, 0.3895444541511774, 0.13232869899425334, 0.4369692373854792, 0.20755010759628764, 0.09711256492970675, 0.3716777964007442, 0.3237423345262665, 0.18066816284012413, 0.10636454616078568, 0.32302788678252126, 0.37568921809742695, 0.3066957970848353, 0.258478187807525, 0.0699035943715368, 0.19166377563384795, 0.21307970833979253, 0.4789829693322334, 0.10035510949388851, 0.4953757381246221, 0.33045174343241784, 0.2541917252292777, 0.3806304060431827, 0.06834405531785474, 0.22259943293680667, 0.0002831951203018339, 0.22871992408525882, 0.6867121684424079, 0.07980750414679404, 0.04372796500682727, 0.18576510048612496, 0.003543623082244803, 0.16451463978989647, 0.3488601591915016, 0.36745421246065824, 0.052114926720482915, 0.01723583510787919, 0.6594025164129993, 0.1957272139491578, 0.14140294726739605, 0.15043179521871708, 0.19052831023555308, 0.24209307297513552, 0.12511498201127425, 0.4820235388737973]}, {\"categories\": [\"0\", \"1\", \"2\", \"3\", \"4\", \"5\", \"6\", \"7\", \"8\", \"9\", \"10\", \"11\", \"12\", \"13\", \"14\", \"15\", \"16\", \"17\", \"18\", \"19\", \"20\", \"21\", \"22\", \"23\", \"24\", \"25\", \"26\", \"27\", \"28\", \"29\", \"30\", \"31\", \"32\", \"33\", \"34\", \"35\", \"36\", \"37\", \"38\", \"39\", \"40\", \"41\", \"42\", \"43\", \"44\", \"45\", \"46\", \"47\", \"48\", \"49\", \"50\", \"51\", \"52\"], \"mode\": \"lines\", \"name\": \"log_loss_min\", \"stepped\": true, \"type\": \"scatter\", \"data\": [0.00014962528907307967, 0.00014962528907307967, 0.00014962528907307967, 0.00014962528907307967, 0.00014962528907307967, 0.00014962528907307967, 0.00014962528907307967, 0.00014962528907307967, 0.00014962528907307967, 0.00014962528907307967, 0.00014962528907307967, 0.00014962528907307967, 0.00014962528907307967, 0.00014962528907307967, 0.00014962528907307967, 0.00014962528907307967, 0.00014962528907307967, 0.00014962528907307967, 0.00014962528907307967, 0.00014962528907307967, 0.00014962528907307967, 0.00014962528907307967, 0.00014962528907307967, 0.00014962528907307967, 0.00014962528907307967, 0.00014962528907307967, 0.00014962528907307967, 0.00014962528907307967, 0.00014962528907307967, 0.00014962528907307967, 0.00014962528907307967, 0.00014962528907307967, 0.00014962528907307967, 0.00014962528907307967, 0.00014962528907307967, 0.00014962528907307967, 0.00014962528907307967, 0.00014962528907307967, 0.00014962528907307967, 0.00014962528907307967, 0.00014962528907307967, 0.00014962528907307967, 0.00014962528907307967, 0.00014962528907307967, 0.00014962528907307967, 0.00014962528907307967, 0.00014962528907307967, 0.00014962528907307967, 0.00014962528907307967, 0.00014962528907307967, 0.00014962528907307967, 0.00014962528907307967, 0.00014962528907307967]}], \"precision_score_micro\": [{\"categories\": [\"0\", \"1\", \"2\", \"3\", \"4\", \"5\", \"6\", \"7\", \"8\", \"9\", \"10\", \"11\", \"12\", \"13\", \"14\", \"15\", \"16\", \"17\", \"18\", \"19\", \"20\", \"21\", \"22\", \"23\", \"24\", \"25\", \"26\", \"27\", \"28\", \"29\", \"30\", \"31\", \"32\", \"33\", \"34\", \"35\", \"36\", \"37\", \"38\", \"39\", \"40\", \"41\", \"42\", \"43\", \"44\", \"45\", \"46\", \"47\", \"48\", \"49\", \"50\", \"51\", \"52\"], \"mode\": \"markers\", \"name\": \"precision_score_micro\", \"stepped\": false, \"type\": \"scatter\", \"data\": [1.0, 1.0, 0.9958333333333333, 0.9543333333333335, 0.975, 0.9460000000000001, 0.9630000000000001, 1.0, 1.0, 1.0, 1.0, 0.9666666666666668, 1.0, 0.9753333333333334, 0.9668333333333334, 0.9548333333333334, 0.9631666666666667, 0.9711666666666666, 1.0, 0.9626666666666667, 0.9958333333333333, 0.95, 1.0, 0.9506666666666665, 0.9625000000000001, 0.9213333333333334, 0.9751666666666667, 0.9296666666666666, 1.0, 1.0, 0.9543333333333335, 1.0, 1.0, 1.0, 0.9666666666666668, 0.5496666666666667, 0.9833333333333334, 1.0, 0.9711666666666667, 1.0, 0.9626666666666667, 0.9628333333333334, 0.8881666666666668, 1.0, 1.0, 0.5621666666666667, 1.0, 1.0, 0.9505000000000001, 0.9506666666666668, 1.0, 1.0, 1.0]}, {\"categories\": [\"0\", \"1\", \"2\", \"3\", \"4\", \"5\", \"6\", \"7\", \"8\", \"9\", \"10\", \"11\", \"12\", \"13\", \"14\", \"15\", \"16\", \"17\", \"18\", \"19\", \"20\", \"21\", \"22\", \"23\", \"24\", \"25\", \"26\", \"27\", \"28\", \"29\", \"30\", \"31\", \"32\", \"33\", \"34\", \"35\", \"36\", \"37\", \"38\", \"39\", \"40\", \"41\", \"42\", \"43\", \"44\", \"45\", \"46\", \"47\", \"48\", \"49\", \"50\", \"51\", \"52\"], \"mode\": \"lines\", \"name\": \"precision_score_micro_max\", \"stepped\": true, \"type\": \"scatter\", \"data\": [1.0, 1.0, 1.0, 1.0, 1.0, 1.0, 1.0, 1.0, 1.0, 1.0, 1.0, 1.0, 1.0, 1.0, 1.0, 1.0, 1.0, 1.0, 1.0, 1.0, 1.0, 1.0, 1.0, 1.0, 1.0, 1.0, 1.0, 1.0, 1.0, 1.0, 1.0, 1.0, 1.0, 1.0, 1.0, 1.0, 1.0, 1.0, 1.0, 1.0, 1.0, 1.0, 1.0, 1.0, 1.0, 1.0, 1.0, 1.0, 1.0, 1.0, 1.0, 1.0, 1.0]}], \"f1_score_micro\": [{\"categories\": [\"0\", \"1\", \"2\", \"3\", \"4\", \"5\", \"6\", \"7\", \"8\", \"9\", \"10\", \"11\", \"12\", \"13\", \"14\", \"15\", \"16\", \"17\", \"18\", \"19\", \"20\", \"21\", \"22\", \"23\", \"24\", \"25\", \"26\", \"27\", \"28\", \"29\", \"30\", \"31\", \"32\", \"33\", \"34\", \"35\", \"36\", \"37\", \"38\", \"39\", \"40\", \"41\", \"42\", \"43\", \"44\", \"45\", \"46\", \"47\", \"48\", \"49\", \"50\", \"51\", \"52\"], \"mode\": \"markers\", \"name\": \"f1_score_micro\", \"stepped\": false, \"type\": \"scatter\", \"data\": [1.0, 1.0, 0.9958333333333333, 0.9543333333333335, 0.975, 0.9460000000000001, 0.9630000000000001, 1.0, 1.0, 1.0, 1.0, 0.9666666666666668, 1.0, 0.9753333333333334, 0.9668333333333334, 0.9548333333333334, 0.9631666666666667, 0.9711666666666666, 1.0, 0.9626666666666667, 0.9958333333333333, 0.95, 1.0, 0.9506666666666665, 0.9625000000000001, 0.9213333333333334, 0.9751666666666667, 0.9296666666666666, 1.0, 1.0, 0.9543333333333335, 1.0, 1.0, 1.0, 0.9666666666666668, 0.5496666666666667, 0.9833333333333334, 1.0, 0.9711666666666667, 1.0, 0.9626666666666667, 0.9628333333333334, 0.8881666666666668, 1.0, 1.0, 0.5621666666666667, 1.0, 1.0, 0.9505000000000001, 0.9506666666666668, 1.0, 1.0, 1.0]}, {\"categories\": [\"0\", \"1\", \"2\", \"3\", \"4\", \"5\", \"6\", \"7\", \"8\", \"9\", \"10\", \"11\", \"12\", \"13\", \"14\", \"15\", \"16\", \"17\", \"18\", \"19\", \"20\", \"21\", \"22\", \"23\", \"24\", \"25\", \"26\", \"27\", \"28\", \"29\", \"30\", \"31\", \"32\", \"33\", \"34\", \"35\", \"36\", \"37\", \"38\", \"39\", \"40\", \"41\", \"42\", \"43\", \"44\", \"45\", \"46\", \"47\", \"48\", \"49\", \"50\", \"51\", \"52\"], \"mode\": \"lines\", \"name\": \"f1_score_micro_max\", \"stepped\": true, \"type\": \"scatter\", \"data\": [1.0, 1.0, 1.0, 1.0, 1.0, 1.0, 1.0, 1.0, 1.0, 1.0, 1.0, 1.0, 1.0, 1.0, 1.0, 1.0, 1.0, 1.0, 1.0, 1.0, 1.0, 1.0, 1.0, 1.0, 1.0, 1.0, 1.0, 1.0, 1.0, 1.0, 1.0, 1.0, 1.0, 1.0, 1.0, 1.0, 1.0, 1.0, 1.0, 1.0, 1.0, 1.0, 1.0, 1.0, 1.0, 1.0, 1.0, 1.0, 1.0, 1.0, 1.0, 1.0, 1.0]}], \"matthews_correlation\": [{\"categories\": [\"0\", \"1\", \"2\", \"3\", \"4\", \"5\", \"6\", \"7\", \"8\", \"9\", \"10\", \"11\", \"12\", \"13\", \"14\", \"15\", \"16\", \"17\", \"18\", \"19\", \"20\", \"21\", \"22\", \"23\", \"24\", \"25\", \"26\", \"27\", \"28\", \"29\", \"30\", \"31\", \"32\", \"33\", \"34\", \"35\", \"36\", \"37\", \"38\", \"39\", \"40\", \"41\", \"42\", \"43\", \"44\", \"45\", \"46\", \"47\", \"48\", \"49\", \"50\", \"51\", \"52\"], \"mode\": \"markers\", \"name\": \"matthews_correlation\", \"stepped\": false, \"type\": \"scatter\", \"data\": [1.0, 1.0, 0.9919866211007801, 0.9085268834274636, 0.9510451426696752, 0.8899555735330387, 0.9292521920104125, 1.0, 1.0, 1.0, 1.0, 0.9348625604120239, 1.0, 0.9523306656805062, 0.9332641227718703, 0.9142022363279828, 0.9288659867176182, 0.9431278141607233, 1.0, 0.9278772633879925, 0.9919866211007801, 0.899484270167115, 1.0, 0.9079151012076828, 0.9255509147307504, 0.8415234042085746, 0.9521264812406403, 0.8634814064339867, 1.0, 1.0, 0.9103989591592146, 1.0, 1.0, 1.0, 0.9324277413516991, 0.0, 0.9670589359106906, 1.0, 0.9429533607364945, 1.0, 0.9258136093545877, 0.9279818535292115, 0.7762198077692456, 1.0, 1.0, 0.07725892773959517, 1.0, 1.0, 0.9095591439609721, 0.9024246298174082, 1.0, 1.0, 1.0]}, {\"categories\": [\"0\", \"1\", \"2\", \"3\", \"4\", \"5\", \"6\", \"7\", \"8\", \"9\", \"10\", \"11\", \"12\", \"13\", \"14\", \"15\", \"16\", \"17\", \"18\", \"19\", \"20\", \"21\", \"22\", \"23\", \"24\", \"25\", \"26\", \"27\", \"28\", \"29\", \"30\", \"31\", \"32\", \"33\", \"34\", \"35\", \"36\", \"37\", \"38\", \"39\", \"40\", \"41\", \"42\", \"43\", \"44\", \"45\", \"46\", \"47\", \"48\", \"49\", \"50\", \"51\", \"52\"], \"mode\": \"lines\", \"name\": \"matthews_correlation_max\", \"stepped\": true, \"type\": \"scatter\", \"data\": [1.0, 1.0, 1.0, 1.0, 1.0, 1.0, 1.0, 1.0, 1.0, 1.0, 1.0, 1.0, 1.0, 1.0, 1.0, 1.0, 1.0, 1.0, 1.0, 1.0, 1.0, 1.0, 1.0, 1.0, 1.0, 1.0, 1.0, 1.0, 1.0, 1.0, 1.0, 1.0, 1.0, 1.0, 1.0, 1.0, 1.0, 1.0, 1.0, 1.0, 1.0, 1.0, 1.0, 1.0, 1.0, 1.0, 1.0, 1.0, 1.0, 1.0, 1.0, 1.0, 1.0]}], \"recall_score_weighted\": [{\"categories\": [\"0\", \"1\", \"2\", \"3\", \"4\", \"5\", \"6\", \"7\", \"8\", \"9\", \"10\", \"11\", \"12\", \"13\", \"14\", \"15\", \"16\", \"17\", \"18\", \"19\", \"20\", \"21\", \"22\", \"23\", \"24\", \"25\", \"26\", \"27\", \"28\", \"29\", \"30\", \"31\", \"32\", \"33\", \"34\", \"35\", \"36\", \"37\", \"38\", \"39\", \"40\", \"41\", \"42\", \"43\", \"44\", \"45\", \"46\", \"47\", \"48\", \"49\", \"50\", \"51\", \"52\"], \"mode\": \"markers\", \"name\": \"recall_score_weighted\", \"stepped\": false, \"type\": \"scatter\", \"data\": [1.0, 1.0, 0.9958333333333333, 0.9543333333333335, 0.975, 0.9460000000000001, 0.9630000000000001, 1.0, 1.0, 1.0, 1.0, 0.9666666666666668, 1.0, 0.9753333333333334, 0.9668333333333334, 0.9548333333333334, 0.9631666666666667, 0.9711666666666666, 1.0, 0.9626666666666667, 0.9958333333333333, 0.95, 1.0, 0.9506666666666665, 0.9625000000000001, 0.9213333333333334, 0.9751666666666667, 0.9296666666666666, 1.0, 1.0, 0.9543333333333335, 1.0, 1.0, 1.0, 0.9666666666666668, 0.5496666666666667, 0.9833333333333334, 1.0, 0.9711666666666667, 1.0, 0.9626666666666667, 0.9628333333333334, 0.8881666666666668, 1.0, 1.0, 0.5621666666666667, 1.0, 1.0, 0.9505000000000001, 0.9506666666666668, 1.0, 1.0, 1.0]}, {\"categories\": [\"0\", \"1\", \"2\", \"3\", \"4\", \"5\", \"6\", \"7\", \"8\", \"9\", \"10\", \"11\", \"12\", \"13\", \"14\", \"15\", \"16\", \"17\", \"18\", \"19\", \"20\", \"21\", \"22\", \"23\", \"24\", \"25\", \"26\", \"27\", \"28\", \"29\", \"30\", \"31\", \"32\", \"33\", \"34\", \"35\", \"36\", \"37\", \"38\", \"39\", \"40\", \"41\", \"42\", \"43\", \"44\", \"45\", \"46\", \"47\", \"48\", \"49\", \"50\", \"51\", \"52\"], \"mode\": \"lines\", \"name\": \"recall_score_weighted_max\", \"stepped\": true, \"type\": \"scatter\", \"data\": [1.0, 1.0, 1.0, 1.0, 1.0, 1.0, 1.0, 1.0, 1.0, 1.0, 1.0, 1.0, 1.0, 1.0, 1.0, 1.0, 1.0, 1.0, 1.0, 1.0, 1.0, 1.0, 1.0, 1.0, 1.0, 1.0, 1.0, 1.0, 1.0, 1.0, 1.0, 1.0, 1.0, 1.0, 1.0, 1.0, 1.0, 1.0, 1.0, 1.0, 1.0, 1.0, 1.0, 1.0, 1.0, 1.0, 1.0, 1.0, 1.0, 1.0, 1.0, 1.0, 1.0]}], \"balanced_accuracy\": [{\"categories\": [\"0\", \"1\", \"2\", \"3\", \"4\", \"5\", \"6\", \"7\", \"8\", \"9\", \"10\", \"11\", \"12\", \"13\", \"14\", \"15\", \"16\", \"17\", \"18\", \"19\", \"20\", \"21\", \"22\", \"23\", \"24\", \"25\", \"26\", \"27\", \"28\", \"29\", \"30\", \"31\", \"32\", \"33\", \"34\", \"35\", \"36\", \"37\", \"38\", \"39\", \"40\", \"41\", \"42\", \"43\", \"44\", \"45\", \"46\", \"47\", \"48\", \"49\", \"50\", \"51\", \"52\"], \"mode\": \"markers\", \"name\": \"balanced_accuracy\", \"stepped\": false, \"type\": \"scatter\", \"data\": [1.0, 1.0, 0.9961538461538462, 0.9510012210012212, 0.9743278943278944, 0.9467651098901099, 0.9642365967365969, 1.0, 1.0, 1.0, 1.0, 0.9615549728049728, 1.0, 0.9752622377622379, 0.9630196192696193, 0.956544289044289, 0.9662820512820515, 0.9714557664557665, 1.0, 0.961495448995449, 0.9961538461538462, 0.9482643745143745, 1.0, 0.9543190143190143, 0.959097707847708, 0.9135250166500167, 0.9759032634032634, 0.9195949883449884, 1.0, 1.0, 0.9468327505827506, 1.0, 1.0, 1.0, 0.9659945609945609, 0.5, 0.9825757575757577, 1.0, 0.9680400155400155, 1.0, 0.959097707847708, 0.9631272893772895, 0.8770652264402263, 1.0, 1.0, 0.5159722222222223, 1.0, 1.0, 0.9498193473193475, 0.9495143745143746, 1.0, 1.0, 1.0]}, {\"categories\": [\"0\", \"1\", \"2\", \"3\", \"4\", \"5\", \"6\", \"7\", \"8\", \"9\", \"10\", \"11\", \"12\", \"13\", \"14\", \"15\", \"16\", \"17\", \"18\", \"19\", \"20\", \"21\", \"22\", \"23\", \"24\", \"25\", \"26\", \"27\", \"28\", \"29\", \"30\", \"31\", \"32\", \"33\", \"34\", \"35\", \"36\", \"37\", \"38\", \"39\", \"40\", \"41\", \"42\", \"43\", \"44\", \"45\", \"46\", \"47\", \"48\", \"49\", \"50\", \"51\", \"52\"], \"mode\": \"lines\", \"name\": \"balanced_accuracy_max\", \"stepped\": true, \"type\": \"scatter\", \"data\": [1.0, 1.0, 1.0, 1.0, 1.0, 1.0, 1.0, 1.0, 1.0, 1.0, 1.0, 1.0, 1.0, 1.0, 1.0, 1.0, 1.0, 1.0, 1.0, 1.0, 1.0, 1.0, 1.0, 1.0, 1.0, 1.0, 1.0, 1.0, 1.0, 1.0, 1.0, 1.0, 1.0, 1.0, 1.0, 1.0, 1.0, 1.0, 1.0, 1.0, 1.0, 1.0, 1.0, 1.0, 1.0, 1.0, 1.0, 1.0, 1.0, 1.0, 1.0, 1.0, 1.0]}], \"weighted_accuracy\": [{\"categories\": [\"0\", \"1\", \"2\", \"3\", \"4\", \"5\", \"6\", \"7\", \"8\", \"9\", \"10\", \"11\", \"12\", \"13\", \"14\", \"15\", \"16\", \"17\", \"18\", \"19\", \"20\", \"21\", \"22\", \"23\", \"24\", \"25\", \"26\", \"27\", \"28\", \"29\", \"30\", \"31\", \"32\", \"33\", \"34\", \"35\", \"36\", \"37\", \"38\", \"39\", \"40\", \"41\", \"42\", \"43\", \"44\", \"45\", \"46\", \"47\", \"48\", \"49\", \"50\", \"51\", \"52\"], \"mode\": \"markers\", \"name\": \"weighted_accuracy\", \"stepped\": false, \"type\": \"scatter\", \"data\": [1.0, 1.0, 0.9955172413793104, 0.9571547952601716, 0.975605138607167, 0.9452988196497325, 0.9619151074195985, 1.0, 1.0, 1.0, 1.0, 0.9709978893701002, 1.0, 0.9754531814571896, 0.970060641310617, 0.9532789941663209, 0.9603507626472425, 0.970844561681227, 1.0, 0.9635795456104544, 0.9955172413793104, 0.951319052318038, 1.0, 0.9473947681553201, 0.9652896405533322, 0.9280634465826678, 0.9744385993904008, 0.9385222779340427, 1.0, 1.0, 0.9608131231559224, 1.0, 1.0, 1.0, 0.9673247994444749, 0.5922959825365388, 0.9841334539407562, 1.0, 0.9740076387058905, 1.0, 0.9656190445414341, 0.9622661465099366, 0.8981785292079412, 1.0, 1.0, 0.6019038256737937, 1.0, 1.0, 0.9510992712995028, 0.9517616867559353, 1.0, 1.0, 1.0]}, {\"categories\": [\"0\", \"1\", \"2\", \"3\", \"4\", \"5\", \"6\", \"7\", \"8\", \"9\", \"10\", \"11\", \"12\", \"13\", \"14\", \"15\", \"16\", \"17\", \"18\", \"19\", \"20\", \"21\", \"22\", \"23\", \"24\", \"25\", \"26\", \"27\", \"28\", \"29\", \"30\", \"31\", \"32\", \"33\", \"34\", \"35\", \"36\", \"37\", \"38\", \"39\", \"40\", \"41\", \"42\", \"43\", \"44\", \"45\", \"46\", \"47\", \"48\", \"49\", \"50\", \"51\", \"52\"], \"mode\": \"lines\", \"name\": \"weighted_accuracy_max\", \"stepped\": true, \"type\": \"scatter\", \"data\": [1.0, 1.0, 1.0, 1.0, 1.0, 1.0, 1.0, 1.0, 1.0, 1.0, 1.0, 1.0, 1.0, 1.0, 1.0, 1.0, 1.0, 1.0, 1.0, 1.0, 1.0, 1.0, 1.0, 1.0, 1.0, 1.0, 1.0, 1.0, 1.0, 1.0, 1.0, 1.0, 1.0, 1.0, 1.0, 1.0, 1.0, 1.0, 1.0, 1.0, 1.0, 1.0, 1.0, 1.0, 1.0, 1.0, 1.0, 1.0, 1.0, 1.0, 1.0, 1.0, 1.0]}], \"AUC_weighted\": [{\"categories\": [\"0\", \"1\", \"2\", \"3\", \"4\", \"5\", \"6\", \"7\", \"8\", \"9\", \"10\", \"11\", \"12\", \"13\", \"14\", \"15\", \"16\", \"17\", \"18\", \"19\", \"20\", \"21\", \"22\", \"23\", \"24\", \"25\", \"26\", \"27\", \"28\", \"29\", \"30\", \"31\", \"32\", \"33\", \"34\", \"35\", \"36\", \"37\", \"38\", \"39\", \"40\", \"41\", \"42\", \"43\", \"44\", \"45\", \"46\", \"47\", \"48\", \"49\", \"50\", \"51\", \"52\"], \"mode\": \"markers\", \"name\": \"AUC_weighted\", \"stepped\": false, \"type\": \"scatter\", \"data\": [1.0, 1.0, 1.0, 0.9883139083139083, 0.9992592592592592, 0.9898632848632849, 0.9971613571613572, 1.0, 1.0, 1.0, 1.0, 0.9993006993006993, 1.0, 0.9993589743589745, 0.9964620564620563, 0.9952382802382802, 0.9967365967365968, 0.9958378658378659, 1.0, 0.9877034770784772, 1.0, 0.9914474876974877, 1.0, 0.9926159026159025, 0.9908262108262107, 0.9891907213157213, 0.998018648018648, 0.9856524956524957, 1.0, 1.0, 0.9971199171199171, 1.0, 1.0, 1.0, 0.997161357161357, 0.9979189329189329, 0.9993006993006993, 1.0, 0.9986013986013986, 1.0, 0.9972779072779072, 0.9987179487179487, 0.9610489591427089, 1.0, 1.0, 0.8927216013153514, 1.0, 1.0, 0.9966783216783217, 0.9945606708106707, 1.0, 1.0, 1.0]}, {\"categories\": [\"0\", \"1\", \"2\", \"3\", \"4\", \"5\", \"6\", \"7\", \"8\", \"9\", \"10\", \"11\", \"12\", \"13\", \"14\", \"15\", \"16\", \"17\", \"18\", \"19\", \"20\", \"21\", \"22\", \"23\", \"24\", \"25\", \"26\", \"27\", \"28\", \"29\", \"30\", \"31\", \"32\", \"33\", \"34\", \"35\", \"36\", \"37\", \"38\", \"39\", \"40\", \"41\", \"42\", \"43\", \"44\", \"45\", \"46\", \"47\", \"48\", \"49\", \"50\", \"51\", \"52\"], \"mode\": \"lines\", \"name\": \"AUC_weighted_max\", \"stepped\": true, \"type\": \"scatter\", \"data\": [1.0, 1.0, 1.0, 1.0, 1.0, 1.0, 1.0, 1.0, 1.0, 1.0, 1.0, 1.0, 1.0, 1.0, 1.0, 1.0, 1.0, 1.0, 1.0, 1.0, 1.0, 1.0, 1.0, 1.0, 1.0, 1.0, 1.0, 1.0, 1.0, 1.0, 1.0, 1.0, 1.0, 1.0, 1.0, 1.0, 1.0, 1.0, 1.0, 1.0, 1.0, 1.0, 1.0, 1.0, 1.0, 1.0, 1.0, 1.0, 1.0, 1.0, 1.0, 1.0, 1.0]}], \"f1_score_macro\": [{\"categories\": [\"0\", \"1\", \"2\", \"3\", \"4\", \"5\", \"6\", \"7\", \"8\", \"9\", \"10\", \"11\", \"12\", \"13\", \"14\", \"15\", \"16\", \"17\", \"18\", \"19\", \"20\", \"21\", \"22\", \"23\", \"24\", \"25\", \"26\", \"27\", \"28\", \"29\", \"30\", \"31\", \"32\", \"33\", \"34\", \"35\", \"36\", \"37\", \"38\", \"39\", \"40\", \"41\", \"42\", \"43\", \"44\", \"45\", \"46\", \"47\", \"48\", \"49\", \"50\", \"51\", \"52\"], \"mode\": \"markers\", \"name\": \"f1_score_macro\", \"stepped\": false, \"type\": \"scatter\", \"data\": [1.0, 1.0, 0.9958260869565217, 0.9508033544555283, 0.9742063492063492, 0.9431189471432233, 0.9622749243590402, 1.0, 1.0, 1.0, 1.0, 0.9646662549098732, 1.0, 0.9748690284540912, 0.9652806652687851, 0.9539596486524602, 0.962699387437571, 0.9704587690892039, 1.0, 0.9617601816059864, 0.9958260869565217, 0.948362786708719, 1.0, 0.9497319746866026, 0.9612127330694712, 0.9162746897984763, 0.9751011452315799, 0.9246926452348447, 1.0, 1.0, 0.9510774051477655, 1.0, 1.0, 1.0, 0.9655273516124143, 0.3530064192215895, 0.9828229577775858, 1.0, 0.9702650909322669, 1.0, 0.9613428638082976, 0.9618545213535745, 0.8806776842438607, 1.0, 1.0, 0.3848000057520181, 1.0, 1.0, 0.9495052580269971, 0.9492602339984175, 1.0, 1.0, 1.0]}, {\"categories\": [\"0\", \"1\", \"2\", \"3\", \"4\", \"5\", \"6\", \"7\", \"8\", \"9\", \"10\", \"11\", \"12\", \"13\", \"14\", \"15\", \"16\", \"17\", \"18\", \"19\", \"20\", \"21\", \"22\", \"23\", \"24\", \"25\", \"26\", \"27\", \"28\", \"29\", \"30\", \"31\", \"32\", \"33\", \"34\", \"35\", \"36\", \"37\", \"38\", \"39\", \"40\", \"41\", \"42\", \"43\", \"44\", \"45\", \"46\", \"47\", \"48\", \"49\", \"50\", \"51\", \"52\"], \"mode\": \"lines\", \"name\": \"f1_score_macro_max\", \"stepped\": true, \"type\": \"scatter\", \"data\": [1.0, 1.0, 1.0, 1.0, 1.0, 1.0, 1.0, 1.0, 1.0, 1.0, 1.0, 1.0, 1.0, 1.0, 1.0, 1.0, 1.0, 1.0, 1.0, 1.0, 1.0, 1.0, 1.0, 1.0, 1.0, 1.0, 1.0, 1.0, 1.0, 1.0, 1.0, 1.0, 1.0, 1.0, 1.0, 1.0, 1.0, 1.0, 1.0, 1.0, 1.0, 1.0, 1.0, 1.0, 1.0, 1.0, 1.0, 1.0, 1.0, 1.0, 1.0, 1.0, 1.0]}], \"norm_macro_recall\": [{\"categories\": [\"0\", \"1\", \"2\", \"3\", \"4\", \"5\", \"6\", \"7\", \"8\", \"9\", \"10\", \"11\", \"12\", \"13\", \"14\", \"15\", \"16\", \"17\", \"18\", \"19\", \"20\", \"21\", \"22\", \"23\", \"24\", \"25\", \"26\", \"27\", \"28\", \"29\", \"30\", \"31\", \"32\", \"33\", \"34\", \"35\", \"36\", \"37\", \"38\", \"39\", \"40\", \"41\", \"42\", \"43\", \"44\", \"45\", \"46\", \"47\", \"48\", \"49\", \"50\", \"51\", \"52\"], \"mode\": \"markers\", \"name\": \"norm_macro_recall\", \"stepped\": false, \"type\": \"scatter\", \"data\": [1.0, 1.0, 0.9923076923076923, 0.902002442002442, 0.9486557886557886, 0.8935302197802197, 0.9284731934731936, 1.0, 1.0, 1.0, 1.0, 0.9231099456099455, 1.0, 0.9505244755244755, 0.9260392385392386, 0.913088578088578, 0.9325641025641025, 0.942911532911533, 1.0, 0.9229908979908978, 0.9923076923076923, 0.896528749028749, 1.0, 0.9086380286380287, 0.9181954156954157, 0.8270500333000333, 0.9518065268065268, 0.8391899766899767, 1.0, 1.0, 0.8936655011655011, 1.0, 1.0, 1.0, 0.931989121989122, 0.0, 0.9651515151515152, 1.0, 0.9360800310800309, 1.0, 0.9181954156954157, 0.9262545787545788, 0.7541304528804529, 1.0, 1.0, 0.03194444444444444, 1.0, 1.0, 0.8996386946386947, 0.899028749028749, 1.0, 1.0, 1.0]}, {\"categories\": [\"0\", \"1\", \"2\", \"3\", \"4\", \"5\", \"6\", \"7\", \"8\", \"9\", \"10\", \"11\", \"12\", \"13\", \"14\", \"15\", \"16\", \"17\", \"18\", \"19\", \"20\", \"21\", \"22\", \"23\", \"24\", \"25\", \"26\", \"27\", \"28\", \"29\", \"30\", \"31\", \"32\", \"33\", \"34\", \"35\", \"36\", \"37\", \"38\", \"39\", \"40\", \"41\", \"42\", \"43\", \"44\", \"45\", \"46\", \"47\", \"48\", \"49\", \"50\", \"51\", \"52\"], \"mode\": \"lines\", \"name\": \"norm_macro_recall_max\", \"stepped\": true, \"type\": \"scatter\", \"data\": [1.0, 1.0, 1.0, 1.0, 1.0, 1.0, 1.0, 1.0, 1.0, 1.0, 1.0, 1.0, 1.0, 1.0, 1.0, 1.0, 1.0, 1.0, 1.0, 1.0, 1.0, 1.0, 1.0, 1.0, 1.0, 1.0, 1.0, 1.0, 1.0, 1.0, 1.0, 1.0, 1.0, 1.0, 1.0, 1.0, 1.0, 1.0, 1.0, 1.0, 1.0, 1.0, 1.0, 1.0, 1.0, 1.0, 1.0, 1.0, 1.0, 1.0, 1.0, 1.0, 1.0]}], \"recall_score_micro\": [{\"categories\": [\"0\", \"1\", \"2\", \"3\", \"4\", \"5\", \"6\", \"7\", \"8\", \"9\", \"10\", \"11\", \"12\", \"13\", \"14\", \"15\", \"16\", \"17\", \"18\", \"19\", \"20\", \"21\", \"22\", \"23\", \"24\", \"25\", \"26\", \"27\", \"28\", \"29\", \"30\", \"31\", \"32\", \"33\", \"34\", \"35\", \"36\", \"37\", \"38\", \"39\", \"40\", \"41\", \"42\", \"43\", \"44\", \"45\", \"46\", \"47\", \"48\", \"49\", \"50\", \"51\", \"52\"], \"mode\": \"markers\", \"name\": \"recall_score_micro\", \"stepped\": false, \"type\": \"scatter\", \"data\": [1.0, 1.0, 0.9958333333333333, 0.9543333333333335, 0.975, 0.9460000000000001, 0.9630000000000001, 1.0, 1.0, 1.0, 1.0, 0.9666666666666668, 1.0, 0.9753333333333334, 0.9668333333333334, 0.9548333333333334, 0.9631666666666667, 0.9711666666666666, 1.0, 0.9626666666666667, 0.9958333333333333, 0.95, 1.0, 0.9506666666666665, 0.9625000000000001, 0.9213333333333334, 0.9751666666666667, 0.9296666666666666, 1.0, 1.0, 0.9543333333333335, 1.0, 1.0, 1.0, 0.9666666666666668, 0.5496666666666667, 0.9833333333333334, 1.0, 0.9711666666666667, 1.0, 0.9626666666666667, 0.9628333333333334, 0.8881666666666668, 1.0, 1.0, 0.5621666666666667, 1.0, 1.0, 0.9505000000000001, 0.9506666666666668, 1.0, 1.0, 1.0]}, {\"categories\": [\"0\", \"1\", \"2\", \"3\", \"4\", \"5\", \"6\", \"7\", \"8\", \"9\", \"10\", \"11\", \"12\", \"13\", \"14\", \"15\", \"16\", \"17\", \"18\", \"19\", \"20\", \"21\", \"22\", \"23\", \"24\", \"25\", \"26\", \"27\", \"28\", \"29\", \"30\", \"31\", \"32\", \"33\", \"34\", \"35\", \"36\", \"37\", \"38\", \"39\", \"40\", \"41\", \"42\", \"43\", \"44\", \"45\", \"46\", \"47\", \"48\", \"49\", \"50\", \"51\", \"52\"], \"mode\": \"lines\", \"name\": \"recall_score_micro_max\", \"stepped\": true, \"type\": \"scatter\", \"data\": [1.0, 1.0, 1.0, 1.0, 1.0, 1.0, 1.0, 1.0, 1.0, 1.0, 1.0, 1.0, 1.0, 1.0, 1.0, 1.0, 1.0, 1.0, 1.0, 1.0, 1.0, 1.0, 1.0, 1.0, 1.0, 1.0, 1.0, 1.0, 1.0, 1.0, 1.0, 1.0, 1.0, 1.0, 1.0, 1.0, 1.0, 1.0, 1.0, 1.0, 1.0, 1.0, 1.0, 1.0, 1.0, 1.0, 1.0, 1.0, 1.0, 1.0, 1.0, 1.0, 1.0]}], \"accuracy\": [{\"categories\": [\"0\", \"1\", \"2\", \"3\", \"4\", \"5\", \"6\", \"7\", \"8\", \"9\", \"10\", \"11\", \"12\", \"13\", \"14\", \"15\", \"16\", \"17\", \"18\", \"19\", \"20\", \"21\", \"22\", \"23\", \"24\", \"25\", \"26\", \"27\", \"28\", \"29\", \"30\", \"31\", \"32\", \"33\", \"34\", \"35\", \"36\", \"37\", \"38\", \"39\", \"40\", \"41\", \"42\", \"43\", \"44\", \"45\", \"46\", \"47\", \"48\", \"49\", \"50\", \"51\", \"52\"], \"mode\": \"markers\", \"name\": \"accuracy\", \"stepped\": false, \"type\": \"scatter\", \"data\": [1.0, 1.0, 0.9958333333333333, 0.9543333333333335, 0.975, 0.9460000000000001, 0.9630000000000001, 1.0, 1.0, 1.0, 1.0, 0.9666666666666668, 1.0, 0.9753333333333334, 0.9668333333333334, 0.9548333333333334, 0.9631666666666667, 0.9711666666666666, 1.0, 0.9626666666666667, 0.9958333333333333, 0.95, 1.0, 0.9506666666666665, 0.9625000000000001, 0.9213333333333334, 0.9751666666666667, 0.9296666666666666, 1.0, 1.0, 0.9543333333333335, 1.0, 1.0, 1.0, 0.9666666666666668, 0.5496666666666667, 0.9833333333333334, 1.0, 0.9711666666666667, 1.0, 0.9626666666666667, 0.9628333333333334, 0.8881666666666668, 1.0, 1.0, 0.5621666666666667, 1.0, 1.0, 0.9505000000000001, 0.9506666666666668, 1.0, 1.0, 1.0]}, {\"categories\": [\"0\", \"1\", \"2\", \"3\", \"4\", \"5\", \"6\", \"7\", \"8\", \"9\", \"10\", \"11\", \"12\", \"13\", \"14\", \"15\", \"16\", \"17\", \"18\", \"19\", \"20\", \"21\", \"22\", \"23\", \"24\", \"25\", \"26\", \"27\", \"28\", \"29\", \"30\", \"31\", \"32\", \"33\", \"34\", \"35\", \"36\", \"37\", \"38\", \"39\", \"40\", \"41\", \"42\", \"43\", \"44\", \"45\", \"46\", \"47\", \"48\", \"49\", \"50\", \"51\", \"52\"], \"mode\": \"lines\", \"name\": \"accuracy_max\", \"stepped\": true, \"type\": \"scatter\", \"data\": [1.0, 1.0, 1.0, 1.0, 1.0, 1.0, 1.0, 1.0, 1.0, 1.0, 1.0, 1.0, 1.0, 1.0, 1.0, 1.0, 1.0, 1.0, 1.0, 1.0, 1.0, 1.0, 1.0, 1.0, 1.0, 1.0, 1.0, 1.0, 1.0, 1.0, 1.0, 1.0, 1.0, 1.0, 1.0, 1.0, 1.0, 1.0, 1.0, 1.0, 1.0, 1.0, 1.0, 1.0, 1.0, 1.0, 1.0, 1.0, 1.0, 1.0, 1.0, 1.0, 1.0]}]}, \"metricName\": null, \"primaryMetricName\": \"accuracy\", \"showLegend\": false}, \"run_metrics\": [{\"name\": \"experiment_status\", \"run_id\": \"AutoML_a42712d0-9994-4bec-81a9-4135c416679d\", \"categories\": [0, 1, 2, 3, 4, 5, 6, 7, 8, 9, 10, 11, 12, 13], \"series\": [{\"data\": [\"DatasetEvaluation\", \"FeaturesGeneration\", \"DatasetFeaturization\", \"DatasetFeaturizationCompleted\", \"DatasetCrossValidationSplit\", \"ModelSelection\", \"BestRunExplainModel\", \"ModelExplanationDataSetSetup\", \"PickSurrogateModel\", \"EngineeredFeatureExplanations\", \"EngineeredFeatureExplanations\", \"RawFeaturesExplanations\", \"RawFeaturesExplanations\", \"BestRunExplainModel\"]}]}, {\"name\": \"experiment_status_description\", \"run_id\": \"AutoML_a42712d0-9994-4bec-81a9-4135c416679d\", \"categories\": [0, 1, 2, 3, 4, 5, 6, 7, 8, 9, 10, 11, 12, 13], \"series\": [{\"data\": [\"Gathering dataset statistics.\", \"Generating features for the dataset.\", \"Beginning to fit featurizers and featurize the dataset.\", \"Completed fit featurizers and featurizing the dataset.\", \"Generating individually featurized CV splits.\", \"Beginning model selection.\", \"Best run model explanations started\", \"Model explanations data setup completed\", \"Choosing LightGBM as the surrogate model for explanations\", \"Computation of engineered features started\", \"Computation of engineered features completed\", \"Computation of raw features started\", \"Computation of raw features completed\", \"Best run model explanations completed\"]}]}, {\"name\": \"log_loss\", \"run_id\": \"AutoML_a42712d0-9994-4bec-81a9-4135c416679d\", \"categories\": [0], \"series\": [{\"data\": [0.00014962528907307967]}]}, {\"name\": \"f1_score_micro\", \"run_id\": \"AutoML_a42712d0-9994-4bec-81a9-4135c416679d\", \"categories\": [0], \"series\": [{\"data\": [1.0]}]}, {\"name\": \"recall_score_macro\", \"run_id\": \"AutoML_a42712d0-9994-4bec-81a9-4135c416679d\", \"categories\": [0], \"series\": [{\"data\": [1.0]}]}, {\"name\": \"recall_score_micro\", \"run_id\": \"AutoML_a42712d0-9994-4bec-81a9-4135c416679d\", \"categories\": [0], \"series\": [{\"data\": [1.0]}]}, {\"name\": \"matthews_correlation\", \"run_id\": \"AutoML_a42712d0-9994-4bec-81a9-4135c416679d\", \"categories\": [0], \"series\": [{\"data\": [1.0]}]}, {\"name\": \"average_precision_score_weighted\", \"run_id\": \"AutoML_a42712d0-9994-4bec-81a9-4135c416679d\", \"categories\": [0], \"series\": [{\"data\": [1.0]}]}, {\"name\": \"weighted_accuracy\", \"run_id\": \"AutoML_a42712d0-9994-4bec-81a9-4135c416679d\", \"categories\": [0], \"series\": [{\"data\": [1.0]}]}, {\"name\": \"average_precision_score_macro\", \"run_id\": \"AutoML_a42712d0-9994-4bec-81a9-4135c416679d\", \"categories\": [0], \"series\": [{\"data\": [1.0]}]}, {\"name\": \"f1_score_macro\", \"run_id\": \"AutoML_a42712d0-9994-4bec-81a9-4135c416679d\", \"categories\": [0], \"series\": [{\"data\": [1.0]}]}, {\"name\": \"AUC_macro\", \"run_id\": \"AutoML_a42712d0-9994-4bec-81a9-4135c416679d\", \"categories\": [0], \"series\": [{\"data\": [1.0]}]}, {\"name\": \"balanced_accuracy\", \"run_id\": \"AutoML_a42712d0-9994-4bec-81a9-4135c416679d\", \"categories\": [0], \"series\": [{\"data\": [1.0]}]}, {\"name\": \"AUC_weighted\", \"run_id\": \"AutoML_a42712d0-9994-4bec-81a9-4135c416679d\", \"categories\": [0], \"series\": [{\"data\": [1.0]}]}, {\"name\": \"recall_score_weighted\", \"run_id\": \"AutoML_a42712d0-9994-4bec-81a9-4135c416679d\", \"categories\": [0], \"series\": [{\"data\": [1.0]}]}, {\"name\": \"norm_macro_recall\", \"run_id\": \"AutoML_a42712d0-9994-4bec-81a9-4135c416679d\", \"categories\": [0], \"series\": [{\"data\": [1.0]}]}, {\"name\": \"AUC_micro\", \"run_id\": \"AutoML_a42712d0-9994-4bec-81a9-4135c416679d\", \"categories\": [0], \"series\": [{\"data\": [1.0]}]}, {\"name\": \"accuracy\", \"run_id\": \"AutoML_a42712d0-9994-4bec-81a9-4135c416679d\", \"categories\": [0], \"series\": [{\"data\": [1.0]}]}, {\"name\": \"precision_score_micro\", \"run_id\": \"AutoML_a42712d0-9994-4bec-81a9-4135c416679d\", \"categories\": [0], \"series\": [{\"data\": [1.0]}]}, {\"name\": \"f1_score_weighted\", \"run_id\": \"AutoML_a42712d0-9994-4bec-81a9-4135c416679d\", \"categories\": [0], \"series\": [{\"data\": [1.0]}]}, {\"name\": \"average_precision_score_micro\", \"run_id\": \"AutoML_a42712d0-9994-4bec-81a9-4135c416679d\", \"categories\": [0], \"series\": [{\"data\": [1.0]}]}, {\"name\": \"precision_score_weighted\", \"run_id\": \"AutoML_a42712d0-9994-4bec-81a9-4135c416679d\", \"categories\": [0], \"series\": [{\"data\": [1.0]}]}, {\"name\": \"precision_score_macro\", \"run_id\": \"AutoML_a42712d0-9994-4bec-81a9-4135c416679d\", \"categories\": [0], \"series\": [{\"data\": [1.0]}]}], \"run_logs\": \"\\nRun is completed.\", \"graph\": {}, \"widget_settings\": {\"childWidgetDisplay\": \"popup\", \"send_telemetry\": false, \"log_level\": \"INFO\", \"sdk_version\": \"1.22.0\"}, \"loading\": false}"
          },
          "metadata": {
            "tags": []
          }
        },
        {
          "output_type": "stream",
          "text": [
            "\n",
            " ITERATION   PIPELINE                                       DURATION      METRIC      BEST\n",
            "         0   MaxAbsScaler LightGBM                          0:00:52       1.0000    1.0000\n",
            "         1   MaxAbsScaler XGBoostClassifier                 0:00:53       1.0000    1.0000\n",
            "         2   MaxAbsScaler RandomForest                      0:00:48       0.9958    1.0000\n",
            "         3   MaxAbsScaler RandomForest                      0:00:54       0.9543    1.0000\n",
            "         4   MaxAbsScaler RandomForest                      0:00:51       0.9750    1.0000\n",
            "         5   MaxAbsScaler RandomForest                      0:00:51       0.9460    1.0000\n",
            "         6   SparseNormalizer XGBoostClassifier             0:01:21       0.9630    1.0000\n",
            "         7   MaxAbsScaler LightGBM                          0:00:58       1.0000    1.0000\n",
            "         8   MaxAbsScaler GradientBoosting                  0:01:01       1.0000    1.0000\n",
            "         9   StandardScalerWrapper LightGBM                 0:00:58       1.0000    1.0000\n",
            "        10   MaxAbsScaler LightGBM                          0:00:58       1.0000    1.0000\n",
            "        11   MaxAbsScaler LightGBM                          0:00:56       0.9667    1.0000\n",
            "        12   MaxAbsScaler LightGBM                          0:00:54       1.0000    1.0000\n",
            "        13   SparseNormalizer LightGBM                      0:00:57       0.9753    1.0000\n",
            "        14   StandardScalerWrapper XGBoostClassifier        0:00:50       0.9668    1.0000\n",
            "        15   SparseNormalizer LightGBM                      0:00:49       0.9548    1.0000\n",
            "        16   SparseNormalizer LightGBM                      0:01:10       0.9632    1.0000\n",
            "        17   SparseNormalizer XGBoostClassifier             0:00:50       0.9712    1.0000\n",
            "        18   MaxAbsScaler LightGBM                          0:00:58       1.0000    1.0000\n",
            "        19   SparseNormalizer XGBoostClassifier             0:00:58       0.9627    1.0000\n",
            "        20   MaxAbsScaler LightGBM                          0:00:51       0.9958    1.0000\n",
            "        21   MaxAbsScaler ExtremeRandomTrees                0:01:07       0.9500    1.0000\n",
            "        22   MaxAbsScaler LightGBM                          0:00:59       1.0000    1.0000\n",
            "        23   SparseNormalizer XGBoostClassifier             0:00:59       0.9507    1.0000\n",
            "        24   StandardScalerWrapper ExtremeRandomTrees       0:01:23       0.9625    1.0000\n",
            "        25   SparseNormalizer LightGBM                      0:00:51       0.9213    1.0000\n",
            "        26   SparseNormalizer LightGBM                      0:00:55       0.9752    1.0000\n",
            "        27   MaxAbsScaler LightGBM                          0:00:53       0.9297    1.0000\n",
            "        28   MaxAbsScaler LightGBM                          0:00:56       1.0000    1.0000\n",
            "        29   MaxAbsScaler LightGBM                          0:00:55       1.0000    1.0000\n",
            "        30   MaxAbsScaler LightGBM                          0:00:58       0.9543    1.0000\n",
            "        31   MaxAbsScaler LightGBM                          0:00:52       1.0000    1.0000\n",
            "        32   StandardScalerWrapper LightGBM                 0:00:52       1.0000    1.0000\n",
            "        33   MaxAbsScaler GradientBoosting                  0:01:00       1.0000    1.0000\n",
            "        34   SparseNormalizer ExtremeRandomTrees            0:01:00       0.9667    1.0000\n",
            "        35   SparseNormalizer LightGBM                      0:00:55       0.5497    1.0000\n",
            "        36   SparseNormalizer XGBoostClassifier             0:00:57       0.9833    1.0000\n",
            "        37   MaxAbsScaler LightGBM                          0:00:53       1.0000    1.0000\n",
            "        38   SparseNormalizer GradientBoosting              0:00:55       0.9712    1.0000\n",
            "        39   MaxAbsScaler RandomForest                      0:00:56       1.0000    1.0000\n",
            "        40   SparseNormalizer LightGBM                      0:01:00       0.9627    1.0000\n",
            "        41   SparseNormalizer LightGBM                      0:00:51       0.9628    1.0000\n",
            "        42   MaxAbsScaler GradientBoosting                  0:00:49       0.8882    1.0000\n",
            "        43   StandardScalerWrapper LightGBM                 0:00:55       1.0000    1.0000\n",
            "        44   StandardScalerWrapper LightGBM                 0:01:01       1.0000    1.0000\n",
            "        45   StandardScalerWrapper LightGBM                 0:01:15       0.5622    1.0000\n",
            "        46   MaxAbsScaler LightGBM                          0:00:57       1.0000    1.0000\n",
            "        47   StandardScalerWrapper LightGBM                 0:00:55       1.0000    1.0000\n",
            "        48   TruncatedSVDWrapper XGBoostClassifier          0:00:51       0.9505    1.0000\n",
            "        49   SparseNormalizer LightGBM                      0:00:54       0.9507    1.0000\n",
            "        50   StandardScalerWrapper LightGBM                 0:00:57       1.0000    1.0000\n",
            "        51    VotingEnsemble                                0:01:35       1.0000    1.0000\n",
            "        52    StackEnsemble                                 0:01:30       1.0000    1.0000\n"
          ],
          "name": "stdout"
        },
        {
          "output_type": "execute_result",
          "data": {
            "text/plain": [
              "{'runId': 'AutoML_a42712d0-9994-4bec-81a9-4135c416679d',\n",
              " 'target': 'cpucluster',\n",
              " 'status': 'Completed',\n",
              " 'startTimeUtc': '2021-02-28T15:36:20.936555Z',\n",
              " 'endTimeUtc': '2021-02-28T16:50:23.271785Z',\n",
              " 'properties': {'num_iterations': '1000',\n",
              "  'training_type': 'TrainFull',\n",
              "  'acquisition_function': 'EI',\n",
              "  'primary_metric': 'accuracy',\n",
              "  'train_split': '0',\n",
              "  'acquisition_parameter': '0',\n",
              "  'num_cross_validation': None,\n",
              "  'target': 'cpucluster',\n",
              "  'AMLSettingsJsonString': '{\"path\":null,\"name\":\"Heart_AutoML\",\"subscription_id\":\"81cefad3-d2c9-4f77-a466-99a7f541c7bb\",\"resource_group\":\"aml-quickstarts-139614\",\"workspace_name\":\"quick-starts-ws-139614\",\"region\":\"southcentralus\",\"compute_target\":\"cpucluster\",\"spark_service\":null,\"azure_service\":\"remote\",\"many_models\":false,\"pipeline_fetch_max_batch_size\":1,\"iterations\":1000,\"primary_metric\":\"accuracy\",\"task_type\":\"classification\",\"data_script\":null,\"validation_size\":0.0,\"n_cross_validations\":null,\"y_min\":null,\"y_max\":null,\"num_classes\":null,\"featurization\":\"auto\",\"_ignore_package_version_incompatibilities\":false,\"is_timeseries\":false,\"max_cores_per_iteration\":1,\"max_concurrent_iterations\":1,\"iteration_timeout_minutes\":null,\"mem_in_mb\":null,\"enforce_time_on_windows\":false,\"experiment_timeout_minutes\":60,\"experiment_exit_score\":null,\"whitelist_models\":null,\"blacklist_algos\":[\"TensorFlowLinearClassifier\",\"TensorFlowDNN\"],\"supported_models\":[\"ExtremeRandomTrees\",\"SGD\",\"GradientBoosting\",\"LogisticRegression\",\"RandomForest\",\"LightGBM\",\"XGBoostClassifier\",\"KNN\",\"AveragedPerceptronClassifier\",\"TensorFlowLinearClassifier\",\"DecisionTree\",\"TensorFlowDNN\",\"SVM\",\"LinearSVM\",\"BernoulliNaiveBayes\",\"MultinomialNaiveBayes\"],\"private_models\":[],\"auto_blacklist\":true,\"blacklist_samples_reached\":false,\"exclude_nan_labels\":true,\"verbosity\":20,\"_debug_log\":\"azureml_automl.log\",\"show_warnings\":false,\"model_explainability\":true,\"service_url\":null,\"sdk_url\":null,\"sdk_packages\":null,\"enable_onnx_compatible_models\":false,\"enable_split_onnx_featurizer_estimator_models\":false,\"vm_type\":\"STANDARD_D2_V2\",\"telemetry_verbosity\":20,\"send_telemetry\":true,\"enable_dnn\":false,\"scenario\":\"SDK-1.13.0\",\"environment_label\":null,\"force_text_dnn\":false,\"enable_feature_sweeping\":true,\"enable_early_stopping\":false,\"early_stopping_n_iters\":10,\"metrics\":null,\"enable_ensembling\":true,\"enable_stack_ensembling\":true,\"ensemble_iterations\":15,\"enable_tf\":false,\"enable_subsampling\":null,\"subsample_seed\":null,\"enable_nimbusml\":false,\"enable_streaming\":false,\"force_streaming\":false,\"track_child_runs\":true,\"allowed_private_models\":[],\"label_column_name\":\"target\",\"weight_column_name\":null,\"cv_split_column_names\":null,\"enable_local_managed\":false,\"_local_managed_run_id\":null,\"cost_mode\":1,\"lag_length\":0,\"metric_operation\":\"maximize\",\"preprocess\":true}',\n",
              "  'DataPrepJsonString': '{\\\\\"training_data\\\\\": \\\\\"{\\\\\\\\\\\\\"blocks\\\\\\\\\\\\\": [{\\\\\\\\\\\\\"id\\\\\\\\\\\\\": \\\\\\\\\\\\\"031927cc-ea57-4b36-8962-bdfdc6a313a9\\\\\\\\\\\\\", \\\\\\\\\\\\\"type\\\\\\\\\\\\\": \\\\\\\\\\\\\"Microsoft.DPrep.GetDatastoreFilesBlock\\\\\\\\\\\\\", \\\\\\\\\\\\\"arguments\\\\\\\\\\\\\": {\\\\\\\\\\\\\"datastores\\\\\\\\\\\\\": [{\\\\\\\\\\\\\"datastoreName\\\\\\\\\\\\\": \\\\\\\\\\\\\"workspaceblobstore\\\\\\\\\\\\\", \\\\\\\\\\\\\"path\\\\\\\\\\\\\": \\\\\\\\\\\\\"data/train-data.csv\\\\\\\\\\\\\", \\\\\\\\\\\\\"resourceGroup\\\\\\\\\\\\\": \\\\\\\\\\\\\"aml-quickstarts-139614\\\\\\\\\\\\\", \\\\\\\\\\\\\"subscription\\\\\\\\\\\\\": \\\\\\\\\\\\\"81cefad3-d2c9-4f77-a466-99a7f541c7bb\\\\\\\\\\\\\", \\\\\\\\\\\\\"workspaceName\\\\\\\\\\\\\": \\\\\\\\\\\\\"quick-starts-ws-139614\\\\\\\\\\\\\"}]}, \\\\\\\\\\\\\"localData\\\\\\\\\\\\\": {}, \\\\\\\\\\\\\"isEnabled\\\\\\\\\\\\\": true, \\\\\\\\\\\\\"name\\\\\\\\\\\\\": null, \\\\\\\\\\\\\"annotation\\\\\\\\\\\\\": null}, {\\\\\\\\\\\\\"id\\\\\\\\\\\\\": \\\\\\\\\\\\\"b8ac3a0e-c415-42e2-a3d1-2214dbb0a946\\\\\\\\\\\\\", \\\\\\\\\\\\\"type\\\\\\\\\\\\\": \\\\\\\\\\\\\"Microsoft.DPrep.ParseDelimitedBlock\\\\\\\\\\\\\", \\\\\\\\\\\\\"arguments\\\\\\\\\\\\\": {\\\\\\\\\\\\\"columnHeadersMode\\\\\\\\\\\\\": 3, \\\\\\\\\\\\\"fileEncoding\\\\\\\\\\\\\": 0, \\\\\\\\\\\\\"handleQuotedLineBreaks\\\\\\\\\\\\\": false, \\\\\\\\\\\\\"preview\\\\\\\\\\\\\": false, \\\\\\\\\\\\\"separator\\\\\\\\\\\\\": \\\\\\\\\\\\\",\\\\\\\\\\\\\", \\\\\\\\\\\\\"skipRows\\\\\\\\\\\\\": 0, \\\\\\\\\\\\\"skipRowsMode\\\\\\\\\\\\\": 0}, \\\\\\\\\\\\\"localData\\\\\\\\\\\\\": {}, \\\\\\\\\\\\\"isEnabled\\\\\\\\\\\\\": true, \\\\\\\\\\\\\"name\\\\\\\\\\\\\": null, \\\\\\\\\\\\\"annotation\\\\\\\\\\\\\": null}, {\\\\\\\\\\\\\"id\\\\\\\\\\\\\": \\\\\\\\\\\\\"8d78fc83-e67c-4078-b06f-d2bc9957354d\\\\\\\\\\\\\", \\\\\\\\\\\\\"type\\\\\\\\\\\\\": \\\\\\\\\\\\\"Microsoft.DPrep.DropColumnsBlock\\\\\\\\\\\\\", \\\\\\\\\\\\\"arguments\\\\\\\\\\\\\": {\\\\\\\\\\\\\"columns\\\\\\\\\\\\\": {\\\\\\\\\\\\\"type\\\\\\\\\\\\\": 0, \\\\\\\\\\\\\"details\\\\\\\\\\\\\": {\\\\\\\\\\\\\"selectedColumns\\\\\\\\\\\\\": [\\\\\\\\\\\\\"Path\\\\\\\\\\\\\"]}}}, \\\\\\\\\\\\\"localData\\\\\\\\\\\\\": {}, \\\\\\\\\\\\\"isEnabled\\\\\\\\\\\\\": true, \\\\\\\\\\\\\"name\\\\\\\\\\\\\": null, \\\\\\\\\\\\\"annotation\\\\\\\\\\\\\": null}, {\\\\\\\\\\\\\"id\\\\\\\\\\\\\": \\\\\\\\\\\\\"d315f1ca-c188-4c54-b2e2-843c42ff2d35\\\\\\\\\\\\\", \\\\\\\\\\\\\"type\\\\\\\\\\\\\": \\\\\\\\\\\\\"Microsoft.DPrep.SetColumnTypesBlock\\\\\\\\\\\\\", \\\\\\\\\\\\\"arguments\\\\\\\\\\\\\": {\\\\\\\\\\\\\"columnConversion\\\\\\\\\\\\\": [{\\\\\\\\\\\\\"column\\\\\\\\\\\\\": {\\\\\\\\\\\\\"type\\\\\\\\\\\\\": 2, \\\\\\\\\\\\\"details\\\\\\\\\\\\\": {\\\\\\\\\\\\\"selectedColumn\\\\\\\\\\\\\": \\\\\\\\\\\\\"Column1\\\\\\\\\\\\\"}}, \\\\\\\\\\\\\"typeProperty\\\\\\\\\\\\\": 2}, {\\\\\\\\\\\\\"column\\\\\\\\\\\\\": {\\\\\\\\\\\\\"type\\\\\\\\\\\\\": 2, \\\\\\\\\\\\\"details\\\\\\\\\\\\\": {\\\\\\\\\\\\\"selectedColumn\\\\\\\\\\\\\": \\\\\\\\\\\\\"age\\\\\\\\\\\\\"}}, \\\\\\\\\\\\\"typeProperty\\\\\\\\\\\\\": 2}, {\\\\\\\\\\\\\"column\\\\\\\\\\\\\": {\\\\\\\\\\\\\"type\\\\\\\\\\\\\": 2, \\\\\\\\\\\\\"details\\\\\\\\\\\\\": {\\\\\\\\\\\\\"selectedColumn\\\\\\\\\\\\\": \\\\\\\\\\\\\"sex\\\\\\\\\\\\\"}}, \\\\\\\\\\\\\"typeProperty\\\\\\\\\\\\\": 2}, {\\\\\\\\\\\\\"column\\\\\\\\\\\\\": {\\\\\\\\\\\\\"type\\\\\\\\\\\\\": 2, \\\\\\\\\\\\\"details\\\\\\\\\\\\\": {\\\\\\\\\\\\\"selectedColumn\\\\\\\\\\\\\": \\\\\\\\\\\\\"cp\\\\\\\\\\\\\"}}, \\\\\\\\\\\\\"typeProperty\\\\\\\\\\\\\": 2}, {\\\\\\\\\\\\\"column\\\\\\\\\\\\\": {\\\\\\\\\\\\\"type\\\\\\\\\\\\\": 2, \\\\\\\\\\\\\"details\\\\\\\\\\\\\": {\\\\\\\\\\\\\"selectedColumn\\\\\\\\\\\\\": \\\\\\\\\\\\\"trestbps\\\\\\\\\\\\\"}}, \\\\\\\\\\\\\"typeProperty\\\\\\\\\\\\\": 2}, {\\\\\\\\\\\\\"column\\\\\\\\\\\\\": {\\\\\\\\\\\\\"type\\\\\\\\\\\\\": 2, \\\\\\\\\\\\\"details\\\\\\\\\\\\\": {\\\\\\\\\\\\\"selectedColumn\\\\\\\\\\\\\": \\\\\\\\\\\\\"chol\\\\\\\\\\\\\"}}, \\\\\\\\\\\\\"typeProperty\\\\\\\\\\\\\": 2}, {\\\\\\\\\\\\\"column\\\\\\\\\\\\\": {\\\\\\\\\\\\\"type\\\\\\\\\\\\\": 2, \\\\\\\\\\\\\"details\\\\\\\\\\\\\": {\\\\\\\\\\\\\"selectedColumn\\\\\\\\\\\\\": \\\\\\\\\\\\\"fbs\\\\\\\\\\\\\"}}, \\\\\\\\\\\\\"typeProperty\\\\\\\\\\\\\": 2}, {\\\\\\\\\\\\\"column\\\\\\\\\\\\\": {\\\\\\\\\\\\\"type\\\\\\\\\\\\\": 2, \\\\\\\\\\\\\"details\\\\\\\\\\\\\": {\\\\\\\\\\\\\"selectedColumn\\\\\\\\\\\\\": \\\\\\\\\\\\\"restecg\\\\\\\\\\\\\"}}, \\\\\\\\\\\\\"typeProperty\\\\\\\\\\\\\": 2}, {\\\\\\\\\\\\\"column\\\\\\\\\\\\\": {\\\\\\\\\\\\\"type\\\\\\\\\\\\\": 2, \\\\\\\\\\\\\"details\\\\\\\\\\\\\": {\\\\\\\\\\\\\"selectedColumn\\\\\\\\\\\\\": \\\\\\\\\\\\\"thalach\\\\\\\\\\\\\"}}, \\\\\\\\\\\\\"typeProperty\\\\\\\\\\\\\": 2}, {\\\\\\\\\\\\\"column\\\\\\\\\\\\\": {\\\\\\\\\\\\\"type\\\\\\\\\\\\\": 2, \\\\\\\\\\\\\"details\\\\\\\\\\\\\": {\\\\\\\\\\\\\"selectedColumn\\\\\\\\\\\\\": \\\\\\\\\\\\\"exang\\\\\\\\\\\\\"}}, \\\\\\\\\\\\\"typeProperty\\\\\\\\\\\\\": 2}, {\\\\\\\\\\\\\"column\\\\\\\\\\\\\": {\\\\\\\\\\\\\"type\\\\\\\\\\\\\": 2, \\\\\\\\\\\\\"details\\\\\\\\\\\\\": {\\\\\\\\\\\\\"selectedColumn\\\\\\\\\\\\\": \\\\\\\\\\\\\"oldpeak\\\\\\\\\\\\\"}}, \\\\\\\\\\\\\"typeProperty\\\\\\\\\\\\\": 3}, {\\\\\\\\\\\\\"column\\\\\\\\\\\\\": {\\\\\\\\\\\\\"type\\\\\\\\\\\\\": 2, \\\\\\\\\\\\\"details\\\\\\\\\\\\\": {\\\\\\\\\\\\\"selectedColumn\\\\\\\\\\\\\": \\\\\\\\\\\\\"slope\\\\\\\\\\\\\"}}, \\\\\\\\\\\\\"typeProperty\\\\\\\\\\\\\": 2}, {\\\\\\\\\\\\\"column\\\\\\\\\\\\\": {\\\\\\\\\\\\\"type\\\\\\\\\\\\\": 2, \\\\\\\\\\\\\"details\\\\\\\\\\\\\": {\\\\\\\\\\\\\"selectedColumn\\\\\\\\\\\\\": \\\\\\\\\\\\\"ca\\\\\\\\\\\\\"}}, \\\\\\\\\\\\\"typeProperty\\\\\\\\\\\\\": 2}, {\\\\\\\\\\\\\"column\\\\\\\\\\\\\": {\\\\\\\\\\\\\"type\\\\\\\\\\\\\": 2, \\\\\\\\\\\\\"details\\\\\\\\\\\\\": {\\\\\\\\\\\\\"selectedColumn\\\\\\\\\\\\\": \\\\\\\\\\\\\"thal\\\\\\\\\\\\\"}}, \\\\\\\\\\\\\"typeProperty\\\\\\\\\\\\\": 2}, {\\\\\\\\\\\\\"column\\\\\\\\\\\\\": {\\\\\\\\\\\\\"type\\\\\\\\\\\\\": 2, \\\\\\\\\\\\\"details\\\\\\\\\\\\\": {\\\\\\\\\\\\\"selectedColumn\\\\\\\\\\\\\": \\\\\\\\\\\\\"target\\\\\\\\\\\\\"}}, \\\\\\\\\\\\\"typeProperty\\\\\\\\\\\\\": 2}]}, \\\\\\\\\\\\\"localData\\\\\\\\\\\\\": {}, \\\\\\\\\\\\\"isEnabled\\\\\\\\\\\\\": true, \\\\\\\\\\\\\"name\\\\\\\\\\\\\": null, \\\\\\\\\\\\\"annotation\\\\\\\\\\\\\": null}], \\\\\\\\\\\\\"inspectors\\\\\\\\\\\\\": [], \\\\\\\\\\\\\"meta\\\\\\\\\\\\\": {\\\\\\\\\\\\\"savedDatasetId\\\\\\\\\\\\\": \\\\\\\\\\\\\"3bab434f-8a8d-4536-aeda-1b677ef09efe\\\\\\\\\\\\\", \\\\\\\\\\\\\"datasetType\\\\\\\\\\\\\": \\\\\\\\\\\\\"tabular\\\\\\\\\\\\\", \\\\\\\\\\\\\"subscriptionId\\\\\\\\\\\\\": \\\\\\\\\\\\\"81cefad3-d2c9-4f77-a466-99a7f541c7bb\\\\\\\\\\\\\", \\\\\\\\\\\\\"workspaceId\\\\\\\\\\\\\": \\\\\\\\\\\\\"197f0456-dcfb-42d5-a031-95673d079fd5\\\\\\\\\\\\\", \\\\\\\\\\\\\"workspaceLocation\\\\\\\\\\\\\": \\\\\\\\\\\\\"southcentralus\\\\\\\\\\\\\"}}\\\\\", \\\\\"activities\\\\\": 0}',\n",
              "  'EnableSubsampling': None,\n",
              "  'runTemplate': 'AutoML',\n",
              "  'azureml.runsource': 'automl',\n",
              "  'display_task_type': 'classification',\n",
              "  'dependencies_versions': '{\"azureml-widgets\": \"1.22.0\", \"azureml-train\": \"1.22.0\", \"azureml-train-restclients-hyperdrive\": \"1.22.0\", \"azureml-train-core\": \"1.22.0\", \"azureml-train-automl\": \"1.22.0\", \"azureml-train-automl-runtime\": \"1.22.0\", \"azureml-train-automl-client\": \"1.22.0\", \"azureml-tensorboard\": \"1.22.0\", \"azureml-telemetry\": \"1.22.0\", \"azureml-sdk\": \"1.22.0\", \"azureml-samples\": \"0+unknown\", \"azureml-pipeline\": \"1.22.0\", \"azureml-pipeline-steps\": \"1.22.0\", \"azureml-pipeline-core\": \"1.22.0\", \"azureml-opendatasets\": \"1.22.0\", \"azureml-model-management-sdk\": \"1.0.1b6.post1\", \"azureml-mlflow\": \"1.22.0\", \"azureml-interpret\": \"1.22.0\", \"azureml-explain-model\": \"1.22.0\", \"azureml-defaults\": \"1.22.0\", \"azureml-dataset-runtime\": \"1.22.0\", \"azureml-dataprep\": \"2.9.1\", \"azureml-dataprep-rslex\": \"1.7.0\", \"azureml-dataprep-native\": \"29.0.0\", \"azureml-datadrift\": \"1.22.0\", \"azureml-core\": \"1.22.0\", \"azureml-contrib-services\": \"1.22.0\", \"azureml-contrib-server\": \"1.22.0\", \"azureml-contrib-reinforcementlearning\": \"1.22.0\", \"azureml-contrib-pipeline-steps\": \"1.22.0\", \"azureml-contrib-notebook\": \"1.22.0\", \"azureml-contrib-interpret\": \"1.22.0\", \"azureml-contrib-gbdt\": \"1.22.0\", \"azureml-contrib-fairness\": \"1.22.0\", \"azureml-contrib-dataset\": \"1.22.0\", \"azureml-cli-common\": \"1.22.0\", \"azureml-automl-runtime\": \"1.22.0\", \"azureml-automl-core\": \"1.22.0\", \"azureml-accel-models\": \"1.22.0\"}',\n",
              "  '_aml_system_scenario_identification': 'Remote.Parent',\n",
              "  'ClientType': 'SDK',\n",
              "  'environment_cpu_name': 'AzureML-AutoML',\n",
              "  'environment_cpu_label': 'prod',\n",
              "  'environment_gpu_name': 'AzureML-AutoML-GPU',\n",
              "  'environment_gpu_label': 'prod',\n",
              "  'root_attribution': 'automl',\n",
              "  'attribution': 'AutoML',\n",
              "  'Orchestrator': 'AutoML',\n",
              "  'CancelUri': 'https://southcentralus.experiments.azureml.net/jasmine/v1.0/subscriptions/81cefad3-d2c9-4f77-a466-99a7f541c7bb/resourceGroups/aml-quickstarts-139614/providers/Microsoft.MachineLearningServices/workspaces/quick-starts-ws-139614/experimentids/962b21b0-2b6e-473d-8493-0a3243af2094/cancel/AutoML_a42712d0-9994-4bec-81a9-4135c416679d',\n",
              "  'ClientSdkVersion': '1.22.0',\n",
              "  'snapshotId': '00000000-0000-0000-0000-000000000000',\n",
              "  'SetupRunId': 'AutoML_a42712d0-9994-4bec-81a9-4135c416679d_setup',\n",
              "  'SetupRunContainerId': 'dcid.AutoML_a42712d0-9994-4bec-81a9-4135c416679d_setup',\n",
              "  'FeaturizationRunJsonPath': 'featurizer_container.json',\n",
              "  'FeaturizationRunId': 'AutoML_a42712d0-9994-4bec-81a9-4135c416679d_featurize',\n",
              "  'ProblemInfoJsonString': '{\"dataset_num_categorical\": 0, \"is_sparse\": true, \"subsampling\": false, \"dataset_classes\": 2, \"dataset_features\": 28, \"dataset_samples\": 242, \"single_frequency_class_detected\": false}',\n",
              "  'ModelExplainRunId': 'AutoML_a42712d0-9994-4bec-81a9-4135c416679d_ModelExplain'},\n",
              " 'inputDatasets': [{'dataset': {'id': '3bab434f-8a8d-4536-aeda-1b677ef09efe'}, 'consumptionDetails': {'type': 'RunInput', 'inputName': 'training_data', 'mechanism': 'Direct'}}],\n",
              " 'outputDatasets': [],\n",
              " 'logFiles': {},\n",
              " 'submittedBy': 'ODL_User 139614'}"
            ]
          },
          "metadata": {
            "tags": []
          },
          "execution_count": 10
        }
      ]
    },
    {
      "cell_type": "markdown",
      "metadata": {
        "id": "NE1_eNkbz_VE"
      },
      "source": [
        "## Best Model\n",
        "\n",
        "TODO: In the cell below, get the best model from the automl experiments and display all the properties of the model.\n",
        "\n"
      ]
    },
    {
      "cell_type": "code",
      "metadata": {
        "gather": {
          "logged": 1614531866144
        },
        "jupyter": {
          "outputs_hidden": false,
          "source_hidden": false
        },
        "nteract": {
          "transient": {
            "deleting": false
          }
        },
        "id": "cTy6Sxrgz_VF",
        "outputId": "110ce088-d05d-43a8-c5df-7d86c7e08630"
      },
      "source": [
        "best_run, fitted_model = remote_run.get_output()\r\n",
        "\r\n",
        "print(best_run)"
      ],
      "execution_count": null,
      "outputs": [
        {
          "output_type": "stream",
          "text": [
            "Run(Experiment: Heart_AutoML,\n",
            "Id: AutoML_a42712d0-9994-4bec-81a9-4135c416679d_0,\n",
            "Type: azureml.scriptrun,\n",
            "Status: Completed)\n"
          ],
          "name": "stdout"
        }
      ]
    },
    {
      "cell_type": "code",
      "metadata": {
        "id": "9GxdtIABdxJu",
        "gather": {
          "logged": 1614531876007
        },
        "outputId": "748bb7a2-18bf-496d-e4c1-6871c74f078d"
      },
      "source": [
        "print(fitted_model)"
      ],
      "execution_count": null,
      "outputs": [
        {
          "output_type": "stream",
          "text": [
            "Pipeline(memory=None,\n",
            "         steps=[('datatransformer',\n",
            "                 DataTransformer(enable_dnn=None, enable_feature_sweeping=None,\n",
            "                                 feature_sweeping_config=None,\n",
            "                                 feature_sweeping_timeout=None,\n",
            "                                 featurization_config=None, force_text_dnn=None,\n",
            "                                 is_cross_validation=None,\n",
            "                                 is_onnx_compatible=None, logger=None,\n",
            "                                 observer=None, task=None, working_dir=None)),\n",
            "                ('MaxAbsScaler', MaxAbsScaler(copy...\n",
            "                 LightGBMClassifier(boosting_type='gbdt', class_weight=None,\n",
            "                                    colsample_bytree=1.0,\n",
            "                                    importance_type='split', learning_rate=0.1,\n",
            "                                    max_depth=-1, min_child_samples=20,\n",
            "                                    min_child_weight=0.001, min_split_gain=0.0,\n",
            "                                    n_estimators=100, n_jobs=1, num_leaves=31,\n",
            "                                    objective=None, random_state=None,\n",
            "                                    reg_alpha=0.0, reg_lambda=0.0, silent=True,\n",
            "                                    subsample=1.0, subsample_for_bin=200000,\n",
            "                                    subsample_freq=0, verbose=-10))],\n",
            "         verbose=False)\n"
          ],
          "name": "stdout"
        }
      ]
    },
    {
      "cell_type": "code",
      "metadata": {
        "id": "tnoFyBLId12z",
        "gather": {
          "logged": 1614531883914
        },
        "outputId": "0d808157-792b-44ea-c368-54b933de0225"
      },
      "source": [
        "best_run.get_tags()"
      ],
      "execution_count": null,
      "outputs": [
        {
          "output_type": "execute_result",
          "data": {
            "text/plain": [
              "{'_aml_system_azureml.automlComponent': 'AutoML',\n",
              " '_aml_system_ComputeTargetStatus': '{\"AllocationState\":\"steady\",\"PreparingNodeCount\":0,\"RunningNodeCount\":1,\"CurrentNodeCount\":1}',\n",
              " '_aml_system_automl_is_child_run_end_telemetry_event_logged': 'True'}"
            ]
          },
          "metadata": {
            "tags": []
          },
          "execution_count": 13
        }
      ]
    },
    {
      "cell_type": "code",
      "metadata": {
        "id": "I2MBLDG5d4D8",
        "gather": {
          "logged": 1614531954560
        },
        "outputId": "67da5e10-15a8-48f4-b474-5e4b81ec35b6"
      },
      "source": [
        "metrics = best_run.get_metrics()\r\n",
        "metrics['accuracy']"
      ],
      "execution_count": null,
      "outputs": [
        {
          "output_type": "execute_result",
          "data": {
            "text/plain": [
              "1.0"
            ]
          },
          "metadata": {
            "tags": []
          },
          "execution_count": 14
        }
      ]
    },
    {
      "cell_type": "code",
      "metadata": {
        "gather": {
          "logged": 1614531996587
        },
        "jupyter": {
          "outputs_hidden": false,
          "source_hidden": false
        },
        "nteract": {
          "transient": {
            "deleting": false
          }
        },
        "id": "YI88Mbqcz_VG"
      },
      "source": [
        "#TODO: Save the best model\r\n",
        "\r\n",
        "import joblib\r\n",
        "from azureml.core.model import Model\r\n",
        "\r\n",
        "description = \"Heart Dataset\"\r\n",
        "\r\n",
        "os.makedirs('outputs', exist_ok=True)\r\n",
        "joblib.dump(fitted_model, filename=\"outputs/automl-model.pkl\")\r\n",
        "automl_model = remote_run.register_model(model_name='Heart_AutoML', description=description)"
      ],
      "execution_count": null,
      "outputs": []
    },
    {
      "cell_type": "markdown",
      "metadata": {
        "id": "EjVW_-KUz_VG"
      },
      "source": [
        "## Model Deployment\n",
        "\n",
        "In the cell below, register the model, create an inference config and deploy the model as a web service."
      ]
    },
    {
      "cell_type": "code",
      "metadata": {
        "gather": {
          "logged": 1614532004192
        },
        "jupyter": {
          "outputs_hidden": false,
          "source_hidden": false
        },
        "nteract": {
          "transient": {
            "deleting": false
          }
        },
        "id": "_1CkOey6z_VH"
      },
      "source": [
        "\r\n",
        "from azureml.core.webservice import AciWebservice\r\n",
        "\r\n",
        "aci_config = AciWebservice.deploy_configuration(\r\n",
        "    cpu_cores=1,\r\n",
        "    memory_gb=1,\r\n",
        "    description='Heart AutoML Model',\r\n",
        "    auth_enabled=True\r\n",
        ")"
      ],
      "execution_count": null,
      "outputs": []
    },
    {
      "cell_type": "code",
      "metadata": {
        "id": "_WXkhpZ8eSc8",
        "gather": {
          "logged": 1614532261997
        },
        "outputId": "93e086d4-c532-4aa1-c5a0-60a60e25a479"
      },
      "source": [
        "from azureml.core.webservice import Webservice\r\n",
        "from azureml.core.model import InferenceConfig\r\n",
        "from azureml.core.environment import Environment\r\n",
        "from azureml.core import Workspace\r\n",
        "from azureml.core.model import Model\r\n",
        "from azureml.automl.core.shared import constants\r\n",
        "\r\n",
        "model = Model(ws, 'Heart_AutoML')\r\n",
        "\r\n",
        "\r\n",
        "myenv = best_run.get_environment()\r\n",
        "entry_script = 'score.py'\r\n",
        "best_run.download_file('outputs/scoring_file_v_1_0_0.py', entry_script)\r\n",
        "best_run.download_file(constants.CONDA_ENV_FILE_PATH, 'myenv.yml')\r\n",
        "\r\n",
        "inference_config = InferenceConfig(entry_script=entry_script, environment=myenv)\r\n",
        "\r\n",
        "service = Model.deploy(workspace=ws, \r\n",
        "                       name='automl', \r\n",
        "                       models=[model], \r\n",
        "                       inference_config=inference_config, \r\n",
        "                       deployment_config=aci_config)\r\n",
        "\r\n",
        "service.wait_for_deployment(show_output=True)"
      ],
      "execution_count": null,
      "outputs": [
        {
          "output_type": "stream",
          "text": [
            "Tips: You can try get_logs(): https://aka.ms/debugimage#dockerlog or local deployment: https://aka.ms/debugimage#debug-locally to debug if deployment takes longer than 10 minutes.\n",
            "Running...........................................\n",
            "Succeeded\n",
            "ACI service creation operation finished, operation \"Succeeded\"\n"
          ],
          "name": "stdout"
        }
      ]
    },
    {
      "cell_type": "markdown",
      "metadata": {
        "collapsed": true,
        "gather": {
          "logged": 1598431657736
        },
        "jupyter": {
          "outputs_hidden": false,
          "source_hidden": false
        },
        "nteract": {
          "transient": {
            "deleting": false
          }
        },
        "id": "f8PB81Pmz_VI"
      },
      "source": [
        "In the cell below, send a request to the web service you deployed to test it."
      ]
    },
    {
      "cell_type": "code",
      "metadata": {
        "gather": {
          "logged": 1614532272894
        },
        "jupyter": {
          "outputs_hidden": false,
          "source_hidden": false
        },
        "nteract": {
          "transient": {
            "deleting": false
          }
        },
        "id": "QQDl2lZCz_VJ"
      },
      "source": [
        "service.update(enable_app_insights=True)"
      ],
      "execution_count": null,
      "outputs": []
    },
    {
      "cell_type": "code",
      "metadata": {
        "id": "YpnSc1ENebxQ",
        "gather": {
          "logged": 1614532294646
        },
        "outputId": "d6dd112a-2596-493b-e11c-43a583b2279a"
      },
      "source": [
        "print(\"State \"+ service.state)\r\n",
        "print(\"Key \" + service.get_keys()[0])\r\n",
        "print(\"Swagger URI \" + service.swagger_uri)\r\n",
        "print(\"Scoring URI \" + service.scoring_uri)"
      ],
      "execution_count": null,
      "outputs": [
        {
          "output_type": "stream",
          "text": [
            "State Healthy\n",
            "Key SPVQXTA00qrUBcfQN0eKRsn3AyiKSv24\n",
            "Swagger URI http://cbce5c7c-b362-49f5-891c-e62d284d6831.southcentralus.azurecontainer.io/swagger.json\n",
            "Scoring URI http://cbce5c7c-b362-49f5-891c-e62d284d6831.southcentralus.azurecontainer.io/score\n"
          ],
          "name": "stdout"
        }
      ]
    },
    {
      "cell_type": "code",
      "metadata": {
        "id": "8tlVj1MtegwD",
        "outputId": "c8acb3f7-b039-4cef-e097-026e970c0fbe"
      },
      "source": [
        "%run endpoint.py"
      ],
      "execution_count": null,
      "outputs": [
        {
          "output_type": "stream",
          "text": [
            "{\"result\": [1, 0]}\n"
          ],
          "name": "stdout"
        }
      ]
    },
    {
      "cell_type": "markdown",
      "metadata": {
        "collapsed": true,
        "gather": {
          "logged": 1598432765711
        },
        "jupyter": {
          "outputs_hidden": false,
          "source_hidden": false
        },
        "nteract": {
          "transient": {
            "deleting": false
          }
        },
        "id": "G_aN8X-0z_VJ"
      },
      "source": [
        "In the cell below, print the logs of the web service and delete the service"
      ]
    },
    {
      "cell_type": "code",
      "metadata": {
        "id": "tGixpjHgewJ4",
        "gather": {
          "logged": 1614535101051
        },
        "outputId": "78db7420-1bef-48b5-e101-5fd4f899c764"
      },
      "source": [
        "print(service.get_logs())"
      ],
      "execution_count": null,
      "outputs": [
        {
          "output_type": "stream",
          "text": [
            "2021-02-28T17:19:55,357322800+00:00 - iot-server/run \n",
            "2021-02-28T17:19:55,364538500+00:00 - rsyslog/run \n",
            "2021-02-28T17:19:55,360277400+00:00 - gunicorn/run \n",
            "2021-02-28T17:19:55,428677100+00:00 - nginx/run \n",
            "/usr/sbin/nginx: /azureml-envs/azureml_09ff55f546b313bb1ab136a466214499/lib/libcrypto.so.1.0.0: no version information available (required by /usr/sbin/nginx)\n",
            "/usr/sbin/nginx: /azureml-envs/azureml_09ff55f546b313bb1ab136a466214499/lib/libcrypto.so.1.0.0: no version information available (required by /usr/sbin/nginx)\n",
            "/usr/sbin/nginx: /azureml-envs/azureml_09ff55f546b313bb1ab136a466214499/lib/libssl.so.1.0.0: no version information available (required by /usr/sbin/nginx)\n",
            "/usr/sbin/nginx: /azureml-envs/azureml_09ff55f546b313bb1ab136a466214499/lib/libssl.so.1.0.0: no version information available (required by /usr/sbin/nginx)\n",
            "/usr/sbin/nginx: /azureml-envs/azureml_09ff55f546b313bb1ab136a466214499/lib/libssl.so.1.0.0: no version information available (required by /usr/sbin/nginx)\n",
            "rsyslogd: /azureml-envs/azureml_09ff55f546b313bb1ab136a466214499/lib/libuuid.so.1: no version information available (required by rsyslogd)\n",
            "EdgeHubConnectionString and IOTEDGE_IOTHUBHOSTNAME are not set. Exiting...\n",
            "2021-02-28T17:19:59,402574900+00:00 - iot-server/finish 1 0\n",
            "2021-02-28T17:19:59,406239300+00:00 - Exit code 1 is normal. Not restarting iot-server.\n",
            "Starting gunicorn 19.9.0\n",
            "Listening at: http://127.0.0.1:31311 (69)\n",
            "Using worker: sync\n",
            "worker timeout is set to 300\n",
            "Booting worker with pid: 98\n",
            "SPARK_HOME not set. Skipping PySpark Initialization.\n",
            "Generating new fontManager, this may take some time...\n",
            "Initializing logger\n",
            "2021-02-28 17:20:07,300 | root | INFO | Starting up app insights client\n",
            "2021-02-28 17:20:07,301 | root | INFO | Starting up request id generator\n",
            "2021-02-28 17:20:07,301 | root | INFO | Starting up app insight hooks\n",
            "2021-02-28 17:20:07,302 | root | INFO | Invoking user's init function\n",
            "2021-02-28 17:20:22,921 | root | INFO | Users's init has completed successfully\n",
            "2021-02-28 17:20:22,975 | root | INFO | Skipping middleware: dbg_model_info as it's not enabled.\n",
            "2021-02-28 17:20:22,975 | root | INFO | Skipping middleware: dbg_resource_usage as it's not enabled.\n",
            "2021-02-28 17:20:22,977 | root | INFO | Scoring timeout is found from os.environ: 60000 ms\n",
            "2021-02-28 17:20:22,993 | root | INFO | 200\n",
            "127.0.0.1 - - [28/Feb/2021:17:20:22 +0000] \"GET /swagger.json HTTP/1.0\" 200 2798 \"-\" \"Go-http-client/1.1\"\n",
            "2021-02-28 17:23:18,482 | root | INFO | Validation Request Content-Type\n",
            "2021-02-28 17:23:18,483 | root | INFO | Scoring Timer is set to 60.0 seconds\n",
            "2021-02-28 17:23:18,499 | root | INFO | 200\n",
            "127.0.0.1 - - [28/Feb/2021:17:23:18 +0000] \"POST /score HTTP/1.0\" 200 640 \"-\" \"python-requests/2.25.1\"\n",
            "2021-02-28 17:37:48,738 | root | INFO | Validation Request Content-Type\n",
            "2021-02-28 17:37:48,740 | root | INFO | Scoring Timer is set to 60.0 seconds\n",
            "2021-02-28 17:37:48,757 | root | INFO | 200\n",
            "127.0.0.1 - - [28/Feb/2021:17:37:48 +0000] \"POST /score HTTP/1.0\" 200 640 \"-\" \"python-requests/2.25.1\"\n",
            "2021-02-28 17:57:15,946 | root | INFO | Validation Request Content-Type\n",
            "2021-02-28 17:57:15,950 | root | INFO | Scoring Timer is set to 60.0 seconds\n",
            "2021-02-28 17:57:16,081 | root | INFO | 200\n",
            "127.0.0.1 - - [28/Feb/2021:17:57:16 +0000] \"POST /score HTTP/1.0\" 200 22 \"-\" \"python-requests/2.25.1\"\n",
            "\n"
          ],
          "name": "stdout"
        }
      ]
    },
    {
      "cell_type": "code",
      "metadata": {
        "jupyter": {
          "outputs_hidden": false,
          "source_hidden": false
        },
        "nteract": {
          "transient": {
            "deleting": false
          }
        },
        "id": "HHopkl2Yz_VK",
        "gather": {
          "logged": 1614535244856
        },
        "outputId": "cb00651c-ad2a-4eb9-dca7-4dd3d57c3d77"
      },
      "source": [
        "service.delete()\r\n",
        "cpu_cluster.delete()"
      ],
      "execution_count": null,
      "outputs": [
        {
          "output_type": "stream",
          "text": [
            "Current provisioning state of AmlCompute is \"Deleting\"\n",
            "\n"
          ],
          "name": "stdout"
        }
      ]
    }
  ]
}